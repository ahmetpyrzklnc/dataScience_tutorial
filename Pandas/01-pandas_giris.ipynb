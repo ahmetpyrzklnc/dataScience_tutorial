{
 "cells": [
  {
   "cell_type": "code",
   "execution_count": 1,
   "id": "0c704cff-379c-4285-ad63-097ecf5db295",
   "metadata": {},
   "outputs": [],
   "source": [
    "import numpy as np\n",
    "import pandas as pd"
   ]
  },
  {
   "cell_type": "markdown",
   "id": "da075042-3d57-4650-8740-603a178aeb78",
   "metadata": {},
   "source": [
    "#### Seriler / Series"
   ]
  },
  {
   "cell_type": "markdown",
   "id": "c07b96f9-5bb7-4a24-84ea-b919740f14b1",
   "metadata": {},
   "source": [
    "> Pandas serileri sözlükler gibi olan kısmı aslında bize excel tablosu gibi gösterir.\n",
    "* Pandasa veri bilimi çevresi tarafından excel olarak nitelendirilebilir..."
   ]
  },
  {
   "cell_type": "code",
   "execution_count": 2,
   "id": "c677aa24-d4a5-4612-8532-fda79e5b60d7",
   "metadata": {},
   "outputs": [],
   "source": [
    "benimSozlugum = {\"Ahmet\" : 50, \"Melis\" : 40, \"Aydan\" : 29} # klasik olarak sözlük oluşturduk..."
   ]
  },
  {
   "cell_type": "code",
   "execution_count": 4,
   "id": "9c3e95c5-5ae5-433c-af69-812d7904b00e",
   "metadata": {},
   "outputs": [
    {
     "data": {
      "text/plain": [
       "Ahmet    50\n",
       "Melis    40\n",
       "Aydan    29\n",
       "dtype: int64"
      ]
     },
     "execution_count": 4,
     "metadata": {},
     "output_type": "execute_result"
    }
   ],
   "source": [
    "pd.Series(benimSozlugum) # pandas serisine dönüştürüldü... "
   ]
  },
  {
   "cell_type": "code",
   "execution_count": 6,
   "id": "50c2629c-ac0c-49a8-bd1c-c0ed18d30579",
   "metadata": {},
   "outputs": [
    {
     "data": {
      "text/plain": [
       "pandas.core.series.Series"
      ]
     },
     "execution_count": 6,
     "metadata": {},
     "output_type": "execute_result"
    }
   ],
   "source": [
    "type(pd.Series(benimSozlugum)) # türünü görüntüledik yani pandas serisi olduğunu görüntülemiş olduk..."
   ]
  },
  {
   "cell_type": "code",
   "execution_count": 30,
   "id": "2c72d98d-6115-4dfd-af56-4e834c6c1cb3",
   "metadata": {},
   "outputs": [],
   "source": [
    "benimYaslarim = [20,30,40]\n",
    "benimIsimListem = [\"Ayşenur\", \"Fatmanur\", \"Zeynep\"]"
   ]
  },
  {
   "cell_type": "markdown",
   "id": "3f8c1d5a-87a2-4c05-8a17-0914c18067be",
   "metadata": {},
   "source": [
    "> sadece listeyi pandas serisine çevirirsek bize indeksli bir şekilde dönüştürme gerçekleştirir...."
   ]
  },
  {
   "cell_type": "code",
   "execution_count": 31,
   "id": "cb542d31-331f-490c-82dd-3886a8989548",
   "metadata": {},
   "outputs": [
    {
     "data": {
      "text/plain": [
       "0    20\n",
       "1    30\n",
       "2    40\n",
       "dtype: int64"
      ]
     },
     "execution_count": 31,
     "metadata": {},
     "output_type": "execute_result"
    }
   ],
   "source": [
    "pd.Series(benimYaslarim) # 0, 1, 2 diyerek indeksli bir şekilde pandas serisine dönüştürme yaptı..."
   ]
  },
  {
   "cell_type": "markdown",
   "id": "a8df329c-ebe5-49fd-bac4-4e67c2168292",
   "metadata": {},
   "source": [
    "> iki farklı listeyi pandas serisine dönüştürürsek bize temel bir excel tablosu oluşturacaktır..."
   ]
  },
  {
   "cell_type": "code",
   "execution_count": 32,
   "id": "fdeed7f6-8982-412b-a4e0-292c7a669f8c",
   "metadata": {},
   "outputs": [
    {
     "data": {
      "text/plain": [
       "Ayşenur     20\n",
       "Fatmanur    30\n",
       "Zeynep      40\n",
       "dtype: int64"
      ]
     },
     "execution_count": 32,
     "metadata": {},
     "output_type": "execute_result"
    }
   ],
   "source": [
    "pd.Series(benimYaslarim, benimIsimListem) # benimyaslarım ile benim isim listemi pandas serisine dönüştürür..."
   ]
  },
  {
   "cell_type": "markdown",
   "id": "17799e81-c2f0-4ffc-9864-22d9be024be8",
   "metadata": {},
   "source": [
    "> bu şekilde tabiki kolay ama gerçek hayatta bu tip verilerle pek karşılaşmayız daha çok sayılı verilerle karşılaşırız. Bu durumlarda işlerin birbirine girmemesi için index ve data diye series bölümlenmesi gerçekleştiririz."
   ]
  },
  {
   "cell_type": "code",
   "execution_count": 33,
   "id": "3f6609ee-74cd-4ffd-a208-ad8dcb7441e3",
   "metadata": {},
   "outputs": [
    {
     "data": {
      "text/plain": [
       "Ayşenur     20\n",
       "Fatmanur    30\n",
       "Zeynep      40\n",
       "dtype: int64"
      ]
     },
     "execution_count": 33,
     "metadata": {},
     "output_type": "execute_result"
    }
   ],
   "source": [
    "pd.Series(data=benimYaslarim, index=benimIsimListem) # yani veriyi index ve data olarak pandas serisi haline getirdik."
   ]
  },
  {
   "cell_type": "markdown",
   "id": "bbec665c-d1d1-4528-9986-67c0d623a65f",
   "metadata": {},
   "source": [
    "> Numpy dizilerini de pandas serilerine dönüştürmek mümkündür"
   ]
  },
  {
   "cell_type": "code",
   "execution_count": 34,
   "id": "0dba7cca-c77c-4299-b428-4a8374a997fa",
   "metadata": {},
   "outputs": [],
   "source": [
    "NumpyDizisi = np.array([30,40,50]) # numpy dizisini oluşturdum"
   ]
  },
  {
   "cell_type": "code",
   "execution_count": 35,
   "id": "710747c6-bdea-4b9b-bb9d-df10ef95bfb7",
   "metadata": {},
   "outputs": [
    {
     "data": {
      "text/plain": [
       "array([30, 40, 50])"
      ]
     },
     "execution_count": 35,
     "metadata": {},
     "output_type": "execute_result"
    }
   ],
   "source": [
    "NumpyDizisi # numpy dizisini görüntüledik type kullanarak türüne bakabilirsiniz"
   ]
  },
  {
   "cell_type": "code",
   "execution_count": 36,
   "id": "97b776fa-a742-4037-b1e9-880f4cb07e00",
   "metadata": {},
   "outputs": [
    {
     "data": {
      "text/plain": [
       "0    30\n",
       "1    40\n",
       "2    50\n",
       "dtype: int32"
      ]
     },
     "execution_count": 36,
     "metadata": {},
     "output_type": "execute_result"
    }
   ],
   "source": [
    "pd.Series(NumpyDizisi) # numpy dizisini pandas serisine dönüştürdük ve tek bir girdi olduğu için kendisi otomatik olarak indeksledi..."
   ]
  },
  {
   "cell_type": "code",
   "execution_count": 37,
   "id": "cdfefd44-e480-4c60-8dec-d024909d65db",
   "metadata": {},
   "outputs": [
    {
     "data": {
      "text/plain": [
       "Ayşenur     30\n",
       "Fatmanur    40\n",
       "Zeynep      50\n",
       "dtype: int32"
      ]
     },
     "execution_count": 37,
     "metadata": {},
     "output_type": "execute_result"
    }
   ],
   "source": [
    "pd.Series(data = NumpyDizisi, index = benimIsimListem) # numpy dizisine kendimiz index atadık..."
   ]
  },
  {
   "cell_type": "markdown",
   "id": "ee3a2867-e3a3-403a-8da2-8e2e4036146d",
   "metadata": {},
   "source": [
    "> atıyorum bu şekilde Ayşenur 30 gibi değilde yanında indeks numarasını da görüntülemek istiyorum diyelim bunu ise for döngüsü kullanarak gerçekleştirebiliriz..."
   ]
  },
  {
   "cell_type": "code",
   "execution_count": 39,
   "id": "a5271ac7-0eb8-4160-8337-b2f5ff9c73ff",
   "metadata": {},
   "outputs": [
    {
     "name": "stdout",
     "output_type": "stream",
     "text": [
      "0 30 Ayşenur\n",
      "1 40 Fatmanur\n",
      "2 50 Zeynep\n"
     ]
    }
   ],
   "source": [
    "for i, (value, label) in enumerate(zip(NumpyDizisi, benimIsimListem)): #enumerate içerisinde zipleyerek indeksleme gerçekleştirdim...\n",
    "    print(i, value, label)"
   ]
  },
  {
   "cell_type": "markdown",
   "id": "c4dac840-ba94-48ff-9525-9ecfd01e9804",
   "metadata": {},
   "source": [
    "> Buraya kadar sürekli olarak integer türünde çalışarak pandas serileri oluşturduk. Bunu farklı veri tiplerinde de kullanarak gerçekleştirebiliriz..."
   ]
  },
  {
   "cell_type": "code",
   "execution_count": 41,
   "id": "a9f2af88-ac30-4f72-97fc-c6c10085c1aa",
   "metadata": {},
   "outputs": [
    {
     "data": {
      "text/plain": [
       "1    Ahmet\n",
       "2    Melek\n",
       "3    Atlas\n",
       "dtype: object"
      ]
     },
     "execution_count": 41,
     "metadata": {},
     "output_type": "execute_result"
    }
   ],
   "source": [
    "# kendimiz manuel olarak da pandas serisi oluşturabiliriz...\n",
    "\n",
    "pd.Series([\"Ahmet\",\"Melek\",\"Atlas\"],[1,2,3]) # manuel olarak içerisine pandas serisini oluşturduk..."
   ]
  },
  {
   "cell_type": "code",
   "execution_count": 49,
   "id": "acdd8549-df88-412f-ae0a-b41b1f21b691",
   "metadata": {},
   "outputs": [
    {
     "data": {
      "text/plain": [
       "0    Melike\n",
       "1    Furkan\n",
       "2     Alper\n",
       "dtype: object"
      ]
     },
     "execution_count": 49,
     "metadata": {},
     "output_type": "execute_result"
    }
   ],
   "source": [
    "pd.Series([\"Melike\",\"Furkan\",\"Alper\"], [np.arange(3)]) # pandas serilerinin içerisinde arange kullabilirim..."
   ]
  },
  {
   "cell_type": "markdown",
   "id": "b5b188a3-d57f-468c-957e-6198abc3de0a",
   "metadata": {},
   "source": [
    "> örneğin bir yarışma var ve burada yarışmanın sonuçlarını pandas serisi olarak görüntüleyelim..."
   ]
  },
  {
   "cell_type": "code",
   "execution_count": 54,
   "id": "fb393a7e-dd6b-4f7f-869a-e0205e53771d",
   "metadata": {},
   "outputs": [],
   "source": [
    "yarismaSonucu1 = pd.Series([10,5,3],[\"Melike\",\"Furkan\",\"Alper\"]) # yarışmacıların puanları --> yarışmacının adları"
   ]
  },
  {
   "cell_type": "code",
   "execution_count": 56,
   "id": "fd2d5352-979e-47a0-88f1-73700e3ef8be",
   "metadata": {},
   "outputs": [
    {
     "data": {
      "text/plain": [
       "Melike    10\n",
       "Furkan     5\n",
       "Alper      3\n",
       "dtype: int64"
      ]
     },
     "execution_count": 56,
     "metadata": {},
     "output_type": "execute_result"
    }
   ],
   "source": [
    "yarismaSonucu1  "
   ]
  },
  {
   "cell_type": "code",
   "execution_count": 57,
   "id": "065e7bec-7e82-4c23-accd-e335aa02ac3b",
   "metadata": {},
   "outputs": [],
   "source": [
    "yarismaSonucu2 = pd.Series([5,10,3],[\"Melike\",\"Furkan\",\"Alper\"]) \n",
    "# yarışmacıların puanları --> birebir aynı isme sahip olan (burası önemli) yarışmacıların adları"
   ]
  },
  {
   "cell_type": "code",
   "execution_count": 58,
   "id": "525fef65-8dd5-45d3-b343-5ef21e6003ba",
   "metadata": {},
   "outputs": [
    {
     "data": {
      "text/plain": [
       "Melike     5\n",
       "Furkan    10\n",
       "Alper      3\n",
       "dtype: int64"
      ]
     },
     "execution_count": 58,
     "metadata": {},
     "output_type": "execute_result"
    }
   ],
   "source": [
    "yarismaSonucu2"
   ]
  },
  {
   "cell_type": "code",
   "execution_count": 59,
   "id": "4453207d-3f73-4b51-a47b-bec9932f6966",
   "metadata": {},
   "outputs": [
    {
     "data": {
      "text/plain": [
       "5"
      ]
     },
     "execution_count": 59,
     "metadata": {},
     "output_type": "execute_result"
    }
   ],
   "source": [
    "yarismaSonucu2[\"Melike\"] # indeks değerine göre hangi puan aldığını görüntülemek istedim..."
   ]
  },
  {
   "cell_type": "markdown",
   "id": "29070641-4306-4df4-bdaa-cc22696bce86",
   "metadata": {},
   "source": [
    "> yukarıda oluşturmuş olduğum iki seriesi toplayabilirim..."
   ]
  },
  {
   "cell_type": "code",
   "execution_count": 62,
   "id": "241a1031-48f6-4f93-b7ae-ec89b7d74335",
   "metadata": {},
   "outputs": [],
   "source": [
    "sonSonuc = yarismaSonucu1 + yarismaSonucu2 # iki tane aynı indekse sahip pandas serilerini toplayabilirim"
   ]
  },
  {
   "cell_type": "code",
   "execution_count": 63,
   "id": "9f1011a2-4f24-4e69-ac0e-72fd9893b88e",
   "metadata": {},
   "outputs": [
    {
     "data": {
      "text/plain": [
       "Melike    15\n",
       "Furkan    15\n",
       "Alper      6\n",
       "dtype: int64"
      ]
     },
     "execution_count": 63,
     "metadata": {},
     "output_type": "execute_result"
    }
   ],
   "source": [
    "sonSonuc"
   ]
  },
  {
   "cell_type": "markdown",
   "id": "3a02cac4-ec15-4973-9b88-3aa52494db7b",
   "metadata": {},
   "source": [
    "* peki indeksler eğer farklı olsaydı yani burada \"Melike\",\"Furkan\",\"Alper\" değerleri iki farklı pandas serilerinde farklı olsaydı program çöker miydi ? \n",
    "cevap hayır çökmezdi şöyle bir sonuç çıkardı bunu yeni bir örnekte anlatayım"
   ]
  },
  {
   "cell_type": "code",
   "execution_count": 68,
   "id": "0c94ce89-2a54-4c14-8f4e-b94e0ac1de05",
   "metadata": {},
   "outputs": [],
   "source": [
    "farkliSeries = pd.Series([20,30,40,50,60],[\"a\",\"b\",\"c\",\"d\",\"e\"]) # birinci pandas seriesi oluşturdum "
   ]
  },
  {
   "cell_type": "code",
   "execution_count": 69,
   "id": "f8c8e520-a08d-4409-8139-8c9bcebacaad",
   "metadata": {},
   "outputs": [],
   "source": [
    "farkliSeries2 = pd.Series([5,4,2,10,45],[\"a\",\"b\",\"d\",\"c\",\"g\"]) # ikinci pandas serisi oluşturdum yalnız burada indeksler diğerinden farklı"
   ]
  },
  {
   "cell_type": "code",
   "execution_count": 70,
   "id": "752be9d1-54b7-4748-8e6f-828e5d1f2c48",
   "metadata": {},
   "outputs": [
    {
     "data": {
      "text/plain": [
       "a    20\n",
       "b    30\n",
       "c    40\n",
       "d    50\n",
       "e    60\n",
       "dtype: int64"
      ]
     },
     "execution_count": 70,
     "metadata": {},
     "output_type": "execute_result"
    }
   ],
   "source": [
    "farkliSeries"
   ]
  },
  {
   "cell_type": "code",
   "execution_count": 71,
   "id": "0e6efb66-ba05-420f-9ace-26164b65ee48",
   "metadata": {},
   "outputs": [
    {
     "data": {
      "text/plain": [
       "a     5\n",
       "b     4\n",
       "d     2\n",
       "c    10\n",
       "g    45\n",
       "dtype: int64"
      ]
     },
     "execution_count": 71,
     "metadata": {},
     "output_type": "execute_result"
    }
   ],
   "source": [
    "farkliSeries2"
   ]
  },
  {
   "cell_type": "code",
   "execution_count": 72,
   "id": "6ea2f382-a806-43ec-af33-2d89d9ef6693",
   "metadata": {},
   "outputs": [],
   "source": [
    "SeriesSonuc = farkliSeries + farkliSeries2"
   ]
  },
  {
   "cell_type": "markdown",
   "id": "5486a1c8-9a4c-4c79-9320-1964d978b1d0",
   "metadata": {},
   "source": [
    "> İndekste keşisen indekslerdeki dataları kendi içerisinde toplar indeksi olup datası olmayan veriler içinde programı çökertmez Nan yani null veya boş değer döndürür pandas Seriesler...\n",
    "* Aşağıda da bunun örnek gösterimi mevcuttur... "
   ]
  },
  {
   "cell_type": "code",
   "execution_count": 73,
   "id": "95ddb903-dbc1-43a4-8758-0b44b68fa255",
   "metadata": {},
   "outputs": [
    {
     "data": {
      "text/plain": [
       "a    25.0\n",
       "b    34.0\n",
       "c    50.0\n",
       "d    52.0\n",
       "e     NaN\n",
       "g     NaN\n",
       "dtype: float64"
      ]
     },
     "execution_count": 73,
     "metadata": {},
     "output_type": "execute_result"
    }
   ],
   "source": [
    "SeriesSonuc"
   ]
  },
  {
   "cell_type": "code",
   "execution_count": null,
   "id": "cf684cfc-7ef1-4b3f-82d4-bde0c9f68602",
   "metadata": {},
   "outputs": [],
   "source": []
  }
 ],
 "metadata": {
  "kernelspec": {
   "display_name": "Python 3 (ipykernel)",
   "language": "python",
   "name": "python3"
  },
  "language_info": {
   "codemirror_mode": {
    "name": "ipython",
    "version": 3
   },
   "file_extension": ".py",
   "mimetype": "text/x-python",
   "name": "python",
   "nbconvert_exporter": "python",
   "pygments_lexer": "ipython3",
   "version": "3.11.5"
  }
 },
 "nbformat": 4,
 "nbformat_minor": 5
}
