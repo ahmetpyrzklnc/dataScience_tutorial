{
 "cells": [
  {
   "cell_type": "code",
   "execution_count": 3,
   "id": "a77bf062-58ad-404a-b5bc-7172c4386ae2",
   "metadata": {},
   "outputs": [],
   "source": [
    "import pandas as pd\n",
    "import numpy as np"
   ]
  },
  {
   "cell_type": "markdown",
   "id": "d149e41f-c3e1-433e-a12d-864935960099",
   "metadata": {},
   "source": [
    "#### Eksik Veriler"
   ]
  },
  {
   "attachments": {
    "67893983-8c32-4db3-acbc-712d527a398e.png": {
     "image/png": "[encoded data removed]"
    }
   },
   "cell_type": "markdown",
   "id": "2d54d508-cf4f-4cce-8e7e-bb42d81c8702",
   "metadata": {},
   "source": [
    "Veri biliminde her zaman tam verilerle çalışmayabiliriz. Bu veriler eksik verilerde olabilir Neyden bahsediyorum hemen anlatalım:\n",
    "\n",
    "![image.png](attachment:67893983-8c32-4db3-acbc-712d527a398e.png)\n",
    "\n",
    "Görüldüğü gibi burada verilerden bazıları eksik işte bu tip veriler oldukça sık bir şekilde karşılaşabiliriz. Bu verilerle nasıl mücadele edebiliriz. Gelin bu notebookta onu ele alalım"
   ]
  },
  {
   "cell_type": "code",
   "execution_count": 3,
   "id": "b23ca0c1-d462-402e-b471-fdd1c96e7945",
   "metadata": {},
   "outputs": [],
   "source": [
    "sozlukVerisi = {\"İstanbul\" : [30,29,np.nan], \"Ankara\" : [20,np.nan,25], \"İzmir\" : [40,39,38]} #np.nan dediğim şey boşluk verilerini söyler..\n",
    "havaDurumuDataFrame = pd.DataFrame(sozlukVerisi, index = [\"Pazartesi\",\"Salı\",\"Çarşamba\"])"
   ]
  },
  {
   "cell_type": "code",
   "execution_count": 5,
   "id": "d912dcc2-983b-4145-99d7-49be0b825aff",
   "metadata": {},
   "outputs": [
    {
     "data": {
      "text/html": [
       "<div>\n",
       "<style scoped>\n",
       "    .dataframe tbody tr th:only-of-type {\n",
       "        vertical-align: middle;\n",
       "    }\n",
       "\n",
       "    .dataframe tbody tr th {\n",
       "        vertical-align: top;\n",
       "    }\n",
       "\n",
       "    .dataframe thead th {\n",
       "        text-align: right;\n",
       "    }\n",
       "</style>\n",
       "<table border=\"1\" class=\"dataframe\">\n",
       "  <thead>\n",
       "    <tr style=\"text-align: right;\">\n",
       "      <th></th>\n",
       "      <th>İstanbul</th>\n",
       "      <th>Ankara</th>\n",
       "      <th>İzmir</th>\n",
       "    </tr>\n",
       "  </thead>\n",
       "  <tbody>\n",
       "    <tr>\n",
       "      <th>Pazartesi</th>\n",
       "      <td>30.0</td>\n",
       "      <td>20.0</td>\n",
       "      <td>40</td>\n",
       "    </tr>\n",
       "    <tr>\n",
       "      <th>Salı</th>\n",
       "      <td>29.0</td>\n",
       "      <td>NaN</td>\n",
       "      <td>39</td>\n",
       "    </tr>\n",
       "    <tr>\n",
       "      <th>Çarşamba</th>\n",
       "      <td>NaN</td>\n",
       "      <td>25.0</td>\n",
       "      <td>38</td>\n",
       "    </tr>\n",
       "  </tbody>\n",
       "</table>\n",
       "</div>"
      ],
      "text/plain": [
       "           İstanbul  Ankara  İzmir\n",
       "Pazartesi      30.0    20.0     40\n",
       "Salı           29.0     NaN     39\n",
       "Çarşamba        NaN    25.0     38"
      ]
     },
     "execution_count": 5,
     "metadata": {},
     "output_type": "execute_result"
    }
   ],
   "source": [
    "havaDurumuDataFrame # NaN olanlar eksik verilerdir"
   ]
  },
  {
   "cell_type": "markdown",
   "id": "3d32e47f-d2bf-4bea-842d-81e69ea0003a",
   "metadata": {},
   "source": [
    "> Bu tip eksik verilerden kurtulmanın bir çözüm yolu direkt eksik olan verileri silmektir. "
   ]
  },
  {
   "cell_type": "code",
   "execution_count": 6,
   "id": "8a4d7597-e3e5-4fd4-9afe-a508b622ae90",
   "metadata": {},
   "outputs": [
    {
     "data": {
      "text/html": [
       "<div>\n",
       "<style scoped>\n",
       "    .dataframe tbody tr th:only-of-type {\n",
       "        vertical-align: middle;\n",
       "    }\n",
       "\n",
       "    .dataframe tbody tr th {\n",
       "        vertical-align: top;\n",
       "    }\n",
       "\n",
       "    .dataframe thead th {\n",
       "        text-align: right;\n",
       "    }\n",
       "</style>\n",
       "<table border=\"1\" class=\"dataframe\">\n",
       "  <thead>\n",
       "    <tr style=\"text-align: right;\">\n",
       "      <th></th>\n",
       "      <th>İstanbul</th>\n",
       "      <th>Ankara</th>\n",
       "      <th>İzmir</th>\n",
       "    </tr>\n",
       "  </thead>\n",
       "  <tbody>\n",
       "    <tr>\n",
       "      <th>Pazartesi</th>\n",
       "      <td>30.0</td>\n",
       "      <td>20.0</td>\n",
       "      <td>40</td>\n",
       "    </tr>\n",
       "  </tbody>\n",
       "</table>\n",
       "</div>"
      ],
      "text/plain": [
       "           İstanbul  Ankara  İzmir\n",
       "Pazartesi      30.0    20.0     40"
      ]
     },
     "execution_count": 6,
     "metadata": {},
     "output_type": "execute_result"
    }
   ],
   "source": [
    "havaDurumuDataFrame.dropna() "
   ]
  },
  {
   "cell_type": "markdown",
   "id": "ea9d202a-d67d-4b48-b052-8349484692b4",
   "metadata": {},
   "source": [
    "> dropna() --> drop null avaible demektir yani eksik olan verilerin satırını komple bizim için düşürür yani bunları veri seti içerisinde ayıklayıp kaldırıyor."
   ]
  },
  {
   "cell_type": "code",
   "execution_count": 7,
   "id": "4600e654-d952-40ec-bbec-7afbb9cce7df",
   "metadata": {},
   "outputs": [
    {
     "data": {
      "text/html": [
       "<div>\n",
       "<style scoped>\n",
       "    .dataframe tbody tr th:only-of-type {\n",
       "        vertical-align: middle;\n",
       "    }\n",
       "\n",
       "    .dataframe tbody tr th {\n",
       "        vertical-align: top;\n",
       "    }\n",
       "\n",
       "    .dataframe thead th {\n",
       "        text-align: right;\n",
       "    }\n",
       "</style>\n",
       "<table border=\"1\" class=\"dataframe\">\n",
       "  <thead>\n",
       "    <tr style=\"text-align: right;\">\n",
       "      <th></th>\n",
       "      <th>İstanbul</th>\n",
       "      <th>Ankara</th>\n",
       "      <th>İzmir</th>\n",
       "    </tr>\n",
       "  </thead>\n",
       "  <tbody>\n",
       "    <tr>\n",
       "      <th>Pazartesi</th>\n",
       "      <td>30.0</td>\n",
       "      <td>20.0</td>\n",
       "      <td>40</td>\n",
       "    </tr>\n",
       "    <tr>\n",
       "      <th>Salı</th>\n",
       "      <td>29.0</td>\n",
       "      <td>NaN</td>\n",
       "      <td>39</td>\n",
       "    </tr>\n",
       "    <tr>\n",
       "      <th>Çarşamba</th>\n",
       "      <td>NaN</td>\n",
       "      <td>25.0</td>\n",
       "      <td>38</td>\n",
       "    </tr>\n",
       "  </tbody>\n",
       "</table>\n",
       "</div>"
      ],
      "text/plain": [
       "           İstanbul  Ankara  İzmir\n",
       "Pazartesi      30.0    20.0     40\n",
       "Salı           29.0     NaN     39\n",
       "Çarşamba        NaN    25.0     38"
      ]
     },
     "execution_count": 7,
     "metadata": {},
     "output_type": "execute_result"
    }
   ],
   "source": [
    "havaDurumuDataFrame "
   ]
  },
  {
   "cell_type": "markdown",
   "id": "7f550ae2-fa55-4264-b222-af542b0289e3",
   "metadata": {},
   "source": [
    "> dropna() kullanılmasına rağmen eksik verilerde gelmeye devam etti yani burada işlem yapılırsa bu işlem gerçek dataframe'i etkilemez.\n",
    "\n",
    "* Bunun için yapılması gereken yeni bir değişken oluşturup eksik verilerden arındırılmış bir yeni dataframe döndürmektir. Yani kısaca dropna() yeni bir dataframe döndürür...."
   ]
  },
  {
   "cell_type": "markdown",
   "id": "72ef12d9-b979-4140-b78b-678a97ed0871",
   "metadata": {},
   "source": [
    "* Peki dropna() sadece satırı mı siler kolonu silemez miyiz sorusu akla gelirse burada ise axis belirtirsek direkt kolonu siler..."
   ]
  },
  {
   "cell_type": "code",
   "execution_count": 8,
   "id": "47ab0edb-7e80-4d2c-9d18-6ff6e0baf6d4",
   "metadata": {},
   "outputs": [
    {
     "data": {
      "text/html": [
       "<div>\n",
       "<style scoped>\n",
       "    .dataframe tbody tr th:only-of-type {\n",
       "        vertical-align: middle;\n",
       "    }\n",
       "\n",
       "    .dataframe tbody tr th {\n",
       "        vertical-align: top;\n",
       "    }\n",
       "\n",
       "    .dataframe thead th {\n",
       "        text-align: right;\n",
       "    }\n",
       "</style>\n",
       "<table border=\"1\" class=\"dataframe\">\n",
       "  <thead>\n",
       "    <tr style=\"text-align: right;\">\n",
       "      <th></th>\n",
       "      <th>İzmir</th>\n",
       "    </tr>\n",
       "  </thead>\n",
       "  <tbody>\n",
       "    <tr>\n",
       "      <th>Pazartesi</th>\n",
       "      <td>40</td>\n",
       "    </tr>\n",
       "    <tr>\n",
       "      <th>Salı</th>\n",
       "      <td>39</td>\n",
       "    </tr>\n",
       "    <tr>\n",
       "      <th>Çarşamba</th>\n",
       "      <td>38</td>\n",
       "    </tr>\n",
       "  </tbody>\n",
       "</table>\n",
       "</div>"
      ],
      "text/plain": [
       "           İzmir\n",
       "Pazartesi     40\n",
       "Salı          39\n",
       "Çarşamba      38"
      ]
     },
     "execution_count": 8,
     "metadata": {},
     "output_type": "execute_result"
    }
   ],
   "source": [
    "havaDurumuDataFrame.dropna(axis = 1) # axis = 0'sa satırı, axis = 1'se sütunu siler"
   ]
  },
  {
   "cell_type": "markdown",
   "id": "89c3ae4d-dd06-4985-9ef3-348e78266598",
   "metadata": {},
   "source": [
    "> peki tek bir nan olduğu için komple satırı veya sütunu siliyoruz bu biraz saçma değil mi atıyorum bir tane nan varsa kalsın eğer 10 tane nan varsa silsin gibi bir mantıkla yol alırsak bu şekilde yapı kuramaz mıyız diye düşünebiliriz.\n",
    "\n",
    "Tabiki olabilir. Yeni bir dataframe üzerinde anlatalım...."
   ]
  },
  {
   "cell_type": "code",
   "execution_count": 9,
   "id": "43359c17-1b18-4912-8ff2-a61c0a5f786b",
   "metadata": {},
   "outputs": [],
   "source": [
    "yeniVeri = {\"İstanbul\" : [30,29,np.nan], \"Ankara\" : [20,np.nan,25], \"İzmir\" : [40,39,38], \"Antalya\" : [45,np.nan,np.nan]}\n",
    "yeniDataFrame = pd.DataFrame(yeniVeri, index = [\"Pazartesi\", \"Salı\",\"Çarşamba\"])"
   ]
  },
  {
   "cell_type": "code",
   "execution_count": 11,
   "id": "ecdc9565-1ed0-4c8f-9d74-3168e3c56962",
   "metadata": {},
   "outputs": [
    {
     "data": {
      "text/html": [
       "<div>\n",
       "<style scoped>\n",
       "    .dataframe tbody tr th:only-of-type {\n",
       "        vertical-align: middle;\n",
       "    }\n",
       "\n",
       "    .dataframe tbody tr th {\n",
       "        vertical-align: top;\n",
       "    }\n",
       "\n",
       "    .dataframe thead th {\n",
       "        text-align: right;\n",
       "    }\n",
       "</style>\n",
       "<table border=\"1\" class=\"dataframe\">\n",
       "  <thead>\n",
       "    <tr style=\"text-align: right;\">\n",
       "      <th></th>\n",
       "      <th>İstanbul</th>\n",
       "      <th>Ankara</th>\n",
       "      <th>İzmir</th>\n",
       "      <th>Antalya</th>\n",
       "    </tr>\n",
       "  </thead>\n",
       "  <tbody>\n",
       "    <tr>\n",
       "      <th>Pazartesi</th>\n",
       "      <td>30.0</td>\n",
       "      <td>20.0</td>\n",
       "      <td>40</td>\n",
       "      <td>45.0</td>\n",
       "    </tr>\n",
       "    <tr>\n",
       "      <th>Salı</th>\n",
       "      <td>29.0</td>\n",
       "      <td>NaN</td>\n",
       "      <td>39</td>\n",
       "      <td>NaN</td>\n",
       "    </tr>\n",
       "    <tr>\n",
       "      <th>Çarşamba</th>\n",
       "      <td>NaN</td>\n",
       "      <td>25.0</td>\n",
       "      <td>38</td>\n",
       "      <td>NaN</td>\n",
       "    </tr>\n",
       "  </tbody>\n",
       "</table>\n",
       "</div>"
      ],
      "text/plain": [
       "           İstanbul  Ankara  İzmir  Antalya\n",
       "Pazartesi      30.0    20.0     40     45.0\n",
       "Salı           29.0     NaN     39      NaN\n",
       "Çarşamba        NaN    25.0     38      NaN"
      ]
     },
     "execution_count": 11,
     "metadata": {},
     "output_type": "execute_result"
    }
   ],
   "source": [
    "yeniDataFrame # görüldüğü gibi dataframe gözüktü"
   ]
  },
  {
   "cell_type": "markdown",
   "id": "75312792-5949-410c-8a70-9284e0708fe9",
   "metadata": {},
   "source": [
    "> Threshold --> girilen sayının üzerinde nan değeri varsa onları siler"
   ]
  },
  {
   "cell_type": "code",
   "execution_count": 13,
   "id": "fa226ae7-6010-48a8-8c8a-f1a05735cd7b",
   "metadata": {},
   "outputs": [
    {
     "data": {
      "text/html": [
       "<div>\n",
       "<style scoped>\n",
       "    .dataframe tbody tr th:only-of-type {\n",
       "        vertical-align: middle;\n",
       "    }\n",
       "\n",
       "    .dataframe tbody tr th {\n",
       "        vertical-align: top;\n",
       "    }\n",
       "\n",
       "    .dataframe thead th {\n",
       "        text-align: right;\n",
       "    }\n",
       "</style>\n",
       "<table border=\"1\" class=\"dataframe\">\n",
       "  <thead>\n",
       "    <tr style=\"text-align: right;\">\n",
       "      <th></th>\n",
       "      <th>İstanbul</th>\n",
       "      <th>Ankara</th>\n",
       "      <th>İzmir</th>\n",
       "    </tr>\n",
       "  </thead>\n",
       "  <tbody>\n",
       "    <tr>\n",
       "      <th>Pazartesi</th>\n",
       "      <td>30.0</td>\n",
       "      <td>20.0</td>\n",
       "      <td>40</td>\n",
       "    </tr>\n",
       "    <tr>\n",
       "      <th>Salı</th>\n",
       "      <td>29.0</td>\n",
       "      <td>NaN</td>\n",
       "      <td>39</td>\n",
       "    </tr>\n",
       "    <tr>\n",
       "      <th>Çarşamba</th>\n",
       "      <td>NaN</td>\n",
       "      <td>25.0</td>\n",
       "      <td>38</td>\n",
       "    </tr>\n",
       "  </tbody>\n",
       "</table>\n",
       "</div>"
      ],
      "text/plain": [
       "           İstanbul  Ankara  İzmir\n",
       "Pazartesi      30.0    20.0     40\n",
       "Salı           29.0     NaN     39\n",
       "Çarşamba        NaN    25.0     38"
      ]
     },
     "execution_count": 13,
     "metadata": {},
     "output_type": "execute_result"
    }
   ],
   "source": [
    "yeniDataFrame.dropna(axis = 1, thresh=2) # axis 1 olduğuna göre sütunda 2 ve üzeri nan değerleri bulunan sütunları kaldır gitsin"
   ]
  },
  {
   "cell_type": "markdown",
   "id": "e57588fc-3ba5-4cb7-a619-90a1c00f623e",
   "metadata": {},
   "source": [
    "> Eksik Verileri illa silmemiz mi gerekir Onun yerine başka değerler koyabilir miyiz?\n",
    "\n",
    "* Evet koyabiliriz istersen kendi girdiğin değeri, istersen standart sapmayı, istersen medyanı, istersen aritmetik ortalamayı gibi değerlerin hepsini girmen mümkündür...\n",
    "\n",
    "``\n",
    "bunun için fillna() methodunu kullanırsın\n",
    "``"
   ]
  },
  {
   "cell_type": "code",
   "execution_count": 15,
   "id": "6d75f72d-17b7-4c03-9a7b-7892e954dc0e",
   "metadata": {},
   "outputs": [
    {
     "data": {
      "text/html": [
       "<div>\n",
       "<style scoped>\n",
       "    .dataframe tbody tr th:only-of-type {\n",
       "        vertical-align: middle;\n",
       "    }\n",
       "\n",
       "    .dataframe tbody tr th {\n",
       "        vertical-align: top;\n",
       "    }\n",
       "\n",
       "    .dataframe thead th {\n",
       "        text-align: right;\n",
       "    }\n",
       "</style>\n",
       "<table border=\"1\" class=\"dataframe\">\n",
       "  <thead>\n",
       "    <tr style=\"text-align: right;\">\n",
       "      <th></th>\n",
       "      <th>İstanbul</th>\n",
       "      <th>Ankara</th>\n",
       "      <th>İzmir</th>\n",
       "      <th>Antalya</th>\n",
       "    </tr>\n",
       "  </thead>\n",
       "  <tbody>\n",
       "    <tr>\n",
       "      <th>Pazartesi</th>\n",
       "      <td>30.0</td>\n",
       "      <td>20.0</td>\n",
       "      <td>40</td>\n",
       "      <td>45.0</td>\n",
       "    </tr>\n",
       "    <tr>\n",
       "      <th>Salı</th>\n",
       "      <td>29.0</td>\n",
       "      <td>10.0</td>\n",
       "      <td>39</td>\n",
       "      <td>10.0</td>\n",
       "    </tr>\n",
       "    <tr>\n",
       "      <th>Çarşamba</th>\n",
       "      <td>10.0</td>\n",
       "      <td>25.0</td>\n",
       "      <td>38</td>\n",
       "      <td>10.0</td>\n",
       "    </tr>\n",
       "  </tbody>\n",
       "</table>\n",
       "</div>"
      ],
      "text/plain": [
       "           İstanbul  Ankara  İzmir  Antalya\n",
       "Pazartesi      30.0    20.0     40     45.0\n",
       "Salı           29.0    10.0     39     10.0\n",
       "Çarşamba       10.0    25.0     38     10.0"
      ]
     },
     "execution_count": 15,
     "metadata": {},
     "output_type": "execute_result"
    }
   ],
   "source": [
    "yeniDataFrame.fillna(10) # eksik değerlerin içerisine 10 sayısını yazdırdı"
   ]
  },
  {
   "cell_type": "code",
   "execution_count": 19,
   "id": "d7dc4251-61da-4c33-ba34-ad34818eb486",
   "metadata": {},
   "outputs": [
    {
     "data": {
      "text/html": [
       "<div>\n",
       "<style scoped>\n",
       "    .dataframe tbody tr th:only-of-type {\n",
       "        vertical-align: middle;\n",
       "    }\n",
       "\n",
       "    .dataframe tbody tr th {\n",
       "        vertical-align: top;\n",
       "    }\n",
       "\n",
       "    .dataframe thead th {\n",
       "        text-align: right;\n",
       "    }\n",
       "</style>\n",
       "<table border=\"1\" class=\"dataframe\">\n",
       "  <thead>\n",
       "    <tr style=\"text-align: right;\">\n",
       "      <th></th>\n",
       "      <th>İstanbul</th>\n",
       "      <th>Ankara</th>\n",
       "      <th>İzmir</th>\n",
       "      <th>Antalya</th>\n",
       "    </tr>\n",
       "  </thead>\n",
       "  <tbody>\n",
       "    <tr>\n",
       "      <th>Pazartesi</th>\n",
       "      <td>30.0</td>\n",
       "      <td>20.0</td>\n",
       "      <td>40</td>\n",
       "      <td>45.0</td>\n",
       "    </tr>\n",
       "    <tr>\n",
       "      <th>Salı</th>\n",
       "      <td>29.0</td>\n",
       "      <td>22.5</td>\n",
       "      <td>39</td>\n",
       "      <td>45.0</td>\n",
       "    </tr>\n",
       "    <tr>\n",
       "      <th>Çarşamba</th>\n",
       "      <td>29.5</td>\n",
       "      <td>25.0</td>\n",
       "      <td>38</td>\n",
       "      <td>45.0</td>\n",
       "    </tr>\n",
       "  </tbody>\n",
       "</table>\n",
       "</div>"
      ],
      "text/plain": [
       "           İstanbul  Ankara  İzmir  Antalya\n",
       "Pazartesi      30.0    20.0     40     45.0\n",
       "Salı           29.0    22.5     39     45.0\n",
       "Çarşamba       29.5    25.0     38     45.0"
      ]
     },
     "execution_count": 19,
     "metadata": {},
     "output_type": "execute_result"
    }
   ],
   "source": [
    "yeniDataFrame.fillna(yeniDataFrame.median()) # yeniDataFrame içerisindeki eksik değerlere median atadık..."
   ]
  },
  {
   "cell_type": "code",
   "execution_count": 21,
   "id": "48e902bd-7cec-4147-b735-de6fbe988243",
   "metadata": {},
   "outputs": [
    {
     "data": {
      "text/html": [
       "<div>\n",
       "<style scoped>\n",
       "    .dataframe tbody tr th:only-of-type {\n",
       "        vertical-align: middle;\n",
       "    }\n",
       "\n",
       "    .dataframe tbody tr th {\n",
       "        vertical-align: top;\n",
       "    }\n",
       "\n",
       "    .dataframe thead th {\n",
       "        text-align: right;\n",
       "    }\n",
       "</style>\n",
       "<table border=\"1\" class=\"dataframe\">\n",
       "  <thead>\n",
       "    <tr style=\"text-align: right;\">\n",
       "      <th></th>\n",
       "      <th>İstanbul</th>\n",
       "      <th>Ankara</th>\n",
       "      <th>İzmir</th>\n",
       "      <th>Antalya</th>\n",
       "    </tr>\n",
       "  </thead>\n",
       "  <tbody>\n",
       "    <tr>\n",
       "      <th>Pazartesi</th>\n",
       "      <td>30.000000</td>\n",
       "      <td>20.000000</td>\n",
       "      <td>40</td>\n",
       "      <td>45.0</td>\n",
       "    </tr>\n",
       "    <tr>\n",
       "      <th>Salı</th>\n",
       "      <td>29.000000</td>\n",
       "      <td>3.535534</td>\n",
       "      <td>39</td>\n",
       "      <td>NaN</td>\n",
       "    </tr>\n",
       "    <tr>\n",
       "      <th>Çarşamba</th>\n",
       "      <td>0.707107</td>\n",
       "      <td>25.000000</td>\n",
       "      <td>38</td>\n",
       "      <td>NaN</td>\n",
       "    </tr>\n",
       "  </tbody>\n",
       "</table>\n",
       "</div>"
      ],
      "text/plain": [
       "            İstanbul     Ankara  İzmir  Antalya\n",
       "Pazartesi  30.000000  20.000000     40     45.0\n",
       "Salı       29.000000   3.535534     39      NaN\n",
       "Çarşamba    0.707107  25.000000     38      NaN"
      ]
     },
     "execution_count": 21,
     "metadata": {},
     "output_type": "execute_result"
    }
   ],
   "source": [
    "yeniDataFrame.fillna(yeniDataFrame.std()) # standart sapma koyar ama antalyada olmadı tek neden diye soracak olursak ?"
   ]
  },
  {
   "cell_type": "markdown",
   "id": "a73aa2ef-c427-4ef7-aeec-a84b7c7cba0d",
   "metadata": {},
   "source": [
    "> Antalyanın NaN olarak kalmasının sebebi standart sapma kuralından yani istatistikten gelir tek bir veri üzerinden standart sapma alınamaz!!!"
   ]
  },
  {
   "cell_type": "markdown",
   "id": "cd851ba7-21e9-4d9d-bae7-b0cb7a6b1755",
   "metadata": {},
   "source": [
    "#### group by"
   ]
  },
  {
   "cell_type": "markdown",
   "id": "99862ad2-dce2-40c2-99e2-3a665c4b9d7e",
   "metadata": {},
   "source": [
    "> groupby ---> bazı verileri kendi içerisinde gruplamamıza olanak sağlayan bir yapıdır.\n",
    "\n",
    "* Örneğin aşağıda bir şirketin departmanları, çalışan isimleri ve maaş bilgileri verilmiştir. \n",
    "* Bu bilgileri kendi içerisinde gruplayarak gerekli istatistiksel bilgileri alabiliriz..."
   ]
  },
  {
   "cell_type": "code",
   "execution_count": 33,
   "id": "5563c116-49c5-4df1-aa64-f866a3373de4",
   "metadata": {},
   "outputs": [],
   "source": [
    "maasSozlugu = {\"Departmanlar\" : [\"Yazılım\", \"Yazılım\", \"Pazarlama\", \"Pazarlama\", \"İnsan Kaynakları\", \"İnsan Kaynakları\"],\n",
    "              \"Çalışanların İsmi\" : [\"Ahmet\",\"Mehmet\",\"Hasan\",\"Zeynep\",\"Burak\",\"Melis\"],\n",
    "               \"Maaş\" : [100,200,300,500,600,900]\n",
    "              } # veri girişini sağladık"
   ]
  },
  {
   "cell_type": "code",
   "execution_count": 34,
   "id": "9d852125-cde7-4606-ad65-29c913d98066",
   "metadata": {},
   "outputs": [],
   "source": [
    "maasDataFrame = pd.DataFrame(maasSozlugu) # bir dataFrame çerçevesine bu verileri aktardık..."
   ]
  },
  {
   "cell_type": "code",
   "execution_count": 15,
   "id": "ade60f16-6daa-4f82-ba09-7e205c4dde81",
   "metadata": {},
   "outputs": [
    {
     "data": {
      "text/html": [
       "<div>\n",
       "<style scoped>\n",
       "    .dataframe tbody tr th:only-of-type {\n",
       "        vertical-align: middle;\n",
       "    }\n",
       "\n",
       "    .dataframe tbody tr th {\n",
       "        vertical-align: top;\n",
       "    }\n",
       "\n",
       "    .dataframe thead th {\n",
       "        text-align: right;\n",
       "    }\n",
       "</style>\n",
       "<table border=\"1\" class=\"dataframe\">\n",
       "  <thead>\n",
       "    <tr style=\"text-align: right;\">\n",
       "      <th></th>\n",
       "      <th>Departmanlar</th>\n",
       "      <th>Çalışanların İsmi</th>\n",
       "      <th>Maaş</th>\n",
       "    </tr>\n",
       "  </thead>\n",
       "  <tbody>\n",
       "    <tr>\n",
       "      <th>0</th>\n",
       "      <td>Yazılım</td>\n",
       "      <td>Ahmet</td>\n",
       "      <td>100</td>\n",
       "    </tr>\n",
       "    <tr>\n",
       "      <th>1</th>\n",
       "      <td>Yazılım</td>\n",
       "      <td>Mehmet</td>\n",
       "      <td>200</td>\n",
       "    </tr>\n",
       "    <tr>\n",
       "      <th>2</th>\n",
       "      <td>Pazarlama</td>\n",
       "      <td>Hasan</td>\n",
       "      <td>300</td>\n",
       "    </tr>\n",
       "    <tr>\n",
       "      <th>3</th>\n",
       "      <td>Pazarlama</td>\n",
       "      <td>Zeynep</td>\n",
       "      <td>500</td>\n",
       "    </tr>\n",
       "    <tr>\n",
       "      <th>4</th>\n",
       "      <td>İnsan Kaynakları</td>\n",
       "      <td>Burak</td>\n",
       "      <td>600</td>\n",
       "    </tr>\n",
       "    <tr>\n",
       "      <th>5</th>\n",
       "      <td>İnsan Kaynakları</td>\n",
       "      <td>Melis</td>\n",
       "      <td>900</td>\n",
       "    </tr>\n",
       "  </tbody>\n",
       "</table>\n",
       "</div>"
      ],
      "text/plain": [
       "       Departmanlar Çalışanların İsmi  Maaş\n",
       "0           Yazılım             Ahmet   100\n",
       "1           Yazılım            Mehmet   200\n",
       "2         Pazarlama             Hasan   300\n",
       "3         Pazarlama            Zeynep   500\n",
       "4  İnsan Kaynakları             Burak   600\n",
       "5  İnsan Kaynakları             Melis   900"
      ]
     },
     "execution_count": 15,
     "metadata": {},
     "output_type": "execute_result"
    }
   ],
   "source": [
    "maasDataFrame"
   ]
  },
  {
   "cell_type": "markdown",
   "id": "80ac7c46-0206-4f4a-a46a-38a526691c60",
   "metadata": {},
   "source": [
    "> Yukarıdaki veri setini departmanlara göre grupladık..."
   ]
  },
  {
   "cell_type": "code",
   "execution_count": 22,
   "id": "8ba220ae-b3c5-4f75-a653-841083913d80",
   "metadata": {},
   "outputs": [
    {
     "data": {
      "text/plain": [
       "<pandas.core.groupby.generic.DataFrameGroupBy object at 0x00000277C1B845D0>"
      ]
     },
     "execution_count": 22,
     "metadata": {},
     "output_type": "execute_result"
    }
   ],
   "source": [
    "maasDataFrame.groupby(\"Departmanlar\") # çalıştı ama değişkene atılması gerekir.."
   ]
  },
  {
   "cell_type": "code",
   "execution_count": 23,
   "id": "76602728-0b8e-4557-9b25-31db855d352e",
   "metadata": {},
   "outputs": [],
   "source": [
    "groupDepartman = maasDataFrame.groupby(\"Departmanlar\")"
   ]
  },
  {
   "cell_type": "code",
   "execution_count": 24,
   "id": "a4f0bcaa-0267-4f62-990f-49f9a6b06c26",
   "metadata": {},
   "outputs": [
    {
     "data": {
      "text/html": [
       "<div>\n",
       "<style scoped>\n",
       "    .dataframe tbody tr th:only-of-type {\n",
       "        vertical-align: middle;\n",
       "    }\n",
       "\n",
       "    .dataframe tbody tr th {\n",
       "        vertical-align: top;\n",
       "    }\n",
       "\n",
       "    .dataframe thead th {\n",
       "        text-align: right;\n",
       "    }\n",
       "</style>\n",
       "<table border=\"1\" class=\"dataframe\">\n",
       "  <thead>\n",
       "    <tr style=\"text-align: right;\">\n",
       "      <th></th>\n",
       "      <th>Çalışanların İsmi</th>\n",
       "      <th>Maaş</th>\n",
       "    </tr>\n",
       "    <tr>\n",
       "      <th>Departmanlar</th>\n",
       "      <th></th>\n",
       "      <th></th>\n",
       "    </tr>\n",
       "  </thead>\n",
       "  <tbody>\n",
       "    <tr>\n",
       "      <th>Pazarlama</th>\n",
       "      <td>2</td>\n",
       "      <td>2</td>\n",
       "    </tr>\n",
       "    <tr>\n",
       "      <th>Yazılım</th>\n",
       "      <td>2</td>\n",
       "      <td>2</td>\n",
       "    </tr>\n",
       "    <tr>\n",
       "      <th>İnsan Kaynakları</th>\n",
       "      <td>2</td>\n",
       "      <td>2</td>\n",
       "    </tr>\n",
       "  </tbody>\n",
       "</table>\n",
       "</div>"
      ],
      "text/plain": [
       "                  Çalışanların İsmi  Maaş\n",
       "Departmanlar                             \n",
       "Pazarlama                         2     2\n",
       "Yazılım                           2     2\n",
       "İnsan Kaynakları                  2     2"
      ]
     },
     "execution_count": 24,
     "metadata": {},
     "output_type": "execute_result"
    }
   ],
   "source": [
    "groupDepartman.count() # toplam çalışan sayısını bana verir..."
   ]
  },
  {
   "cell_type": "code",
   "execution_count": 35,
   "id": "68fb438a-2ad2-4bd2-b535-7437828499e5",
   "metadata": {},
   "outputs": [
    {
     "data": {
      "text/html": [
       "<div>\n",
       "<style scoped>\n",
       "    .dataframe tbody tr th:only-of-type {\n",
       "        vertical-align: middle;\n",
       "    }\n",
       "\n",
       "    .dataframe tbody tr th {\n",
       "        vertical-align: top;\n",
       "    }\n",
       "\n",
       "    .dataframe thead th {\n",
       "        text-align: right;\n",
       "    }\n",
       "</style>\n",
       "<table border=\"1\" class=\"dataframe\">\n",
       "  <thead>\n",
       "    <tr style=\"text-align: right;\">\n",
       "      <th></th>\n",
       "      <th>Maaş</th>\n",
       "    </tr>\n",
       "    <tr>\n",
       "      <th>Departmanlar</th>\n",
       "      <th></th>\n",
       "    </tr>\n",
       "  </thead>\n",
       "  <tbody>\n",
       "    <tr>\n",
       "      <th>Pazarlama</th>\n",
       "      <td>400.0</td>\n",
       "    </tr>\n",
       "    <tr>\n",
       "      <th>Yazılım</th>\n",
       "      <td>150.0</td>\n",
       "    </tr>\n",
       "    <tr>\n",
       "      <th>İnsan Kaynakları</th>\n",
       "      <td>750.0</td>\n",
       "    </tr>\n",
       "  </tbody>\n",
       "</table>\n",
       "</div>"
      ],
      "text/plain": [
       "                   Maaş\n",
       "Departmanlar           \n",
       "Pazarlama         400.0\n",
       "Yazılım           150.0\n",
       "İnsan Kaynakları  750.0"
      ]
     },
     "execution_count": 35,
     "metadata": {},
     "output_type": "execute_result"
    }
   ],
   "source": [
    "groupDepartman.mean(\"Maaş\") # bölümlere göre maaş ortalamasını verir"
   ]
  },
  {
   "cell_type": "code",
   "execution_count": 36,
   "id": "9c5dbb9b-e70c-4556-b4b1-550b55d1b115",
   "metadata": {},
   "outputs": [
    {
     "data": {
      "text/html": [
       "<div>\n",
       "<style scoped>\n",
       "    .dataframe tbody tr th:only-of-type {\n",
       "        vertical-align: middle;\n",
       "    }\n",
       "\n",
       "    .dataframe tbody tr th {\n",
       "        vertical-align: top;\n",
       "    }\n",
       "\n",
       "    .dataframe thead th {\n",
       "        text-align: right;\n",
       "    }\n",
       "</style>\n",
       "<table border=\"1\" class=\"dataframe\">\n",
       "  <thead>\n",
       "    <tr style=\"text-align: right;\">\n",
       "      <th></th>\n",
       "      <th>Çalışanların İsmi</th>\n",
       "      <th>Maaş</th>\n",
       "    </tr>\n",
       "    <tr>\n",
       "      <th>Departmanlar</th>\n",
       "      <th></th>\n",
       "      <th></th>\n",
       "    </tr>\n",
       "  </thead>\n",
       "  <tbody>\n",
       "    <tr>\n",
       "      <th>Pazarlama</th>\n",
       "      <td>Hasan</td>\n",
       "      <td>300</td>\n",
       "    </tr>\n",
       "    <tr>\n",
       "      <th>Yazılım</th>\n",
       "      <td>Ahmet</td>\n",
       "      <td>100</td>\n",
       "    </tr>\n",
       "    <tr>\n",
       "      <th>İnsan Kaynakları</th>\n",
       "      <td>Burak</td>\n",
       "      <td>600</td>\n",
       "    </tr>\n",
       "  </tbody>\n",
       "</table>\n",
       "</div>"
      ],
      "text/plain": [
       "                 Çalışanların İsmi  Maaş\n",
       "Departmanlar                            \n",
       "Pazarlama                    Hasan   300\n",
       "Yazılım                      Ahmet   100\n",
       "İnsan Kaynakları             Burak   600"
      ]
     },
     "execution_count": 36,
     "metadata": {},
     "output_type": "execute_result"
    }
   ],
   "source": [
    "groupDepartman.min() # bölümlerin min değerlerini verir"
   ]
  },
  {
   "cell_type": "code",
   "execution_count": 37,
   "id": "3afac858-ccf0-491c-9491-70fc20ec312e",
   "metadata": {},
   "outputs": [
    {
     "data": {
      "text/html": [
       "<div>\n",
       "<style scoped>\n",
       "    .dataframe tbody tr th:only-of-type {\n",
       "        vertical-align: middle;\n",
       "    }\n",
       "\n",
       "    .dataframe tbody tr th {\n",
       "        vertical-align: top;\n",
       "    }\n",
       "\n",
       "    .dataframe thead th {\n",
       "        text-align: right;\n",
       "    }\n",
       "</style>\n",
       "<table border=\"1\" class=\"dataframe\">\n",
       "  <thead>\n",
       "    <tr style=\"text-align: right;\">\n",
       "      <th></th>\n",
       "      <th>Çalışanların İsmi</th>\n",
       "      <th>Maaş</th>\n",
       "    </tr>\n",
       "    <tr>\n",
       "      <th>Departmanlar</th>\n",
       "      <th></th>\n",
       "      <th></th>\n",
       "    </tr>\n",
       "  </thead>\n",
       "  <tbody>\n",
       "    <tr>\n",
       "      <th>Pazarlama</th>\n",
       "      <td>Zeynep</td>\n",
       "      <td>500</td>\n",
       "    </tr>\n",
       "    <tr>\n",
       "      <th>Yazılım</th>\n",
       "      <td>Mehmet</td>\n",
       "      <td>200</td>\n",
       "    </tr>\n",
       "    <tr>\n",
       "      <th>İnsan Kaynakları</th>\n",
       "      <td>Melis</td>\n",
       "      <td>900</td>\n",
       "    </tr>\n",
       "  </tbody>\n",
       "</table>\n",
       "</div>"
      ],
      "text/plain": [
       "                 Çalışanların İsmi  Maaş\n",
       "Departmanlar                            \n",
       "Pazarlama                   Zeynep   500\n",
       "Yazılım                     Mehmet   200\n",
       "İnsan Kaynakları             Melis   900"
      ]
     },
     "execution_count": 37,
     "metadata": {},
     "output_type": "execute_result"
    }
   ],
   "source": [
    "groupDepartman.max() # bölümlerin maksimum değerini verir..."
   ]
  },
  {
   "cell_type": "code",
   "execution_count": 38,
   "id": "7dd8e1fa-c160-4d26-b7d9-161b6f9e159b",
   "metadata": {},
   "outputs": [
    {
     "data": {
      "text/html": [
       "<div>\n",
       "<style scoped>\n",
       "    .dataframe tbody tr th:only-of-type {\n",
       "        vertical-align: middle;\n",
       "    }\n",
       "\n",
       "    .dataframe tbody tr th {\n",
       "        vertical-align: top;\n",
       "    }\n",
       "\n",
       "    .dataframe thead tr th {\n",
       "        text-align: left;\n",
       "    }\n",
       "\n",
       "    .dataframe thead tr:last-of-type th {\n",
       "        text-align: right;\n",
       "    }\n",
       "</style>\n",
       "<table border=\"1\" class=\"dataframe\">\n",
       "  <thead>\n",
       "    <tr>\n",
       "      <th></th>\n",
       "      <th colspan=\"8\" halign=\"left\">Maaş</th>\n",
       "    </tr>\n",
       "    <tr>\n",
       "      <th></th>\n",
       "      <th>count</th>\n",
       "      <th>mean</th>\n",
       "      <th>std</th>\n",
       "      <th>min</th>\n",
       "      <th>25%</th>\n",
       "      <th>50%</th>\n",
       "      <th>75%</th>\n",
       "      <th>max</th>\n",
       "    </tr>\n",
       "    <tr>\n",
       "      <th>Departmanlar</th>\n",
       "      <th></th>\n",
       "      <th></th>\n",
       "      <th></th>\n",
       "      <th></th>\n",
       "      <th></th>\n",
       "      <th></th>\n",
       "      <th></th>\n",
       "      <th></th>\n",
       "    </tr>\n",
       "  </thead>\n",
       "  <tbody>\n",
       "    <tr>\n",
       "      <th>Pazarlama</th>\n",
       "      <td>2.0</td>\n",
       "      <td>400.0</td>\n",
       "      <td>141.421356</td>\n",
       "      <td>300.0</td>\n",
       "      <td>350.0</td>\n",
       "      <td>400.0</td>\n",
       "      <td>450.0</td>\n",
       "      <td>500.0</td>\n",
       "    </tr>\n",
       "    <tr>\n",
       "      <th>Yazılım</th>\n",
       "      <td>2.0</td>\n",
       "      <td>150.0</td>\n",
       "      <td>70.710678</td>\n",
       "      <td>100.0</td>\n",
       "      <td>125.0</td>\n",
       "      <td>150.0</td>\n",
       "      <td>175.0</td>\n",
       "      <td>200.0</td>\n",
       "    </tr>\n",
       "    <tr>\n",
       "      <th>İnsan Kaynakları</th>\n",
       "      <td>2.0</td>\n",
       "      <td>750.0</td>\n",
       "      <td>212.132034</td>\n",
       "      <td>600.0</td>\n",
       "      <td>675.0</td>\n",
       "      <td>750.0</td>\n",
       "      <td>825.0</td>\n",
       "      <td>900.0</td>\n",
       "    </tr>\n",
       "  </tbody>\n",
       "</table>\n",
       "</div>"
      ],
      "text/plain": [
       "                  Maaş                                                      \n",
       "                 count   mean         std    min    25%    50%    75%    max\n",
       "Departmanlar                                                                \n",
       "Pazarlama          2.0  400.0  141.421356  300.0  350.0  400.0  450.0  500.0\n",
       "Yazılım            2.0  150.0   70.710678  100.0  125.0  150.0  175.0  200.0\n",
       "İnsan Kaynakları   2.0  750.0  212.132034  600.0  675.0  750.0  825.0  900.0"
      ]
     },
     "execution_count": 38,
     "metadata": {},
     "output_type": "execute_result"
    }
   ],
   "source": [
    "groupDepartman.describe() # istatistiksel bilgilerin tamamını bize verir"
   ]
  },
  {
   "cell_type": "code",
   "execution_count": null,
   "id": "b5956f39-ad5a-4c12-94ec-3e3bbe8e507e",
   "metadata": {},
   "outputs": [],
   "source": []
  }
 ],
 "metadata": {
  "kernelspec": {
   "display_name": "Python 3 (ipykernel)",
   "language": "python",
   "name": "python3"
  },
  "language_info": {
   "codemirror_mode": {
    "name": "ipython",
    "version": 3
   },
   "file_extension": ".py",
   "mimetype": "text/x-python",
   "name": "python",
   "nbconvert_exporter": "python",
   "pygments_lexer": "ipython3",
   "version": "3.11.5"
  }
 },
 "nbformat": 4,
 "nbformat_minor": 5
}
