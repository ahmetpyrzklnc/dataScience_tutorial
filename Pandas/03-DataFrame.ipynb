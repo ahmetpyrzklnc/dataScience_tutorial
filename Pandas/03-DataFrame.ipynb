{
 "cells": [
  {
   "cell_type": "code",
   "execution_count": 2,
   "id": "cbfab4b2-8016-4aae-9dda-ffaf339bed2f",
   "metadata": {},
   "outputs": [],
   "source": [
    "import pandas as pd\n",
    "import numpy as np"
   ]
  },
  {
   "cell_type": "code",
   "execution_count": 3,
   "id": "9b1ff2c1-4c35-4d62-a0c8-9e8425ed5e7f",
   "metadata": {},
   "outputs": [],
   "source": [
    "data = np.random.randn(4,3) # normal dağılıma sahip 4x3'lük bir numpy matris oluşturur..."
   ]
  },
  {
   "cell_type": "markdown",
   "id": "3e8450a3-7b1d-47a5-9213-5639aa471478",
   "metadata": {},
   "source": [
    "> Data Frame dediğimiz kavram, bizlere bir veri çerçevesi oluşturur. Bu veri çerçevesi dediğimiz şey temel bir excel tablosu gibi düşünebiliriz."
   ]
  },
  {
   "cell_type": "code",
   "execution_count": 4,
   "id": "28b3cbd4-e932-4752-a4db-81094657f841",
   "metadata": {},
   "outputs": [],
   "source": [
    "dataFrame = pd.DataFrame(data) # dataframe çerçevesini dataFrame değişkenine atadım."
   ]
  },
  {
   "cell_type": "code",
   "execution_count": 5,
   "id": "1df1e703-f419-4c5f-80c9-c057d258f91c",
   "metadata": {},
   "outputs": [
    {
     "data": {
      "text/html": [
       "<div>\n",
       "<style scoped>\n",
       "    .dataframe tbody tr th:only-of-type {\n",
       "        vertical-align: middle;\n",
       "    }\n",
       "\n",
       "    .dataframe tbody tr th {\n",
       "        vertical-align: top;\n",
       "    }\n",
       "\n",
       "    .dataframe thead th {\n",
       "        text-align: right;\n",
       "    }\n",
       "</style>\n",
       "<table border=\"1\" class=\"dataframe\">\n",
       "  <thead>\n",
       "    <tr style=\"text-align: right;\">\n",
       "      <th></th>\n",
       "      <th>0</th>\n",
       "      <th>1</th>\n",
       "      <th>2</th>\n",
       "    </tr>\n",
       "  </thead>\n",
       "  <tbody>\n",
       "    <tr>\n",
       "      <th>0</th>\n",
       "      <td>-3.050544</td>\n",
       "      <td>0.886662</td>\n",
       "      <td>1.941003</td>\n",
       "    </tr>\n",
       "    <tr>\n",
       "      <th>1</th>\n",
       "      <td>0.276350</td>\n",
       "      <td>-1.233871</td>\n",
       "      <td>1.519711</td>\n",
       "    </tr>\n",
       "    <tr>\n",
       "      <th>2</th>\n",
       "      <td>0.142419</td>\n",
       "      <td>1.070014</td>\n",
       "      <td>0.847835</td>\n",
       "    </tr>\n",
       "    <tr>\n",
       "      <th>3</th>\n",
       "      <td>-0.694888</td>\n",
       "      <td>-1.299716</td>\n",
       "      <td>-1.015089</td>\n",
       "    </tr>\n",
       "  </tbody>\n",
       "</table>\n",
       "</div>"
      ],
      "text/plain": [
       "          0         1         2\n",
       "0 -3.050544  0.886662  1.941003\n",
       "1  0.276350 -1.233871  1.519711\n",
       "2  0.142419  1.070014  0.847835\n",
       "3 -0.694888 -1.299716 -1.015089"
      ]
     },
     "execution_count": 5,
     "metadata": {},
     "output_type": "execute_result"
    }
   ],
   "source": [
    "dataFrame # görüntüledim"
   ]
  },
  {
   "cell_type": "code",
   "execution_count": 6,
   "id": "9115cb65-97aa-4153-a98a-dceade581303",
   "metadata": {},
   "outputs": [
    {
     "data": {
      "text/plain": [
       "0   -3.050544\n",
       "1    0.276350\n",
       "2    0.142419\n",
       "3   -0.694888\n",
       "Name: 0, dtype: float64"
      ]
     },
     "execution_count": 6,
     "metadata": {},
     "output_type": "execute_result"
    }
   ],
   "source": [
    "dataFrame[0] # 0. sütunu seçmene olanak sağlar"
   ]
  },
  {
   "cell_type": "markdown",
   "id": "a0bad229-aa3a-4009-b455-aac77c068493",
   "metadata": {},
   "source": [
    "> Data Frame dediğimiz kavram temelinde bir pandas serisidir. Tek farklı bu serileri yan yana getirtir bir tablo gibi gösterim sağlar..."
   ]
  },
  {
   "cell_type": "code",
   "execution_count": 7,
   "id": "ae2f026d-b141-4ca0-bf06-7d778f05ec3b",
   "metadata": {},
   "outputs": [
    {
     "data": {
      "text/plain": [
       "pandas.core.series.Series"
      ]
     },
     "execution_count": 7,
     "metadata": {},
     "output_type": "execute_result"
    }
   ],
   "source": [
    "type(dataFrame[0]) # series türü olduğunu görüntüledik"
   ]
  },
  {
   "cell_type": "markdown",
   "id": "2e934802-3d6e-4fb8-8fdb-f11b637d8c1b",
   "metadata": {},
   "source": [
    "* Peki dataframelerde indeksleri değiştirebilir miyiz ?\n",
    "\n",
    "> Ayrıca data framelerde iki adet index vardır biri satır indexidir. diğeri sütun indexidir."
   ]
  },
  {
   "cell_type": "code",
   "execution_count": 8,
   "id": "9a95cf86-69ec-48dd-836d-25988df7207f",
   "metadata": {},
   "outputs": [],
   "source": [
    "yeniDataFrame = pd.DataFrame(data, index = [\"Ahmet\",\"Ali\",\"Ayşe\",\"Melike\"], columns = [\"Maaş\", \"Yaş\",\"Çalışma Saatleri\"])"
   ]
  },
  {
   "cell_type": "markdown",
   "id": "b3492b95-14bd-485e-ae3f-88b992dfd31f",
   "metadata": {},
   "source": [
    "* İndexte bizim satır isimlerimizi değiştirdik.\n",
    "* columns'ta ise bizim sütun bilgilerini değiştirdik.\n",
    "\n",
    "Veriyi aslında daha anlaşılabilir bir şekilde görselleştirmiş olduk..."
   ]
  },
  {
   "cell_type": "code",
   "execution_count": 9,
   "id": "7f95d2c0-611a-4fe4-ba46-843557342d06",
   "metadata": {},
   "outputs": [
    {
     "data": {
      "text/html": [
       "<div>\n",
       "<style scoped>\n",
       "    .dataframe tbody tr th:only-of-type {\n",
       "        vertical-align: middle;\n",
       "    }\n",
       "\n",
       "    .dataframe tbody tr th {\n",
       "        vertical-align: top;\n",
       "    }\n",
       "\n",
       "    .dataframe thead th {\n",
       "        text-align: right;\n",
       "    }\n",
       "</style>\n",
       "<table border=\"1\" class=\"dataframe\">\n",
       "  <thead>\n",
       "    <tr style=\"text-align: right;\">\n",
       "      <th></th>\n",
       "      <th>Maaş</th>\n",
       "      <th>Yaş</th>\n",
       "      <th>Çalışma Saatleri</th>\n",
       "    </tr>\n",
       "  </thead>\n",
       "  <tbody>\n",
       "    <tr>\n",
       "      <th>Ahmet</th>\n",
       "      <td>-3.050544</td>\n",
       "      <td>0.886662</td>\n",
       "      <td>1.941003</td>\n",
       "    </tr>\n",
       "    <tr>\n",
       "      <th>Ali</th>\n",
       "      <td>0.276350</td>\n",
       "      <td>-1.233871</td>\n",
       "      <td>1.519711</td>\n",
       "    </tr>\n",
       "    <tr>\n",
       "      <th>Ayşe</th>\n",
       "      <td>0.142419</td>\n",
       "      <td>1.070014</td>\n",
       "      <td>0.847835</td>\n",
       "    </tr>\n",
       "    <tr>\n",
       "      <th>Melike</th>\n",
       "      <td>-0.694888</td>\n",
       "      <td>-1.299716</td>\n",
       "      <td>-1.015089</td>\n",
       "    </tr>\n",
       "  </tbody>\n",
       "</table>\n",
       "</div>"
      ],
      "text/plain": [
       "            Maaş       Yaş  Çalışma Saatleri\n",
       "Ahmet  -3.050544  0.886662          1.941003\n",
       "Ali     0.276350 -1.233871          1.519711\n",
       "Ayşe    0.142419  1.070014          0.847835\n",
       "Melike -0.694888 -1.299716         -1.015089"
      ]
     },
     "execution_count": 9,
     "metadata": {},
     "output_type": "execute_result"
    }
   ],
   "source": [
    "yeniDataFrame"
   ]
  },
  {
   "cell_type": "code",
   "execution_count": 10,
   "id": "52971982-d0ee-4890-9f2a-09a2f14bff82",
   "metadata": {},
   "outputs": [
    {
     "data": {
      "text/plain": [
       "Ahmet     0.886662\n",
       "Ali      -1.233871\n",
       "Ayşe      1.070014\n",
       "Melike   -1.299716\n",
       "Name: Yaş, dtype: float64"
      ]
     },
     "execution_count": 10,
     "metadata": {},
     "output_type": "execute_result"
    }
   ],
   "source": [
    "yeniDataFrame[\"Yaş\"] # dataframe içerisinden istenilen sütun bilgilerini seçmemize olanak sağlar ve sonucunda pandas serisi döndürür..."
   ]
  },
  {
   "cell_type": "code",
   "execution_count": 11,
   "id": "25adb37d-b0d7-4981-b5d2-93fd7b0af5ee",
   "metadata": {},
   "outputs": [
    {
     "data": {
      "text/plain": [
       "Ahmet     1.941003\n",
       "Ali       1.519711\n",
       "Ayşe      0.847835\n",
       "Melike   -1.015089\n",
       "Name: Çalışma Saatleri, dtype: float64"
      ]
     },
     "execution_count": 11,
     "metadata": {},
     "output_type": "execute_result"
    }
   ],
   "source": [
    "yeniDataFrame[\"Çalışma Saatleri\"] # çalışma saatleri sütununu bana seçer ve pandas serisi olarak döndürür."
   ]
  },
  {
   "cell_type": "code",
   "execution_count": 12,
   "id": "8d39b55c-2fb7-4fb1-b417-d9a1ba34671a",
   "metadata": {},
   "outputs": [
    {
     "data": {
      "text/html": [
       "<div>\n",
       "<style scoped>\n",
       "    .dataframe tbody tr th:only-of-type {\n",
       "        vertical-align: middle;\n",
       "    }\n",
       "\n",
       "    .dataframe tbody tr th {\n",
       "        vertical-align: top;\n",
       "    }\n",
       "\n",
       "    .dataframe thead th {\n",
       "        text-align: right;\n",
       "    }\n",
       "</style>\n",
       "<table border=\"1\" class=\"dataframe\">\n",
       "  <thead>\n",
       "    <tr style=\"text-align: right;\">\n",
       "      <th></th>\n",
       "      <th>Maaş</th>\n",
       "      <th>Yaş</th>\n",
       "    </tr>\n",
       "  </thead>\n",
       "  <tbody>\n",
       "    <tr>\n",
       "      <th>Ahmet</th>\n",
       "      <td>-3.050544</td>\n",
       "      <td>0.886662</td>\n",
       "    </tr>\n",
       "    <tr>\n",
       "      <th>Ali</th>\n",
       "      <td>0.276350</td>\n",
       "      <td>-1.233871</td>\n",
       "    </tr>\n",
       "    <tr>\n",
       "      <th>Ayşe</th>\n",
       "      <td>0.142419</td>\n",
       "      <td>1.070014</td>\n",
       "    </tr>\n",
       "    <tr>\n",
       "      <th>Melike</th>\n",
       "      <td>-0.694888</td>\n",
       "      <td>-1.299716</td>\n",
       "    </tr>\n",
       "  </tbody>\n",
       "</table>\n",
       "</div>"
      ],
      "text/plain": [
       "            Maaş       Yaş\n",
       "Ahmet  -3.050544  0.886662\n",
       "Ali     0.276350 -1.233871\n",
       "Ayşe    0.142419  1.070014\n",
       "Melike -0.694888 -1.299716"
      ]
     },
     "execution_count": 12,
     "metadata": {},
     "output_type": "execute_result"
    }
   ],
   "source": [
    "yeniDataFrame[[\"Maaş\", \"Yaş\"]] # iki farklı sütunu aynı anda seçebiliyorum"
   ]
  },
  {
   "cell_type": "code",
   "execution_count": 13,
   "id": "bf1a1dca-bf9e-4284-a140-c1e307e655f0",
   "metadata": {},
   "outputs": [
    {
     "data": {
      "text/html": [
       "<div>\n",
       "<style scoped>\n",
       "    .dataframe tbody tr th:only-of-type {\n",
       "        vertical-align: middle;\n",
       "    }\n",
       "\n",
       "    .dataframe tbody tr th {\n",
       "        vertical-align: top;\n",
       "    }\n",
       "\n",
       "    .dataframe thead th {\n",
       "        text-align: right;\n",
       "    }\n",
       "</style>\n",
       "<table border=\"1\" class=\"dataframe\">\n",
       "  <thead>\n",
       "    <tr style=\"text-align: right;\">\n",
       "      <th></th>\n",
       "      <th>Maaş</th>\n",
       "      <th>Yaş</th>\n",
       "      <th>Çalışma Saatleri</th>\n",
       "    </tr>\n",
       "  </thead>\n",
       "  <tbody>\n",
       "    <tr>\n",
       "      <th>Ahmet</th>\n",
       "      <td>-3.050544</td>\n",
       "      <td>0.886662</td>\n",
       "      <td>1.941003</td>\n",
       "    </tr>\n",
       "    <tr>\n",
       "      <th>Ali</th>\n",
       "      <td>0.276350</td>\n",
       "      <td>-1.233871</td>\n",
       "      <td>1.519711</td>\n",
       "    </tr>\n",
       "    <tr>\n",
       "      <th>Ayşe</th>\n",
       "      <td>0.142419</td>\n",
       "      <td>1.070014</td>\n",
       "      <td>0.847835</td>\n",
       "    </tr>\n",
       "    <tr>\n",
       "      <th>Melike</th>\n",
       "      <td>-0.694888</td>\n",
       "      <td>-1.299716</td>\n",
       "      <td>-1.015089</td>\n",
       "    </tr>\n",
       "  </tbody>\n",
       "</table>\n",
       "</div>"
      ],
      "text/plain": [
       "            Maaş       Yaş  Çalışma Saatleri\n",
       "Ahmet  -3.050544  0.886662          1.941003\n",
       "Ali     0.276350 -1.233871          1.519711\n",
       "Ayşe    0.142419  1.070014          0.847835\n",
       "Melike -0.694888 -1.299716         -1.015089"
      ]
     },
     "execution_count": 13,
     "metadata": {},
     "output_type": "execute_result"
    }
   ],
   "source": [
    "yeniDataFrame"
   ]
  },
  {
   "cell_type": "markdown",
   "id": "1c268bb1-1664-44cf-8b79-c10a3b3d433d",
   "metadata": {},
   "source": [
    "> Biz bu zamana kadar sürekli olarak sütunları seçtik.\n",
    "\n",
    "* Peki biz satırları seçebilir miyiz\n",
    "\n",
    "> Evet Seçebiliriz bunu ise loc kullanarak yapabiliriz."
   ]
  },
  {
   "cell_type": "markdown",
   "id": "277f6087-189b-45b8-b33d-9185b1386405",
   "metadata": {},
   "source": [
    "```python\r",
    "yeniDataFrame[\"Ahmet\"]\n",
    "ek\r\n"
   ]
  },
  {
   "cell_type": "markdown",
   "id": "748266e0-6bc0-49f7-883a-95580855769d",
   "metadata": {},
   "source": [
    "> Eğer bu kodu bu şekilde çalıştırırsak hata alırız çünkü bu kod direkt olarak sütunlar arasında araştırma yapmamıza olanak sağlar. "
   ]
  },
  {
   "cell_type": "code",
   "execution_count": 14,
   "id": "f2bcd132-6147-400f-b5d4-0154c4076b69",
   "metadata": {},
   "outputs": [
    {
     "data": {
      "text/plain": [
       "Maaş               -3.050544\n",
       "Yaş                 0.886662\n",
       "Çalışma Saatleri    1.941003\n",
       "Name: Ahmet, dtype: float64"
      ]
     },
     "execution_count": 14,
     "metadata": {},
     "output_type": "execute_result"
    }
   ],
   "source": [
    "yeniDataFrame.loc[\"Ahmet\"] # bu şekilde ahmet satırında bulunan bütün verileri bana bir pandas serisi olarak döndürür"
   ]
  },
  {
   "cell_type": "code",
   "execution_count": 15,
   "id": "c8bdc787-2225-48a2-b8de-c34109c5ed8f",
   "metadata": {},
   "outputs": [
    {
     "data": {
      "text/plain": [
       "Maaş               -0.694888\n",
       "Yaş                -1.299716\n",
       "Çalışma Saatleri   -1.015089\n",
       "Name: Melike, dtype: float64"
      ]
     },
     "execution_count": 15,
     "metadata": {},
     "output_type": "execute_result"
    }
   ],
   "source": [
    "yeniDataFrame.loc[\"Melike\"] # melike satırındaki bütün değerleri bana getirir."
   ]
  },
  {
   "cell_type": "code",
   "execution_count": 16,
   "id": "7976e0a5-b030-45c3-b9a9-5ce07525207d",
   "metadata": {},
   "outputs": [
    {
     "data": {
      "text/plain": [
       "Maaş               -3.050544\n",
       "Yaş                 0.886662\n",
       "Çalışma Saatleri    1.941003\n",
       "Name: Ahmet, dtype: float64"
      ]
     },
     "execution_count": 16,
     "metadata": {},
     "output_type": "execute_result"
    }
   ],
   "source": [
    "# aynı zamanda index bazlı da loc değerini kullanabiliriz. Mesela\n",
    "yeniDataFrame.iloc[0] # 0. indexte olan değerin verilerini bana getirir yani Ahmet'in verileri"
   ]
  },
  {
   "cell_type": "code",
   "execution_count": 18,
   "id": "a32233ce-b4d7-4330-a5fe-98077acca4d7",
   "metadata": {},
   "outputs": [
    {
     "data": {
      "text/plain": [
       "Ahmet    -3.050544\n",
       "Ali       0.276350\n",
       "Ayşe      0.142419\n",
       "Melike   -0.694888\n",
       "Name: Maaş, dtype: float64"
      ]
     },
     "execution_count": 18,
     "metadata": {},
     "output_type": "execute_result"
    }
   ],
   "source": [
    "yeniDataFrame[\"Maaş\"]"
   ]
  },
  {
   "cell_type": "markdown",
   "id": "1c04133b-fcd1-4e26-a325-053ed0fee8c0",
   "metadata": {},
   "source": [
    "> Bazen oluşturduğumuz dataframelere yeni bir kolon ekleyebiliriz. Bu kolonu aşağıdaki gibi ekledik.\n",
    "\n",
    "* Burada yaptığımız işlem emeklilik yaşı diye bir sütun oluşturup bunun içerisinde toplama gerçekleştirdik."
   ]
  },
  {
   "cell_type": "code",
   "execution_count": 39,
   "id": "a9675281-b4ea-4af1-8b52-9c64445831c9",
   "metadata": {},
   "outputs": [],
   "source": [
    "yeniDataFrame[\"Emeklilik Yaşı\"] = yeniDataFrame[\"Yaş\"] + yeniDataFrame[\"Yaş\"] # yeniDataFrame'e yeni bir kolon eklemiş oluruz..."
   ]
  },
  {
   "cell_type": "code",
   "execution_count": 40,
   "id": "753adb9d-1df2-4d50-9cea-ed1baa1b430c",
   "metadata": {},
   "outputs": [
    {
     "data": {
      "text/html": [
       "<div>\n",
       "<style scoped>\n",
       "    .dataframe tbody tr th:only-of-type {\n",
       "        vertical-align: middle;\n",
       "    }\n",
       "\n",
       "    .dataframe tbody tr th {\n",
       "        vertical-align: top;\n",
       "    }\n",
       "\n",
       "    .dataframe thead th {\n",
       "        text-align: right;\n",
       "    }\n",
       "</style>\n",
       "<table border=\"1\" class=\"dataframe\">\n",
       "  <thead>\n",
       "    <tr style=\"text-align: right;\">\n",
       "      <th></th>\n",
       "      <th>Maaş</th>\n",
       "      <th>Yaş</th>\n",
       "      <th>Çalışma Saatleri</th>\n",
       "      <th>Emeklilik Yaşı</th>\n",
       "    </tr>\n",
       "  </thead>\n",
       "  <tbody>\n",
       "    <tr>\n",
       "      <th>Ahmet</th>\n",
       "      <td>-3.050544</td>\n",
       "      <td>0.886662</td>\n",
       "      <td>1.941003</td>\n",
       "      <td>1.773325</td>\n",
       "    </tr>\n",
       "    <tr>\n",
       "      <th>Ali</th>\n",
       "      <td>0.276350</td>\n",
       "      <td>-1.233871</td>\n",
       "      <td>1.519711</td>\n",
       "      <td>-2.467741</td>\n",
       "    </tr>\n",
       "    <tr>\n",
       "      <th>Ayşe</th>\n",
       "      <td>0.142419</td>\n",
       "      <td>1.070014</td>\n",
       "      <td>0.847835</td>\n",
       "      <td>2.140028</td>\n",
       "    </tr>\n",
       "    <tr>\n",
       "      <th>Melike</th>\n",
       "      <td>-0.694888</td>\n",
       "      <td>-1.299716</td>\n",
       "      <td>-1.015089</td>\n",
       "      <td>-2.599432</td>\n",
       "    </tr>\n",
       "  </tbody>\n",
       "</table>\n",
       "</div>"
      ],
      "text/plain": [
       "            Maaş       Yaş  Çalışma Saatleri  Emeklilik Yaşı\n",
       "Ahmet  -3.050544  0.886662          1.941003        1.773325\n",
       "Ali     0.276350 -1.233871          1.519711       -2.467741\n",
       "Ayşe    0.142419  1.070014          0.847835        2.140028\n",
       "Melike -0.694888 -1.299716         -1.015089       -2.599432"
      ]
     },
     "execution_count": 40,
     "metadata": {},
     "output_type": "execute_result"
    }
   ],
   "source": [
    "yeniDataFrame # görüldüğü gibi yeni sütun eklendi"
   ]
  },
  {
   "cell_type": "markdown",
   "id": "b7abb648-a62c-4b46-aa03-79aa1ca2d59f",
   "metadata": {},
   "source": [
    "> Peki var olan bir dataframeden sütun veya satırları düşürmek mümkün müdür?\n",
    "\n",
    "* Evet mümkündür. İstenilmeyen satırları drop methodunu kullanarak düşürebiliriz. \n",
    "* Ama drop methodunu kullanırken axis diye bir çağrı yapmazsak kod çalışırken hata verecektir...\n",
    "* axis'e = 1 verirsek bizim sütunumuzu yani 'Emeklilik Yaşı','Maaş','Yaş','Çalışma Saatleri' gibi sütunlardan istenileni dataframeden silecektir.\n",
    "* axis'e = 0 verirsek bizim satırımızı yani 'Ahmet','Ali','Ayşe','Melike' gibi satırlardan birini dataframeden silecektir. (axis varsayılan değeri sıfırdır...)"
   ]
  },
  {
   "cell_type": "code",
   "execution_count": 41,
   "id": "3e7191b0-e4e4-4745-b72a-a157cce3ff54",
   "metadata": {},
   "outputs": [
    {
     "data": {
      "text/html": [
       "<div>\n",
       "<style scoped>\n",
       "    .dataframe tbody tr th:only-of-type {\n",
       "        vertical-align: middle;\n",
       "    }\n",
       "\n",
       "    .dataframe tbody tr th {\n",
       "        vertical-align: top;\n",
       "    }\n",
       "\n",
       "    .dataframe thead th {\n",
       "        text-align: right;\n",
       "    }\n",
       "</style>\n",
       "<table border=\"1\" class=\"dataframe\">\n",
       "  <thead>\n",
       "    <tr style=\"text-align: right;\">\n",
       "      <th></th>\n",
       "      <th>Maaş</th>\n",
       "      <th>Yaş</th>\n",
       "      <th>Çalışma Saatleri</th>\n",
       "    </tr>\n",
       "  </thead>\n",
       "  <tbody>\n",
       "    <tr>\n",
       "      <th>Ahmet</th>\n",
       "      <td>-3.050544</td>\n",
       "      <td>0.886662</td>\n",
       "      <td>1.941003</td>\n",
       "    </tr>\n",
       "    <tr>\n",
       "      <th>Ali</th>\n",
       "      <td>0.276350</td>\n",
       "      <td>-1.233871</td>\n",
       "      <td>1.519711</td>\n",
       "    </tr>\n",
       "    <tr>\n",
       "      <th>Ayşe</th>\n",
       "      <td>0.142419</td>\n",
       "      <td>1.070014</td>\n",
       "      <td>0.847835</td>\n",
       "    </tr>\n",
       "    <tr>\n",
       "      <th>Melike</th>\n",
       "      <td>-0.694888</td>\n",
       "      <td>-1.299716</td>\n",
       "      <td>-1.015089</td>\n",
       "    </tr>\n",
       "  </tbody>\n",
       "</table>\n",
       "</div>"
      ],
      "text/plain": [
       "            Maaş       Yaş  Çalışma Saatleri\n",
       "Ahmet  -3.050544  0.886662          1.941003\n",
       "Ali     0.276350 -1.233871          1.519711\n",
       "Ayşe    0.142419  1.070014          0.847835\n",
       "Melike -0.694888 -1.299716         -1.015089"
      ]
     },
     "execution_count": 41,
     "metadata": {},
     "output_type": "execute_result"
    }
   ],
   "source": [
    "yeniDataFrame.drop(\"Emeklilik Yaşı\", axis = 1) # Emeklilik yaşı sütununu dataframeden sildi..."
   ]
  },
  {
   "cell_type": "code",
   "execution_count": 42,
   "id": "50c2400e-59e9-4aa9-9a78-559816845275",
   "metadata": {},
   "outputs": [
    {
     "data": {
      "text/html": [
       "<div>\n",
       "<style scoped>\n",
       "    .dataframe tbody tr th:only-of-type {\n",
       "        vertical-align: middle;\n",
       "    }\n",
       "\n",
       "    .dataframe tbody tr th {\n",
       "        vertical-align: top;\n",
       "    }\n",
       "\n",
       "    .dataframe thead th {\n",
       "        text-align: right;\n",
       "    }\n",
       "</style>\n",
       "<table border=\"1\" class=\"dataframe\">\n",
       "  <thead>\n",
       "    <tr style=\"text-align: right;\">\n",
       "      <th></th>\n",
       "      <th>Maaş</th>\n",
       "      <th>Yaş</th>\n",
       "      <th>Çalışma Saatleri</th>\n",
       "      <th>Emeklilik Yaşı</th>\n",
       "    </tr>\n",
       "  </thead>\n",
       "  <tbody>\n",
       "    <tr>\n",
       "      <th>Ahmet</th>\n",
       "      <td>-3.050544</td>\n",
       "      <td>0.886662</td>\n",
       "      <td>1.941003</td>\n",
       "      <td>1.773325</td>\n",
       "    </tr>\n",
       "    <tr>\n",
       "      <th>Ali</th>\n",
       "      <td>0.276350</td>\n",
       "      <td>-1.233871</td>\n",
       "      <td>1.519711</td>\n",
       "      <td>-2.467741</td>\n",
       "    </tr>\n",
       "    <tr>\n",
       "      <th>Ayşe</th>\n",
       "      <td>0.142419</td>\n",
       "      <td>1.070014</td>\n",
       "      <td>0.847835</td>\n",
       "      <td>2.140028</td>\n",
       "    </tr>\n",
       "  </tbody>\n",
       "</table>\n",
       "</div>"
      ],
      "text/plain": [
       "           Maaş       Yaş  Çalışma Saatleri  Emeklilik Yaşı\n",
       "Ahmet -3.050544  0.886662          1.941003        1.773325\n",
       "Ali    0.276350 -1.233871          1.519711       -2.467741\n",
       "Ayşe   0.142419  1.070014          0.847835        2.140028"
      ]
     },
     "execution_count": 42,
     "metadata": {},
     "output_type": "execute_result"
    }
   ],
   "source": [
    "yeniDataFrame.drop(\"Melike\", axis = 0) # axis'i belirtmene gerek yok çünkü varsayılan değer sıfırdır ama \n",
    "# yine de sıfır yazarsak melike satırını dataframeden sildi...."
   ]
  },
  {
   "cell_type": "code",
   "execution_count": 43,
   "id": "3f287d93-a438-4782-b25a-7378ceaba35c",
   "metadata": {},
   "outputs": [
    {
     "data": {
      "text/html": [
       "<div>\n",
       "<style scoped>\n",
       "    .dataframe tbody tr th:only-of-type {\n",
       "        vertical-align: middle;\n",
       "    }\n",
       "\n",
       "    .dataframe tbody tr th {\n",
       "        vertical-align: top;\n",
       "    }\n",
       "\n",
       "    .dataframe thead th {\n",
       "        text-align: right;\n",
       "    }\n",
       "</style>\n",
       "<table border=\"1\" class=\"dataframe\">\n",
       "  <thead>\n",
       "    <tr style=\"text-align: right;\">\n",
       "      <th></th>\n",
       "      <th>Maaş</th>\n",
       "      <th>Yaş</th>\n",
       "      <th>Çalışma Saatleri</th>\n",
       "      <th>Emeklilik Yaşı</th>\n",
       "    </tr>\n",
       "  </thead>\n",
       "  <tbody>\n",
       "    <tr>\n",
       "      <th>Ahmet</th>\n",
       "      <td>-3.050544</td>\n",
       "      <td>0.886662</td>\n",
       "      <td>1.941003</td>\n",
       "      <td>1.773325</td>\n",
       "    </tr>\n",
       "    <tr>\n",
       "      <th>Ali</th>\n",
       "      <td>0.276350</td>\n",
       "      <td>-1.233871</td>\n",
       "      <td>1.519711</td>\n",
       "      <td>-2.467741</td>\n",
       "    </tr>\n",
       "    <tr>\n",
       "      <th>Ayşe</th>\n",
       "      <td>0.142419</td>\n",
       "      <td>1.070014</td>\n",
       "      <td>0.847835</td>\n",
       "      <td>2.140028</td>\n",
       "    </tr>\n",
       "    <tr>\n",
       "      <th>Melike</th>\n",
       "      <td>-0.694888</td>\n",
       "      <td>-1.299716</td>\n",
       "      <td>-1.015089</td>\n",
       "      <td>-2.599432</td>\n",
       "    </tr>\n",
       "  </tbody>\n",
       "</table>\n",
       "</div>"
      ],
      "text/plain": [
       "            Maaş       Yaş  Çalışma Saatleri  Emeklilik Yaşı\n",
       "Ahmet  -3.050544  0.886662          1.941003        1.773325\n",
       "Ali     0.276350 -1.233871          1.519711       -2.467741\n",
       "Ayşe    0.142419  1.070014          0.847835        2.140028\n",
       "Melike -0.694888 -1.299716         -1.015089       -2.599432"
      ]
     },
     "execution_count": 43,
     "metadata": {},
     "output_type": "execute_result"
    }
   ],
   "source": [
    "yeniDataFrame # herhangi bir değişiklik olmadı ? Neden ?"
   ]
  },
  {
   "cell_type": "markdown",
   "id": "6c7cfdfe-a688-42f3-a1d9-4e7233c0b92c",
   "metadata": {},
   "source": [
    "> Bu şekilde drop kullanımı dataframe'de değişikliğe sebep olmaz çünkü bu değişikliği dataframe'e bildirmediğimizi gösterir.\n",
    "* Bunu önlemek istiyorsak inplace diye bir özelliği drop'un içerisine eklememiz gerekir.\n",
    "* drop içerisinde yazılan inplace özelliği boolean değer döndürür yani true veya false değer döndürür..."
   ]
  },
  {
   "cell_type": "code",
   "execution_count": 44,
   "id": "20dbeb9a-5fa3-4e62-b0d6-fa52cbbba84c",
   "metadata": {},
   "outputs": [],
   "source": [
    "yeniDataFrame.drop(\"Emeklilik Yaşı\", axis = 1, inplace=True) # inplace özelliğini kullanarak değişikliği dataframe ile eşitlemiş olduk...."
   ]
  },
  {
   "cell_type": "code",
   "execution_count": 45,
   "id": "6247ce92-9d48-46c2-af44-145921a98276",
   "metadata": {},
   "outputs": [
    {
     "data": {
      "text/html": [
       "<div>\n",
       "<style scoped>\n",
       "    .dataframe tbody tr th:only-of-type {\n",
       "        vertical-align: middle;\n",
       "    }\n",
       "\n",
       "    .dataframe tbody tr th {\n",
       "        vertical-align: top;\n",
       "    }\n",
       "\n",
       "    .dataframe thead th {\n",
       "        text-align: right;\n",
       "    }\n",
       "</style>\n",
       "<table border=\"1\" class=\"dataframe\">\n",
       "  <thead>\n",
       "    <tr style=\"text-align: right;\">\n",
       "      <th></th>\n",
       "      <th>Maaş</th>\n",
       "      <th>Yaş</th>\n",
       "      <th>Çalışma Saatleri</th>\n",
       "    </tr>\n",
       "  </thead>\n",
       "  <tbody>\n",
       "    <tr>\n",
       "      <th>Ahmet</th>\n",
       "      <td>-3.050544</td>\n",
       "      <td>0.886662</td>\n",
       "      <td>1.941003</td>\n",
       "    </tr>\n",
       "    <tr>\n",
       "      <th>Ali</th>\n",
       "      <td>0.276350</td>\n",
       "      <td>-1.233871</td>\n",
       "      <td>1.519711</td>\n",
       "    </tr>\n",
       "    <tr>\n",
       "      <th>Ayşe</th>\n",
       "      <td>0.142419</td>\n",
       "      <td>1.070014</td>\n",
       "      <td>0.847835</td>\n",
       "    </tr>\n",
       "    <tr>\n",
       "      <th>Melike</th>\n",
       "      <td>-0.694888</td>\n",
       "      <td>-1.299716</td>\n",
       "      <td>-1.015089</td>\n",
       "    </tr>\n",
       "  </tbody>\n",
       "</table>\n",
       "</div>"
      ],
      "text/plain": [
       "            Maaş       Yaş  Çalışma Saatleri\n",
       "Ahmet  -3.050544  0.886662          1.941003\n",
       "Ali     0.276350 -1.233871          1.519711\n",
       "Ayşe    0.142419  1.070014          0.847835\n",
       "Melike -0.694888 -1.299716         -1.015089"
      ]
     },
     "execution_count": 45,
     "metadata": {},
     "output_type": "execute_result"
    }
   ],
   "source": [
    "yeniDataFrame"
   ]
  },
  {
   "cell_type": "markdown",
   "id": "8c805adb-6df3-4d90-a4e2-ba4ba01df6b6",
   "metadata": {},
   "source": [
    "> Satırlar içerisinden bir değeri göstermemiz gerektiğini veya listelemek gibi bir durum olduğunda nasıl bir yol izlemeliyiz ?\n",
    "* Örneğin Ayşe'nin yaşını göstermek istediğimizde nasıl listeleriz ?"
   ]
  },
  {
   "cell_type": "code",
   "execution_count": 47,
   "id": "fbadd159-85ab-47df-9264-19d212740660",
   "metadata": {},
   "outputs": [
    {
     "data": {
      "text/plain": [
       "1.0700139538453235"
      ]
     },
     "execution_count": 47,
     "metadata": {},
     "output_type": "execute_result"
    }
   ],
   "source": [
    "yeniDataFrame.loc[\"Ayşe\"][\"Yaş\"] # Ayşenin yaşını bana getirir"
   ]
  },
  {
   "cell_type": "code",
   "execution_count": 49,
   "id": "1332a6b3-ca53-42f0-a050-6e550bc1da7b",
   "metadata": {},
   "outputs": [
    {
     "data": {
      "text/plain": [
       "1.0700139538453235"
      ]
     },
     "execution_count": 49,
     "metadata": {},
     "output_type": "execute_result"
    }
   ],
   "source": [
    "yeniDataFrame.loc[\"Ayşe\", \"Yaş\"] # yukarıdaki kodla aynı işlemi yapar iki kullanımda söz konusu olabilir"
   ]
  },
  {
   "cell_type": "markdown",
   "id": "710e0ed4-7f3e-4645-a657-b3a180ecdf46",
   "metadata": {},
   "source": [
    "> Burada gerekli sayısal işaretlere göre verilerini görüntülememiz de mümkündür. "
   ]
  },
  {
   "cell_type": "code",
   "execution_count": 50,
   "id": "fbfa835e-d284-4594-a83f-10cce996dd74",
   "metadata": {},
   "outputs": [
    {
     "data": {
      "text/html": [
       "<div>\n",
       "<style scoped>\n",
       "    .dataframe tbody tr th:only-of-type {\n",
       "        vertical-align: middle;\n",
       "    }\n",
       "\n",
       "    .dataframe tbody tr th {\n",
       "        vertical-align: top;\n",
       "    }\n",
       "\n",
       "    .dataframe thead th {\n",
       "        text-align: right;\n",
       "    }\n",
       "</style>\n",
       "<table border=\"1\" class=\"dataframe\">\n",
       "  <thead>\n",
       "    <tr style=\"text-align: right;\">\n",
       "      <th></th>\n",
       "      <th>Maaş</th>\n",
       "      <th>Yaş</th>\n",
       "      <th>Çalışma Saatleri</th>\n",
       "    </tr>\n",
       "  </thead>\n",
       "  <tbody>\n",
       "    <tr>\n",
       "      <th>Ahmet</th>\n",
       "      <td>True</td>\n",
       "      <td>False</td>\n",
       "      <td>False</td>\n",
       "    </tr>\n",
       "    <tr>\n",
       "      <th>Ali</th>\n",
       "      <td>False</td>\n",
       "      <td>True</td>\n",
       "      <td>False</td>\n",
       "    </tr>\n",
       "    <tr>\n",
       "      <th>Ayşe</th>\n",
       "      <td>False</td>\n",
       "      <td>False</td>\n",
       "      <td>False</td>\n",
       "    </tr>\n",
       "    <tr>\n",
       "      <th>Melike</th>\n",
       "      <td>True</td>\n",
       "      <td>True</td>\n",
       "      <td>True</td>\n",
       "    </tr>\n",
       "  </tbody>\n",
       "</table>\n",
       "</div>"
      ],
      "text/plain": [
       "         Maaş    Yaş  Çalışma Saatleri\n",
       "Ahmet    True  False             False\n",
       "Ali     False   True             False\n",
       "Ayşe    False  False             False\n",
       "Melike   True   True              True"
      ]
     },
     "execution_count": 50,
     "metadata": {},
     "output_type": "execute_result"
    }
   ],
   "source": [
    "yeniDataFrame < 0"
   ]
  },
  {
   "cell_type": "markdown",
   "id": "fd26fadc-e8db-47bf-9918-0fc5c55a343d",
   "metadata": {},
   "source": [
    "> farklı gösterimlerle de gösterim sağlayabiliriz..."
   ]
  },
  {
   "cell_type": "code",
   "execution_count": 51,
   "id": "956b7665-3948-4f32-8717-ea43a866681d",
   "metadata": {},
   "outputs": [],
   "source": [
    "booleanFrame = yeniDataFrame < 0 "
   ]
  },
  {
   "cell_type": "code",
   "execution_count": 52,
   "id": "c403a9eb-c46b-4973-a89e-162cfc30afc8",
   "metadata": {},
   "outputs": [
    {
     "data": {
      "text/html": [
       "<div>\n",
       "<style scoped>\n",
       "    .dataframe tbody tr th:only-of-type {\n",
       "        vertical-align: middle;\n",
       "    }\n",
       "\n",
       "    .dataframe tbody tr th {\n",
       "        vertical-align: top;\n",
       "    }\n",
       "\n",
       "    .dataframe thead th {\n",
       "        text-align: right;\n",
       "    }\n",
       "</style>\n",
       "<table border=\"1\" class=\"dataframe\">\n",
       "  <thead>\n",
       "    <tr style=\"text-align: right;\">\n",
       "      <th></th>\n",
       "      <th>Maaş</th>\n",
       "      <th>Yaş</th>\n",
       "      <th>Çalışma Saatleri</th>\n",
       "    </tr>\n",
       "  </thead>\n",
       "  <tbody>\n",
       "    <tr>\n",
       "      <th>Ahmet</th>\n",
       "      <td>True</td>\n",
       "      <td>False</td>\n",
       "      <td>False</td>\n",
       "    </tr>\n",
       "    <tr>\n",
       "      <th>Ali</th>\n",
       "      <td>False</td>\n",
       "      <td>True</td>\n",
       "      <td>False</td>\n",
       "    </tr>\n",
       "    <tr>\n",
       "      <th>Ayşe</th>\n",
       "      <td>False</td>\n",
       "      <td>False</td>\n",
       "      <td>False</td>\n",
       "    </tr>\n",
       "    <tr>\n",
       "      <th>Melike</th>\n",
       "      <td>True</td>\n",
       "      <td>True</td>\n",
       "      <td>True</td>\n",
       "    </tr>\n",
       "  </tbody>\n",
       "</table>\n",
       "</div>"
      ],
      "text/plain": [
       "         Maaş    Yaş  Çalışma Saatleri\n",
       "Ahmet    True  False             False\n",
       "Ali     False   True             False\n",
       "Ayşe    False  False             False\n",
       "Melike   True   True              True"
      ]
     },
     "execution_count": 52,
     "metadata": {},
     "output_type": "execute_result"
    }
   ],
   "source": [
    "booleanFrame"
   ]
  },
  {
   "cell_type": "code",
   "execution_count": 53,
   "id": "4042e645-ece6-4c28-9e2c-14e8f3501989",
   "metadata": {},
   "outputs": [
    {
     "data": {
      "text/html": [
       "<div>\n",
       "<style scoped>\n",
       "    .dataframe tbody tr th:only-of-type {\n",
       "        vertical-align: middle;\n",
       "    }\n",
       "\n",
       "    .dataframe tbody tr th {\n",
       "        vertical-align: top;\n",
       "    }\n",
       "\n",
       "    .dataframe thead th {\n",
       "        text-align: right;\n",
       "    }\n",
       "</style>\n",
       "<table border=\"1\" class=\"dataframe\">\n",
       "  <thead>\n",
       "    <tr style=\"text-align: right;\">\n",
       "      <th></th>\n",
       "      <th>Maaş</th>\n",
       "      <th>Yaş</th>\n",
       "      <th>Çalışma Saatleri</th>\n",
       "    </tr>\n",
       "  </thead>\n",
       "  <tbody>\n",
       "    <tr>\n",
       "      <th>Ahmet</th>\n",
       "      <td>-3.050544</td>\n",
       "      <td>0.886662</td>\n",
       "      <td>1.941003</td>\n",
       "    </tr>\n",
       "    <tr>\n",
       "      <th>Ali</th>\n",
       "      <td>0.276350</td>\n",
       "      <td>-1.233871</td>\n",
       "      <td>1.519711</td>\n",
       "    </tr>\n",
       "    <tr>\n",
       "      <th>Ayşe</th>\n",
       "      <td>0.142419</td>\n",
       "      <td>1.070014</td>\n",
       "      <td>0.847835</td>\n",
       "    </tr>\n",
       "    <tr>\n",
       "      <th>Melike</th>\n",
       "      <td>-0.694888</td>\n",
       "      <td>-1.299716</td>\n",
       "      <td>-1.015089</td>\n",
       "    </tr>\n",
       "  </tbody>\n",
       "</table>\n",
       "</div>"
      ],
      "text/plain": [
       "            Maaş       Yaş  Çalışma Saatleri\n",
       "Ahmet  -3.050544  0.886662          1.941003\n",
       "Ali     0.276350 -1.233871          1.519711\n",
       "Ayşe    0.142419  1.070014          0.847835\n",
       "Melike -0.694888 -1.299716         -1.015089"
      ]
     },
     "execution_count": 53,
     "metadata": {},
     "output_type": "execute_result"
    }
   ],
   "source": [
    "yeniDataFrame"
   ]
  },
  {
   "cell_type": "code",
   "execution_count": 55,
   "id": "7f87454b-7564-47a2-aa93-5a8d089d8c1a",
   "metadata": {},
   "outputs": [
    {
     "data": {
      "text/html": [
       "<div>\n",
       "<style scoped>\n",
       "    .dataframe tbody tr th:only-of-type {\n",
       "        vertical-align: middle;\n",
       "    }\n",
       "\n",
       "    .dataframe tbody tr th {\n",
       "        vertical-align: top;\n",
       "    }\n",
       "\n",
       "    .dataframe thead th {\n",
       "        text-align: right;\n",
       "    }\n",
       "</style>\n",
       "<table border=\"1\" class=\"dataframe\">\n",
       "  <thead>\n",
       "    <tr style=\"text-align: right;\">\n",
       "      <th></th>\n",
       "      <th>Maaş</th>\n",
       "      <th>Yaş</th>\n",
       "      <th>Çalışma Saatleri</th>\n",
       "    </tr>\n",
       "  </thead>\n",
       "  <tbody>\n",
       "    <tr>\n",
       "      <th>Ahmet</th>\n",
       "      <td>-3.050544</td>\n",
       "      <td>NaN</td>\n",
       "      <td>NaN</td>\n",
       "    </tr>\n",
       "    <tr>\n",
       "      <th>Ali</th>\n",
       "      <td>NaN</td>\n",
       "      <td>-1.233871</td>\n",
       "      <td>NaN</td>\n",
       "    </tr>\n",
       "    <tr>\n",
       "      <th>Ayşe</th>\n",
       "      <td>NaN</td>\n",
       "      <td>NaN</td>\n",
       "      <td>NaN</td>\n",
       "    </tr>\n",
       "    <tr>\n",
       "      <th>Melike</th>\n",
       "      <td>-0.694888</td>\n",
       "      <td>-1.299716</td>\n",
       "      <td>-1.015089</td>\n",
       "    </tr>\n",
       "  </tbody>\n",
       "</table>\n",
       "</div>"
      ],
      "text/plain": [
       "            Maaş       Yaş  Çalışma Saatleri\n",
       "Ahmet  -3.050544       NaN               NaN\n",
       "Ali          NaN -1.233871               NaN\n",
       "Ayşe         NaN       NaN               NaN\n",
       "Melike -0.694888 -1.299716         -1.015089"
      ]
     },
     "execution_count": 55,
     "metadata": {},
     "output_type": "execute_result"
    }
   ],
   "source": [
    "yeniDataFrame[booleanFrame] # sıfırdan küçük değerleri gösterir diğerleri null olarak gösterim sağladığını söyleyebiliriz."
   ]
  },
  {
   "cell_type": "code",
   "execution_count": 57,
   "id": "6d525aba-e92d-4c60-8a36-345a26d64c25",
   "metadata": {},
   "outputs": [
    {
     "data": {
      "text/html": [
       "<div>\n",
       "<style scoped>\n",
       "    .dataframe tbody tr th:only-of-type {\n",
       "        vertical-align: middle;\n",
       "    }\n",
       "\n",
       "    .dataframe tbody tr th {\n",
       "        vertical-align: top;\n",
       "    }\n",
       "\n",
       "    .dataframe thead th {\n",
       "        text-align: right;\n",
       "    }\n",
       "</style>\n",
       "<table border=\"1\" class=\"dataframe\">\n",
       "  <thead>\n",
       "    <tr style=\"text-align: right;\">\n",
       "      <th></th>\n",
       "      <th>Maaş</th>\n",
       "      <th>Yaş</th>\n",
       "      <th>Çalışma Saatleri</th>\n",
       "    </tr>\n",
       "  </thead>\n",
       "  <tbody>\n",
       "    <tr>\n",
       "      <th>Ahmet</th>\n",
       "      <td>-3.050544</td>\n",
       "      <td>NaN</td>\n",
       "      <td>NaN</td>\n",
       "    </tr>\n",
       "    <tr>\n",
       "      <th>Ali</th>\n",
       "      <td>NaN</td>\n",
       "      <td>-1.233871</td>\n",
       "      <td>NaN</td>\n",
       "    </tr>\n",
       "    <tr>\n",
       "      <th>Ayşe</th>\n",
       "      <td>NaN</td>\n",
       "      <td>NaN</td>\n",
       "      <td>NaN</td>\n",
       "    </tr>\n",
       "    <tr>\n",
       "      <th>Melike</th>\n",
       "      <td>-0.694888</td>\n",
       "      <td>-1.299716</td>\n",
       "      <td>-1.015089</td>\n",
       "    </tr>\n",
       "  </tbody>\n",
       "</table>\n",
       "</div>"
      ],
      "text/plain": [
       "            Maaş       Yaş  Çalışma Saatleri\n",
       "Ahmet  -3.050544       NaN               NaN\n",
       "Ali          NaN -1.233871               NaN\n",
       "Ayşe         NaN       NaN               NaN\n",
       "Melike -0.694888 -1.299716         -1.015089"
      ]
     },
     "execution_count": 57,
     "metadata": {},
     "output_type": "execute_result"
    }
   ],
   "source": [
    "yeniDataFrame[yeniDataFrame < 0 ] # bu da değişken tanımlamadan da yapmak mümkündür"
   ]
  },
  {
   "cell_type": "code",
   "execution_count": 60,
   "id": "7a1d7e9c-6a35-4e13-b6af-82eee00cc6ff",
   "metadata": {},
   "outputs": [
    {
     "data": {
      "text/html": [
       "<div>\n",
       "<style scoped>\n",
       "    .dataframe tbody tr th:only-of-type {\n",
       "        vertical-align: middle;\n",
       "    }\n",
       "\n",
       "    .dataframe tbody tr th {\n",
       "        vertical-align: top;\n",
       "    }\n",
       "\n",
       "    .dataframe thead th {\n",
       "        text-align: right;\n",
       "    }\n",
       "</style>\n",
       "<table border=\"1\" class=\"dataframe\">\n",
       "  <thead>\n",
       "    <tr style=\"text-align: right;\">\n",
       "      <th></th>\n",
       "      <th>Maaş</th>\n",
       "      <th>Yaş</th>\n",
       "      <th>Çalışma Saatleri</th>\n",
       "    </tr>\n",
       "  </thead>\n",
       "  <tbody>\n",
       "    <tr>\n",
       "      <th>Ahmet</th>\n",
       "      <td>-3.050544</td>\n",
       "      <td>0.886662</td>\n",
       "      <td>1.941003</td>\n",
       "    </tr>\n",
       "    <tr>\n",
       "      <th>Ayşe</th>\n",
       "      <td>0.142419</td>\n",
       "      <td>1.070014</td>\n",
       "      <td>0.847835</td>\n",
       "    </tr>\n",
       "  </tbody>\n",
       "</table>\n",
       "</div>"
      ],
      "text/plain": [
       "           Maaş       Yaş  Çalışma Saatleri\n",
       "Ahmet -3.050544  0.886662          1.941003\n",
       "Ayşe   0.142419  1.070014          0.847835"
      ]
     },
     "execution_count": 60,
     "metadata": {},
     "output_type": "execute_result"
    }
   ],
   "source": [
    "yeniDataFrame[yeniDataFrame[\"Yaş\"] > 0] # Yaş değişkeni içerisinde sıfırdan büyük olanları listeler olmayan verileri satırdan siler"
   ]
  },
  {
   "cell_type": "markdown",
   "id": "4b7eb6d6-ff26-4306-ab5f-ca22a5dc25fb",
   "metadata": {},
   "source": [
    "#### Index Değiştirme"
   ]
  },
  {
   "cell_type": "code",
   "execution_count": 62,
   "id": "19f00c32-629d-48f2-9af3-db5f5cf862c8",
   "metadata": {},
   "outputs": [
    {
     "data": {
      "text/html": [
       "<div>\n",
       "<style scoped>\n",
       "    .dataframe tbody tr th:only-of-type {\n",
       "        vertical-align: middle;\n",
       "    }\n",
       "\n",
       "    .dataframe tbody tr th {\n",
       "        vertical-align: top;\n",
       "    }\n",
       "\n",
       "    .dataframe thead th {\n",
       "        text-align: right;\n",
       "    }\n",
       "</style>\n",
       "<table border=\"1\" class=\"dataframe\">\n",
       "  <thead>\n",
       "    <tr style=\"text-align: right;\">\n",
       "      <th></th>\n",
       "      <th>index</th>\n",
       "      <th>Maaş</th>\n",
       "      <th>Yaş</th>\n",
       "      <th>Çalışma Saatleri</th>\n",
       "    </tr>\n",
       "  </thead>\n",
       "  <tbody>\n",
       "    <tr>\n",
       "      <th>0</th>\n",
       "      <td>Ahmet</td>\n",
       "      <td>-3.050544</td>\n",
       "      <td>0.886662</td>\n",
       "      <td>1.941003</td>\n",
       "    </tr>\n",
       "    <tr>\n",
       "      <th>1</th>\n",
       "      <td>Ali</td>\n",
       "      <td>0.276350</td>\n",
       "      <td>-1.233871</td>\n",
       "      <td>1.519711</td>\n",
       "    </tr>\n",
       "    <tr>\n",
       "      <th>2</th>\n",
       "      <td>Ayşe</td>\n",
       "      <td>0.142419</td>\n",
       "      <td>1.070014</td>\n",
       "      <td>0.847835</td>\n",
       "    </tr>\n",
       "    <tr>\n",
       "      <th>3</th>\n",
       "      <td>Melike</td>\n",
       "      <td>-0.694888</td>\n",
       "      <td>-1.299716</td>\n",
       "      <td>-1.015089</td>\n",
       "    </tr>\n",
       "  </tbody>\n",
       "</table>\n",
       "</div>"
      ],
      "text/plain": [
       "    index      Maaş       Yaş  Çalışma Saatleri\n",
       "0   Ahmet -3.050544  0.886662          1.941003\n",
       "1     Ali  0.276350 -1.233871          1.519711\n",
       "2    Ayşe  0.142419  1.070014          0.847835\n",
       "3  Melike -0.694888 -1.299716         -1.015089"
      ]
     },
     "execution_count": 62,
     "metadata": {},
     "output_type": "execute_result"
    }
   ],
   "source": [
    "yeniDataFrame.reset_index() # indexleri siler "
   ]
  },
  {
   "cell_type": "code",
   "execution_count": 64,
   "id": "0e4cb7a0-4b39-48b8-ba8f-b1dba9c8a80b",
   "metadata": {},
   "outputs": [
    {
     "data": {
      "text/html": [
       "<div>\n",
       "<style scoped>\n",
       "    .dataframe tbody tr th:only-of-type {\n",
       "        vertical-align: middle;\n",
       "    }\n",
       "\n",
       "    .dataframe tbody tr th {\n",
       "        vertical-align: top;\n",
       "    }\n",
       "\n",
       "    .dataframe thead th {\n",
       "        text-align: right;\n",
       "    }\n",
       "</style>\n",
       "<table border=\"1\" class=\"dataframe\">\n",
       "  <thead>\n",
       "    <tr style=\"text-align: right;\">\n",
       "      <th></th>\n",
       "      <th>Maaş</th>\n",
       "      <th>Yaş</th>\n",
       "      <th>Çalışma Saatleri</th>\n",
       "    </tr>\n",
       "  </thead>\n",
       "  <tbody>\n",
       "    <tr>\n",
       "      <th>Ahmet</th>\n",
       "      <td>-3.050544</td>\n",
       "      <td>0.886662</td>\n",
       "      <td>1.941003</td>\n",
       "    </tr>\n",
       "    <tr>\n",
       "      <th>Ali</th>\n",
       "      <td>0.276350</td>\n",
       "      <td>-1.233871</td>\n",
       "      <td>1.519711</td>\n",
       "    </tr>\n",
       "    <tr>\n",
       "      <th>Ayşe</th>\n",
       "      <td>0.142419</td>\n",
       "      <td>1.070014</td>\n",
       "      <td>0.847835</td>\n",
       "    </tr>\n",
       "    <tr>\n",
       "      <th>Melike</th>\n",
       "      <td>-0.694888</td>\n",
       "      <td>-1.299716</td>\n",
       "      <td>-1.015089</td>\n",
       "    </tr>\n",
       "  </tbody>\n",
       "</table>\n",
       "</div>"
      ],
      "text/plain": [
       "            Maaş       Yaş  Çalışma Saatleri\n",
       "Ahmet  -3.050544  0.886662          1.941003\n",
       "Ali     0.276350 -1.233871          1.519711\n",
       "Ayşe    0.142419  1.070014          0.847835\n",
       "Melike -0.694888 -1.299716         -1.015089"
      ]
     },
     "execution_count": 64,
     "metadata": {},
     "output_type": "execute_result"
    }
   ],
   "source": [
    "yeniDataFrame # inplace'i kullanmadığımız için değişiklik dataframe'e gönderilmedi"
   ]
  },
  {
   "cell_type": "code",
   "execution_count": 65,
   "id": "846172fd-ca5a-4e7c-a4ba-2867cf1a283e",
   "metadata": {},
   "outputs": [],
   "source": [
    "yeniIndexListesi = [\"Ahm\",\"Al\",\"Ayş\",\"Mel\"]"
   ]
  },
  {
   "cell_type": "code",
   "execution_count": 69,
   "id": "b382ecb5-8b79-4865-9aa3-0a4e9b795e03",
   "metadata": {},
   "outputs": [],
   "source": [
    "yeniDataFrame[\"Yeni Index\"] = yeniIndexListesi # sütun olarak ekledim..."
   ]
  },
  {
   "cell_type": "code",
   "execution_count": 70,
   "id": "67c33c53-1083-4daa-b6b2-9c68a72ef490",
   "metadata": {},
   "outputs": [
    {
     "data": {
      "text/html": [
       "<div>\n",
       "<style scoped>\n",
       "    .dataframe tbody tr th:only-of-type {\n",
       "        vertical-align: middle;\n",
       "    }\n",
       "\n",
       "    .dataframe tbody tr th {\n",
       "        vertical-align: top;\n",
       "    }\n",
       "\n",
       "    .dataframe thead th {\n",
       "        text-align: right;\n",
       "    }\n",
       "</style>\n",
       "<table border=\"1\" class=\"dataframe\">\n",
       "  <thead>\n",
       "    <tr style=\"text-align: right;\">\n",
       "      <th></th>\n",
       "      <th>Maaş</th>\n",
       "      <th>Yaş</th>\n",
       "      <th>Çalışma Saatleri</th>\n",
       "      <th>Yeni Index</th>\n",
       "    </tr>\n",
       "  </thead>\n",
       "  <tbody>\n",
       "    <tr>\n",
       "      <th>Ahmet</th>\n",
       "      <td>-3.050544</td>\n",
       "      <td>0.886662</td>\n",
       "      <td>1.941003</td>\n",
       "      <td>Ahm</td>\n",
       "    </tr>\n",
       "    <tr>\n",
       "      <th>Ali</th>\n",
       "      <td>0.276350</td>\n",
       "      <td>-1.233871</td>\n",
       "      <td>1.519711</td>\n",
       "      <td>Al</td>\n",
       "    </tr>\n",
       "    <tr>\n",
       "      <th>Ayşe</th>\n",
       "      <td>0.142419</td>\n",
       "      <td>1.070014</td>\n",
       "      <td>0.847835</td>\n",
       "      <td>Ayş</td>\n",
       "    </tr>\n",
       "    <tr>\n",
       "      <th>Melike</th>\n",
       "      <td>-0.694888</td>\n",
       "      <td>-1.299716</td>\n",
       "      <td>-1.015089</td>\n",
       "      <td>Mel</td>\n",
       "    </tr>\n",
       "  </tbody>\n",
       "</table>\n",
       "</div>"
      ],
      "text/plain": [
       "            Maaş       Yaş  Çalışma Saatleri Yeni Index\n",
       "Ahmet  -3.050544  0.886662          1.941003        Ahm\n",
       "Ali     0.276350 -1.233871          1.519711         Al\n",
       "Ayşe    0.142419  1.070014          0.847835        Ayş\n",
       "Melike -0.694888 -1.299716         -1.015089        Mel"
      ]
     },
     "execution_count": 70,
     "metadata": {},
     "output_type": "execute_result"
    }
   ],
   "source": [
    "yeniDataFrame"
   ]
  },
  {
   "cell_type": "code",
   "execution_count": 71,
   "id": "95be4411-302a-4e07-9f56-557d52cedd67",
   "metadata": {},
   "outputs": [
    {
     "data": {
      "text/html": [
       "<div>\n",
       "<style scoped>\n",
       "    .dataframe tbody tr th:only-of-type {\n",
       "        vertical-align: middle;\n",
       "    }\n",
       "\n",
       "    .dataframe tbody tr th {\n",
       "        vertical-align: top;\n",
       "    }\n",
       "\n",
       "    .dataframe thead th {\n",
       "        text-align: right;\n",
       "    }\n",
       "</style>\n",
       "<table border=\"1\" class=\"dataframe\">\n",
       "  <thead>\n",
       "    <tr style=\"text-align: right;\">\n",
       "      <th></th>\n",
       "      <th>Maaş</th>\n",
       "      <th>Yaş</th>\n",
       "      <th>Çalışma Saatleri</th>\n",
       "    </tr>\n",
       "    <tr>\n",
       "      <th>Yeni Index</th>\n",
       "      <th></th>\n",
       "      <th></th>\n",
       "      <th></th>\n",
       "    </tr>\n",
       "  </thead>\n",
       "  <tbody>\n",
       "    <tr>\n",
       "      <th>Ahm</th>\n",
       "      <td>-3.050544</td>\n",
       "      <td>0.886662</td>\n",
       "      <td>1.941003</td>\n",
       "    </tr>\n",
       "    <tr>\n",
       "      <th>Al</th>\n",
       "      <td>0.276350</td>\n",
       "      <td>-1.233871</td>\n",
       "      <td>1.519711</td>\n",
       "    </tr>\n",
       "    <tr>\n",
       "      <th>Ayş</th>\n",
       "      <td>0.142419</td>\n",
       "      <td>1.070014</td>\n",
       "      <td>0.847835</td>\n",
       "    </tr>\n",
       "    <tr>\n",
       "      <th>Mel</th>\n",
       "      <td>-0.694888</td>\n",
       "      <td>-1.299716</td>\n",
       "      <td>-1.015089</td>\n",
       "    </tr>\n",
       "  </tbody>\n",
       "</table>\n",
       "</div>"
      ],
      "text/plain": [
       "                Maaş       Yaş  Çalışma Saatleri\n",
       "Yeni Index                                      \n",
       "Ahm        -3.050544  0.886662          1.941003\n",
       "Al          0.276350 -1.233871          1.519711\n",
       "Ayş         0.142419  1.070014          0.847835\n",
       "Mel        -0.694888 -1.299716         -1.015089"
      ]
     },
     "execution_count": 71,
     "metadata": {},
     "output_type": "execute_result"
    }
   ],
   "source": [
    "yeniDataFrame.set_index(\"Yeni Index\") # sütunu indexe çektim yani indeksi değiştirdi"
   ]
  },
  {
   "cell_type": "code",
   "execution_count": 73,
   "id": "9bbc27d2-bc8a-4174-8cb3-496a815b5cbc",
   "metadata": {},
   "outputs": [
    {
     "data": {
      "text/html": [
       "<div>\n",
       "<style scoped>\n",
       "    .dataframe tbody tr th:only-of-type {\n",
       "        vertical-align: middle;\n",
       "    }\n",
       "\n",
       "    .dataframe tbody tr th {\n",
       "        vertical-align: top;\n",
       "    }\n",
       "\n",
       "    .dataframe thead th {\n",
       "        text-align: right;\n",
       "    }\n",
       "</style>\n",
       "<table border=\"1\" class=\"dataframe\">\n",
       "  <thead>\n",
       "    <tr style=\"text-align: right;\">\n",
       "      <th></th>\n",
       "      <th>Maaş</th>\n",
       "      <th>Yaş</th>\n",
       "      <th>Çalışma Saatleri</th>\n",
       "      <th>Yeni Index</th>\n",
       "    </tr>\n",
       "  </thead>\n",
       "  <tbody>\n",
       "    <tr>\n",
       "      <th>Ahmet</th>\n",
       "      <td>-3.050544</td>\n",
       "      <td>0.886662</td>\n",
       "      <td>1.941003</td>\n",
       "      <td>Ahm</td>\n",
       "    </tr>\n",
       "    <tr>\n",
       "      <th>Ali</th>\n",
       "      <td>0.276350</td>\n",
       "      <td>-1.233871</td>\n",
       "      <td>1.519711</td>\n",
       "      <td>Al</td>\n",
       "    </tr>\n",
       "    <tr>\n",
       "      <th>Ayşe</th>\n",
       "      <td>0.142419</td>\n",
       "      <td>1.070014</td>\n",
       "      <td>0.847835</td>\n",
       "      <td>Ayş</td>\n",
       "    </tr>\n",
       "    <tr>\n",
       "      <th>Melike</th>\n",
       "      <td>-0.694888</td>\n",
       "      <td>-1.299716</td>\n",
       "      <td>-1.015089</td>\n",
       "      <td>Mel</td>\n",
       "    </tr>\n",
       "  </tbody>\n",
       "</table>\n",
       "</div>"
      ],
      "text/plain": [
       "            Maaş       Yaş  Çalışma Saatleri Yeni Index\n",
       "Ahmet  -3.050544  0.886662          1.941003        Ahm\n",
       "Ali     0.276350 -1.233871          1.519711         Al\n",
       "Ayşe    0.142419  1.070014          0.847835        Ayş\n",
       "Melike -0.694888 -1.299716         -1.015089        Mel"
      ]
     },
     "execution_count": 73,
     "metadata": {},
     "output_type": "execute_result"
    }
   ],
   "source": [
    "yeniDataFrame # inplace kullanmadığımız için dataframe'e değişikliği göndermedik"
   ]
  },
  {
   "cell_type": "code",
   "execution_count": 74,
   "id": "8a0fecca-2148-4566-bab5-5340c2138b44",
   "metadata": {},
   "outputs": [],
   "source": [
    "yeniDataFrame.set_index(\"Yeni Index\", inplace=True)"
   ]
  },
  {
   "cell_type": "code",
   "execution_count": 75,
   "id": "9ea03c8b-6b0a-46b6-b411-59e3a9ac4b37",
   "metadata": {},
   "outputs": [
    {
     "data": {
      "text/html": [
       "<div>\n",
       "<style scoped>\n",
       "    .dataframe tbody tr th:only-of-type {\n",
       "        vertical-align: middle;\n",
       "    }\n",
       "\n",
       "    .dataframe tbody tr th {\n",
       "        vertical-align: top;\n",
       "    }\n",
       "\n",
       "    .dataframe thead th {\n",
       "        text-align: right;\n",
       "    }\n",
       "</style>\n",
       "<table border=\"1\" class=\"dataframe\">\n",
       "  <thead>\n",
       "    <tr style=\"text-align: right;\">\n",
       "      <th></th>\n",
       "      <th>Maaş</th>\n",
       "      <th>Yaş</th>\n",
       "      <th>Çalışma Saatleri</th>\n",
       "    </tr>\n",
       "    <tr>\n",
       "      <th>Yeni Index</th>\n",
       "      <th></th>\n",
       "      <th></th>\n",
       "      <th></th>\n",
       "    </tr>\n",
       "  </thead>\n",
       "  <tbody>\n",
       "    <tr>\n",
       "      <th>Ahm</th>\n",
       "      <td>-3.050544</td>\n",
       "      <td>0.886662</td>\n",
       "      <td>1.941003</td>\n",
       "    </tr>\n",
       "    <tr>\n",
       "      <th>Al</th>\n",
       "      <td>0.276350</td>\n",
       "      <td>-1.233871</td>\n",
       "      <td>1.519711</td>\n",
       "    </tr>\n",
       "    <tr>\n",
       "      <th>Ayş</th>\n",
       "      <td>0.142419</td>\n",
       "      <td>1.070014</td>\n",
       "      <td>0.847835</td>\n",
       "    </tr>\n",
       "    <tr>\n",
       "      <th>Mel</th>\n",
       "      <td>-0.694888</td>\n",
       "      <td>-1.299716</td>\n",
       "      <td>-1.015089</td>\n",
       "    </tr>\n",
       "  </tbody>\n",
       "</table>\n",
       "</div>"
      ],
      "text/plain": [
       "                Maaş       Yaş  Çalışma Saatleri\n",
       "Yeni Index                                      \n",
       "Ahm        -3.050544  0.886662          1.941003\n",
       "Al          0.276350 -1.233871          1.519711\n",
       "Ayş         0.142419  1.070014          0.847835\n",
       "Mel        -0.694888 -1.299716         -1.015089"
      ]
     },
     "execution_count": 75,
     "metadata": {},
     "output_type": "execute_result"
    }
   ],
   "source": [
    "yeniDataFrame"
   ]
  },
  {
   "cell_type": "code",
   "execution_count": 76,
   "id": "704954a6-460f-4669-a8e5-2faaeda3e0e2",
   "metadata": {},
   "outputs": [
    {
     "data": {
      "text/plain": [
       "Maaş               -0.694888\n",
       "Yaş                -1.299716\n",
       "Çalışma Saatleri   -1.015089\n",
       "Name: Mel, dtype: float64"
      ]
     },
     "execution_count": 76,
     "metadata": {},
     "output_type": "execute_result"
    }
   ],
   "source": [
    "yeniDataFrame.loc[\"Mel\"]"
   ]
  },
  {
   "cell_type": "markdown",
   "id": "81699958-7839-482e-ad78-42ea99a44427",
   "metadata": {},
   "source": [
    "#### Multi Index"
   ]
  },
  {
   "cell_type": "markdown",
   "id": "4cb60375-ffc1-4fb2-af6b-ea57df5b22a5",
   "metadata": {},
   "source": [
    "> Multi İndexler iç içe indeksleri ifade etmektedir.\n",
    "\n",
    "* İç içe indeks denilen kavram indeks içerisinde indekslenmiş verileri nasıl pandas data frame'e çevrilebileceğini gösterir. Örneğin aşağıdaki görseli adım adım pandas dataframe'ne çevirelim"
   ]
  },
  {
   "attachments": {
    "4739c753-ec87-4ac4-bc9a-c4d1a24a5d4e.png": {
     "image/png": "[encoded data removed]"
    }
   },
   "cell_type": "markdown",
   "id": "904c2d18-58ca-48fd-91c0-f1c9e9558420",
   "metadata": {},
   "source": [
    "![image.png](attachment:4739c753-ec87-4ac4-bc9a-c4d1a24a5d4e.png)"
   ]
  },
  {
   "cell_type": "markdown",
   "id": "4901a450-7699-4e62-a509-0a67cecdd413",
   "metadata": {},
   "source": [
    "* Görüldüğü gibi iki adet indeks var bu dıştaki indeks çizgi filmin adını belirtirken içteki indeks ise adı geçen çizgi filmin karakter isimlerini belirtir Bunu ise iki farklı liste şeklinde yazarak birleştirebiliriz."
   ]
  },
  {
   "cell_type": "code",
   "execution_count": 93,
   "id": "43ad09c2-a423-4815-beeb-e5f5d05d5454",
   "metadata": {},
   "outputs": [],
   "source": [
    "ilkIndeksler = [\"Simpson\",\"Simpson\",\"Simpson\",\"South Park\",\"South Park\",\"South Park\"] # dıştaki indeks"
   ]
  },
  {
   "cell_type": "code",
   "execution_count": 94,
   "id": "f5dc1526-80b4-4d65-a7bd-1963d0ad561c",
   "metadata": {},
   "outputs": [],
   "source": [
    "icIndeksler = [\"Homer Simpson\",\"Bart Simpson\",\"Marge Simpson\",\"Cartman\",\"Kenny\",\"Kyle\"] #içteki indeks"
   ]
  },
  {
   "cell_type": "markdown",
   "id": "a8719a82-93a6-487b-980b-a9c0051440c9",
   "metadata": {},
   "source": [
    "> Görüldüğü gibi indeksleri oluşturduk. Ama bunlar halen liste türünde olduğunu unutmamak gerek\n",
    "\n",
    "* Şimdi ise bu indeksleri iç içe atmamız gerekir. Bu indeksleri birleştirmek listede bulunan zip methodu kullanırız."
   ]
  },
  {
   "cell_type": "code",
   "execution_count": 95,
   "id": "365630d0-b1dc-489d-90db-336370c5fc16",
   "metadata": {},
   "outputs": [],
   "source": [
    "birlesmisIndeks = list(zip(ilkIndeksler,icIndeksler)) # zip methodu birleştirme methodudur."
   ]
  },
  {
   "cell_type": "code",
   "execution_count": 99,
   "id": "c739850c-9f7f-408f-a4f4-cec5ba12b009",
   "metadata": {},
   "outputs": [
    {
     "data": {
      "text/plain": [
       "[('Simpson', 'Homer Simpson'),\n",
       " ('Simpson', 'Bart Simpson'),\n",
       " ('Simpson', 'Marge Simpson'),\n",
       " ('South Park', 'Cartman'),\n",
       " ('South Park', 'Kenny'),\n",
       " ('South Park', 'Kyle')]"
      ]
     },
     "execution_count": 99,
     "metadata": {},
     "output_type": "execute_result"
    }
   ],
   "source": [
    "birlesmisIndeks # liste türünde oluşturdu..."
   ]
  },
  {
   "cell_type": "code",
   "execution_count": 100,
   "id": "21cc9a56-8b0c-4fec-8be6-b58235b0d0ae",
   "metadata": {},
   "outputs": [],
   "source": [
    "birlesmisIndeks = pd.MultiIndex.from_tuples(birlesmisIndeks)  # multiIndex kullanarak bunu multiIndex'e dönüştürdüm"
   ]
  },
  {
   "cell_type": "code",
   "execution_count": 101,
   "id": "b3cd38f7-c5c3-47a6-aad5-b64b8d475fb0",
   "metadata": {},
   "outputs": [
    {
     "data": {
      "text/plain": [
       "MultiIndex([(   'Simpson', 'Homer Simpson'),\n",
       "            (   'Simpson',  'Bart Simpson'),\n",
       "            (   'Simpson', 'Marge Simpson'),\n",
       "            ('South Park',       'Cartman'),\n",
       "            ('South Park',         'Kenny'),\n",
       "            ('South Park',          'Kyle')],\n",
       "           )"
      ]
     },
     "execution_count": 101,
     "metadata": {},
     "output_type": "execute_result"
    }
   ],
   "source": [
    "birlesmisIndeks # pandas multi Index"
   ]
  },
  {
   "cell_type": "code",
   "execution_count": 83,
   "id": "91bcece8-5a3e-43dc-b351-01f488bc49ea",
   "metadata": {},
   "outputs": [
    {
     "data": {
      "text/plain": [
       "pandas.core.indexes.multi.MultiIndex"
      ]
     },
     "execution_count": 83,
     "metadata": {},
     "output_type": "execute_result"
    }
   ],
   "source": [
    "type(birlesmisIndeks)"
   ]
  },
  {
   "cell_type": "code",
   "execution_count": 102,
   "id": "31914dd9-4f73-4116-956d-8f07b8bf80ec",
   "metadata": {},
   "outputs": [],
   "source": [
    "cizgiFilmListesi = [[40,\"A\"],[10,\"B\"],[30,\"C\"],[9,\"D\"],[10,\"E\"],[11,\"F\"]] # veri girişi gerçekleştirdim"
   ]
  },
  {
   "cell_type": "code",
   "execution_count": 107,
   "id": "c8f8bff4-28bb-4309-a50d-b880979a314c",
   "metadata": {},
   "outputs": [
    {
     "data": {
      "text/plain": [
       "[[40, 'A'], [10, 'B'], [30, 'C'], [9, 'D'], [10, 'E'], [11, 'F']]"
      ]
     },
     "execution_count": 107,
     "metadata": {},
     "output_type": "execute_result"
    }
   ],
   "source": [
    "cizgiFilmListesi # liste halinde veri girişi gerçekleştirdim ve görüntüledim"
   ]
  },
  {
   "cell_type": "code",
   "execution_count": 108,
   "id": "35dfca21-bdd8-4eaf-a5bf-e3697c55d676",
   "metadata": {},
   "outputs": [],
   "source": [
    "cizgiFilmListesiDizisi = np.array(cizgiFilmListesi) # numpy dizisi haline dönüştürdüm"
   ]
  },
  {
   "cell_type": "code",
   "execution_count": 109,
   "id": "d9bb3007-61c5-40e1-b722-3b03dc4eb28b",
   "metadata": {},
   "outputs": [],
   "source": [
    "cizgiFilmDataFrame = pd.DataFrame(cizgiFilmListesiDizisi, index = birlesmisIndeks, columns = [\"Yaş\",\"Meslek\"]) # data, indeks, colums değerleri"
   ]
  },
  {
   "cell_type": "code",
   "execution_count": 88,
   "id": "c53ddc8b-d4f6-477a-8ca1-4b93bbe68b09",
   "metadata": {},
   "outputs": [
    {
     "data": {
      "text/html": [
       "<div>\n",
       "<style scoped>\n",
       "    .dataframe tbody tr th:only-of-type {\n",
       "        vertical-align: middle;\n",
       "    }\n",
       "\n",
       "    .dataframe tbody tr th {\n",
       "        vertical-align: top;\n",
       "    }\n",
       "\n",
       "    .dataframe thead th {\n",
       "        text-align: right;\n",
       "    }\n",
       "</style>\n",
       "<table border=\"1\" class=\"dataframe\">\n",
       "  <thead>\n",
       "    <tr style=\"text-align: right;\">\n",
       "      <th></th>\n",
       "      <th></th>\n",
       "      <th>Yaş</th>\n",
       "      <th>Meslek</th>\n",
       "    </tr>\n",
       "  </thead>\n",
       "  <tbody>\n",
       "    <tr>\n",
       "      <th rowspan=\"3\" valign=\"top\">Simpson</th>\n",
       "      <th>Homer Simspon</th>\n",
       "      <td>40</td>\n",
       "      <td>A</td>\n",
       "    </tr>\n",
       "    <tr>\n",
       "      <th>Bart Simpson</th>\n",
       "      <td>10</td>\n",
       "      <td>B</td>\n",
       "    </tr>\n",
       "    <tr>\n",
       "      <th>Marge Simpson</th>\n",
       "      <td>30</td>\n",
       "      <td>C</td>\n",
       "    </tr>\n",
       "    <tr>\n",
       "      <th rowspan=\"3\" valign=\"top\">South Park</th>\n",
       "      <th>Cartman</th>\n",
       "      <td>9</td>\n",
       "      <td>D</td>\n",
       "    </tr>\n",
       "    <tr>\n",
       "      <th>Kenny</th>\n",
       "      <td>10</td>\n",
       "      <td>E</td>\n",
       "    </tr>\n",
       "    <tr>\n",
       "      <th>Kyle</th>\n",
       "      <td>11</td>\n",
       "      <td>F</td>\n",
       "    </tr>\n",
       "  </tbody>\n",
       "</table>\n",
       "</div>"
      ],
      "text/plain": [
       "                         Yaş Meslek\n",
       "Simpson    Homer Simspon  40      A\n",
       "           Bart Simpson   10      B\n",
       "           Marge Simpson  30      C\n",
       "South Park Cartman         9      D\n",
       "           Kenny          10      E\n",
       "           Kyle           11      F"
      ]
     },
     "execution_count": 88,
     "metadata": {},
     "output_type": "execute_result"
    }
   ],
   "source": [
    "cizgiFilmDataFrame "
   ]
  },
  {
   "cell_type": "code",
   "execution_count": 110,
   "id": "ebb33dc3-ac07-4bb2-9f72-44b72eb07128",
   "metadata": {},
   "outputs": [
    {
     "data": {
      "text/html": [
       "<div>\n",
       "<style scoped>\n",
       "    .dataframe tbody tr th:only-of-type {\n",
       "        vertical-align: middle;\n",
       "    }\n",
       "\n",
       "    .dataframe tbody tr th {\n",
       "        vertical-align: top;\n",
       "    }\n",
       "\n",
       "    .dataframe thead th {\n",
       "        text-align: right;\n",
       "    }\n",
       "</style>\n",
       "<table border=\"1\" class=\"dataframe\">\n",
       "  <thead>\n",
       "    <tr style=\"text-align: right;\">\n",
       "      <th></th>\n",
       "      <th>Yaş</th>\n",
       "      <th>Meslek</th>\n",
       "    </tr>\n",
       "  </thead>\n",
       "  <tbody>\n",
       "    <tr>\n",
       "      <th>Homer Simpson</th>\n",
       "      <td>40</td>\n",
       "      <td>A</td>\n",
       "    </tr>\n",
       "    <tr>\n",
       "      <th>Bart Simpson</th>\n",
       "      <td>10</td>\n",
       "      <td>B</td>\n",
       "    </tr>\n",
       "    <tr>\n",
       "      <th>Marge Simpson</th>\n",
       "      <td>30</td>\n",
       "      <td>C</td>\n",
       "    </tr>\n",
       "  </tbody>\n",
       "</table>\n",
       "</div>"
      ],
      "text/plain": [
       "              Yaş Meslek\n",
       "Homer Simpson  40      A\n",
       "Bart Simpson   10      B\n",
       "Marge Simpson  30      C"
      ]
     },
     "execution_count": 110,
     "metadata": {},
     "output_type": "execute_result"
    }
   ],
   "source": [
    "cizgiFilmDataFrame.loc[\"Simpson\"] # simpsonları seç"
   ]
  },
  {
   "cell_type": "code",
   "execution_count": 111,
   "id": "05328ccc-c7e7-430e-a260-d939aeb9c8e1",
   "metadata": {},
   "outputs": [
    {
     "data": {
      "text/plain": [
       "Yaş       10\n",
       "Meslek     B\n",
       "Name: Bart Simpson, dtype: object"
      ]
     },
     "execution_count": 111,
     "metadata": {},
     "output_type": "execute_result"
    }
   ],
   "source": [
    "cizgiFilmDataFrame.loc[\"Simpson\"].loc[\"Bart Simpson\"] # Simpsonlar içerisinden Bart Simpsonu görüntüle"
   ]
  },
  {
   "cell_type": "code",
   "execution_count": 112,
   "id": "6e035e11-e895-4eb7-ab69-d30829bfbc7e",
   "metadata": {},
   "outputs": [],
   "source": [
    "cizgiFilmDataFrame.index.names = [\"Film Adı\", \"İsim\"] # indexlerin isimlerini bu şekilde değiştirebiliriz"
   ]
  },
  {
   "cell_type": "code",
   "execution_count": 113,
   "id": "1f26f825-9736-4cde-8e44-a73bfd7e6289",
   "metadata": {},
   "outputs": [
    {
     "data": {
      "text/html": [
       "<div>\n",
       "<style scoped>\n",
       "    .dataframe tbody tr th:only-of-type {\n",
       "        vertical-align: middle;\n",
       "    }\n",
       "\n",
       "    .dataframe tbody tr th {\n",
       "        vertical-align: top;\n",
       "    }\n",
       "\n",
       "    .dataframe thead th {\n",
       "        text-align: right;\n",
       "    }\n",
       "</style>\n",
       "<table border=\"1\" class=\"dataframe\">\n",
       "  <thead>\n",
       "    <tr style=\"text-align: right;\">\n",
       "      <th></th>\n",
       "      <th></th>\n",
       "      <th>Yaş</th>\n",
       "      <th>Meslek</th>\n",
       "    </tr>\n",
       "    <tr>\n",
       "      <th>Film Adı</th>\n",
       "      <th>İsim</th>\n",
       "      <th></th>\n",
       "      <th></th>\n",
       "    </tr>\n",
       "  </thead>\n",
       "  <tbody>\n",
       "    <tr>\n",
       "      <th rowspan=\"3\" valign=\"top\">Simpson</th>\n",
       "      <th>Homer Simpson</th>\n",
       "      <td>40</td>\n",
       "      <td>A</td>\n",
       "    </tr>\n",
       "    <tr>\n",
       "      <th>Bart Simpson</th>\n",
       "      <td>10</td>\n",
       "      <td>B</td>\n",
       "    </tr>\n",
       "    <tr>\n",
       "      <th>Marge Simpson</th>\n",
       "      <td>30</td>\n",
       "      <td>C</td>\n",
       "    </tr>\n",
       "    <tr>\n",
       "      <th rowspan=\"3\" valign=\"top\">South Park</th>\n",
       "      <th>Cartman</th>\n",
       "      <td>9</td>\n",
       "      <td>D</td>\n",
       "    </tr>\n",
       "    <tr>\n",
       "      <th>Kenny</th>\n",
       "      <td>10</td>\n",
       "      <td>E</td>\n",
       "    </tr>\n",
       "    <tr>\n",
       "      <th>Kyle</th>\n",
       "      <td>11</td>\n",
       "      <td>F</td>\n",
       "    </tr>\n",
       "  </tbody>\n",
       "</table>\n",
       "</div>"
      ],
      "text/plain": [
       "                         Yaş Meslek\n",
       "Film Adı   İsim                    \n",
       "Simpson    Homer Simpson  40      A\n",
       "           Bart Simpson   10      B\n",
       "           Marge Simpson  30      C\n",
       "South Park Cartman         9      D\n",
       "           Kenny          10      E\n",
       "           Kyle           11      F"
      ]
     },
     "execution_count": 113,
     "metadata": {},
     "output_type": "execute_result"
    }
   ],
   "source": [
    "cizgiFilmDataFrame"
   ]
  },
  {
   "cell_type": "code",
   "execution_count": null,
   "id": "afcce612-3aaa-4fb5-9f19-0a01d42f68b6",
   "metadata": {},
   "outputs": [],
   "source": []
  }
 ],
 "metadata": {
  "kernelspec": {
   "display_name": "Python 3 (ipykernel)",
   "language": "python",
   "name": "python3"
  },
  "language_info": {
   "codemirror_mode": {
    "name": "ipython",
    "version": 3
   },
   "file_extension": ".py",
   "mimetype": "text/x-python",
   "name": "python",
   "nbconvert_exporter": "python",
   "pygments_lexer": "ipython3",
   "version": "3.11.5"
  }
 },
 "nbformat": 4,
 "nbformat_minor": 5
}
