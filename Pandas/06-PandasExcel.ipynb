{
 "cells": [
  {
   "cell_type": "code",
   "execution_count": 1,
   "id": "7d071f5b-aeab-4e07-a97f-634eb5a4eaa4",
   "metadata": {},
   "outputs": [],
   "source": [
    "import pandas as pd\n",
    "import numpy as np"
   ]
  },
  {
   "cell_type": "code",
   "execution_count": 14,
   "id": "11c24bd3-0ef5-44aa-9367-65d9978cd358",
   "metadata": {},
   "outputs": [],
   "source": [
    "dataFrame = pd.read_excel(\"ornekData.xlsx\") # excel formatını okudu"
   ]
  },
  {
   "cell_type": "code",
   "execution_count": 8,
   "id": "2e50980a-903a-4154-8d5c-ca2ce3afbc8e",
   "metadata": {},
   "outputs": [
    {
     "data": {
      "text/html": [
       "<div>\n",
       "<style scoped>\n",
       "    .dataframe tbody tr th:only-of-type {\n",
       "        vertical-align: middle;\n",
       "    }\n",
       "\n",
       "    .dataframe tbody tr th {\n",
       "        vertical-align: top;\n",
       "    }\n",
       "\n",
       "    .dataframe thead th {\n",
       "        text-align: right;\n",
       "    }\n",
       "</style>\n",
       "<table border=\"1\" class=\"dataframe\">\n",
       "  <thead>\n",
       "    <tr style=\"text-align: right;\">\n",
       "      <th></th>\n",
       "      <th>Unnamed: 0</th>\n",
       "      <th>Maas</th>\n",
       "      <th>Yas</th>\n",
       "      <th>Departman</th>\n",
       "    </tr>\n",
       "  </thead>\n",
       "  <tbody>\n",
       "    <tr>\n",
       "      <th>0</th>\n",
       "      <td>Ali</td>\n",
       "      <td>100</td>\n",
       "      <td>20.0</td>\n",
       "      <td>Yazılım</td>\n",
       "    </tr>\n",
       "    <tr>\n",
       "      <th>1</th>\n",
       "      <td>Ayşe</td>\n",
       "      <td>150</td>\n",
       "      <td>40.0</td>\n",
       "      <td>Satış</td>\n",
       "    </tr>\n",
       "    <tr>\n",
       "      <th>2</th>\n",
       "      <td>Fatma</td>\n",
       "      <td>50</td>\n",
       "      <td>30.0</td>\n",
       "      <td>İnsan Kaynakları</td>\n",
       "    </tr>\n",
       "    <tr>\n",
       "      <th>3</th>\n",
       "      <td>Ahmet</td>\n",
       "      <td>200</td>\n",
       "      <td>10.0</td>\n",
       "      <td>NaN</td>\n",
       "    </tr>\n",
       "    <tr>\n",
       "      <th>4</th>\n",
       "      <td>Melisa</td>\n",
       "      <td>300</td>\n",
       "      <td>NaN</td>\n",
       "      <td>Yönetim</td>\n",
       "    </tr>\n",
       "    <tr>\n",
       "      <th>5</th>\n",
       "      <td>Fırat</td>\n",
       "      <td>500</td>\n",
       "      <td>45.0</td>\n",
       "      <td>Finans</td>\n",
       "    </tr>\n",
       "  </tbody>\n",
       "</table>\n",
       "</div>"
      ],
      "text/plain": [
       "  Unnamed: 0  Maas   Yas         Departman\n",
       "0        Ali   100  20.0           Yazılım\n",
       "1       Ayşe   150  40.0             Satış\n",
       "2      Fatma    50  30.0  İnsan Kaynakları\n",
       "3      Ahmet   200  10.0               NaN\n",
       "4     Melisa   300   NaN           Yönetim\n",
       "5      Fırat   500  45.0            Finans"
      ]
     },
     "execution_count": 8,
     "metadata": {},
     "output_type": "execute_result"
    }
   ],
   "source": [
    "dataFrame"
   ]
  },
  {
   "cell_type": "markdown",
   "id": "74fc3266-3736-469a-aa77-61f55e3b27f1",
   "metadata": {},
   "source": [
    "> Görüldüğü gibi eksik değerler var bu değerleri nasıl düşürebiliriz ?"
   ]
  },
  {
   "cell_type": "code",
   "execution_count": 10,
   "id": "7b42e09b-de75-4d5b-8bbf-5c56f2264631",
   "metadata": {},
   "outputs": [],
   "source": [
    "doluDegerDataFrame = dataFrame.dropna()"
   ]
  },
  {
   "cell_type": "code",
   "execution_count": 11,
   "id": "040b9070-da1e-407f-aa4a-df00ee47a0ed",
   "metadata": {},
   "outputs": [
    {
     "data": {
      "text/html": [
       "<div>\n",
       "<style scoped>\n",
       "    .dataframe tbody tr th:only-of-type {\n",
       "        vertical-align: middle;\n",
       "    }\n",
       "\n",
       "    .dataframe tbody tr th {\n",
       "        vertical-align: top;\n",
       "    }\n",
       "\n",
       "    .dataframe thead th {\n",
       "        text-align: right;\n",
       "    }\n",
       "</style>\n",
       "<table border=\"1\" class=\"dataframe\">\n",
       "  <thead>\n",
       "    <tr style=\"text-align: right;\">\n",
       "      <th></th>\n",
       "      <th>Unnamed: 0</th>\n",
       "      <th>Maas</th>\n",
       "      <th>Yas</th>\n",
       "      <th>Departman</th>\n",
       "    </tr>\n",
       "  </thead>\n",
       "  <tbody>\n",
       "    <tr>\n",
       "      <th>0</th>\n",
       "      <td>Ali</td>\n",
       "      <td>100</td>\n",
       "      <td>20.0</td>\n",
       "      <td>Yazılım</td>\n",
       "    </tr>\n",
       "    <tr>\n",
       "      <th>1</th>\n",
       "      <td>Ayşe</td>\n",
       "      <td>150</td>\n",
       "      <td>40.0</td>\n",
       "      <td>Satış</td>\n",
       "    </tr>\n",
       "    <tr>\n",
       "      <th>2</th>\n",
       "      <td>Fatma</td>\n",
       "      <td>50</td>\n",
       "      <td>30.0</td>\n",
       "      <td>İnsan Kaynakları</td>\n",
       "    </tr>\n",
       "    <tr>\n",
       "      <th>5</th>\n",
       "      <td>Fırat</td>\n",
       "      <td>500</td>\n",
       "      <td>45.0</td>\n",
       "      <td>Finans</td>\n",
       "    </tr>\n",
       "  </tbody>\n",
       "</table>\n",
       "</div>"
      ],
      "text/plain": [
       "  Unnamed: 0  Maas   Yas         Departman\n",
       "0        Ali   100  20.0           Yazılım\n",
       "1       Ayşe   150  40.0             Satış\n",
       "2      Fatma    50  30.0  İnsan Kaynakları\n",
       "5      Fırat   500  45.0            Finans"
      ]
     },
     "execution_count": 11,
     "metadata": {},
     "output_type": "execute_result"
    }
   ],
   "source": [
    "doluDegerDataFrame"
   ]
  },
  {
   "cell_type": "markdown",
   "id": "fd4f09c7-54fa-45fc-ab3e-de8ff88ff70f",
   "metadata": {},
   "source": [
    "* Peki eksik değerlerden arındılmış dataframe'i nasıl excele geri aktaracağız ?"
   ]
  },
  {
   "cell_type": "code",
   "execution_count": 13,
   "id": "56748581-6e10-4d21-bfe5-39c487c8d9d4",
   "metadata": {},
   "outputs": [],
   "source": [
    "doluDegerDataFrame.to_excel(\"yeniDeger2.xlsx\") # yeni formatta gönderdi.."
   ]
  },
  {
   "cell_type": "markdown",
   "id": "67835350-b161-4de5-ac93-3f73c4d63448",
   "metadata": {},
   "source": [
    "> Sürekli olarak excel formatında çalışmıyoruz aynı zamanda .csv uzantılı dosyalarda çalışabiliriz...\n",
    "\n",
    "* read_csv --> .csv formatında veri okur...\n",
    "* to_csv --> .csv formatında veri yazar..."
   ]
  },
  {
   "cell_type": "code",
   "execution_count": null,
   "id": "4bb303c0-2229-4bb7-83c8-0ceca25adf0f",
   "metadata": {},
   "outputs": [],
   "source": []
  }
 ],
 "metadata": {
  "kernelspec": {
   "display_name": "Python 3 (ipykernel)",
   "language": "python",
   "name": "python3"
  },
  "language_info": {
   "codemirror_mode": {
    "name": "ipython",
    "version": 3
   },
   "file_extension": ".py",
   "mimetype": "text/x-python",
   "name": "python",
   "nbconvert_exporter": "python",
   "pygments_lexer": "ipython3",
   "version": "3.11.5"
  }
 },
 "nbformat": 4,
 "nbformat_minor": 5
}
