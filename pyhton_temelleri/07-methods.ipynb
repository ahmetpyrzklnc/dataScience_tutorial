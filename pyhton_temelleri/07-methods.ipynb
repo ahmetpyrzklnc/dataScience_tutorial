{
 "cells": [
  {
   "cell_type": "code",
   "execution_count": 1,
   "id": "53ab716c-0e22-4f15-9c03-956de53c211a",
   "metadata": {},
   "outputs": [],
   "source": [
    "class Meyve():\n",
    "    \n",
    "    def __init__(self, isim, kalori):\n",
    "        self.isim = isim\n",
    "        self.kalori = kalori"
   ]
  },
  {
   "cell_type": "code",
   "execution_count": 2,
   "id": "87f05681-f8c7-40f6-be78-a4e40dd44c45",
   "metadata": {},
   "outputs": [],
   "source": [
    "muz = Meyve(\"muz\", 150)"
   ]
  },
  {
   "cell_type": "code",
   "execution_count": 3,
   "id": "48bc903a-a819-4e8f-8c00-09392a0c5e99",
   "metadata": {},
   "outputs": [
    {
     "data": {
      "text/plain": [
       "150"
      ]
     },
     "execution_count": 3,
     "metadata": {},
     "output_type": "execute_result"
    }
   ],
   "source": [
    "muz.kalori"
   ]
  },
  {
   "cell_type": "code",
   "execution_count": 5,
   "id": "d56f86ee-f601-4f9c-bf80-9989866ecdbf",
   "metadata": {},
   "outputs": [
    {
     "name": "stdout",
     "output_type": "stream",
     "text": [
      "<__main__.Meyve object at 0x000002713CD25990>\n"
     ]
    }
   ],
   "source": [
    "print(muz) # bu şekilde içerisindeki değerleri göremeyiz sadece hafızada nerede tutulduğu gösterilir"
   ]
  },
  {
   "cell_type": "code",
   "execution_count": 6,
   "id": "5af3376f-a49a-416b-a0d9-c2d777079723",
   "metadata": {},
   "outputs": [],
   "source": [
    "# peki listeleri tamamen yazdırabiliyor muyduk ?\n",
    "benimListem = [1,2,\"a\",4.5,3]"
   ]
  },
  {
   "cell_type": "code",
   "execution_count": 8,
   "id": "d1394fbb-71e2-4a98-9194-1d0f4e892c76",
   "metadata": {},
   "outputs": [
    {
     "name": "stdout",
     "output_type": "stream",
     "text": [
      "[1, 2, 'a', 4.5, 3]\n"
     ]
    }
   ],
   "source": [
    "print(benimListem) # bu şekilde listeleri yazdırmak mümkün..."
   ]
  },
  {
   "cell_type": "code",
   "execution_count": 10,
   "id": "fa303921-3dcf-46f7-a56a-344491fa55d9",
   "metadata": {},
   "outputs": [
    {
     "data": {
      "text/plain": [
       "5"
      ]
     },
     "execution_count": 10,
     "metadata": {},
     "output_type": "execute_result"
    }
   ],
   "source": [
    "len(benimListem) # liste elemanından kaç adet var yani listenin uzunluğu"
   ]
  },
  {
   "cell_type": "markdown",
   "id": "639610a5-c1ce-42ab-a821-e4338faa03f5",
   "metadata": {},
   "source": [
    "- meyve sınıfından olan muzun kaç adet veriye sahip olduğunu listede olduğu gibi gösterebilir miyiz ?"
   ]
  },
  {
   "cell_type": "code",
   "execution_count": 45,
   "id": "bf65210a-861c-4b22-b41a-906fe50d10dc",
   "metadata": {},
   "outputs": [],
   "source": [
    "len(muz) # hata alırız çünkü özel method olmadan çalıştırdık..."
   ]
  },
  {
   "cell_type": "markdown",
   "id": "3a73a95b-c861-432a-a175-940c48ce2b7d",
   "metadata": {},
   "source": [
    "### ÖZEL METHODLAR"
   ]
  },
  {
   "cell_type": "code",
   "execution_count": 32,
   "id": "9306d568-1e1c-40fe-863e-5a58bcfc5791",
   "metadata": {},
   "outputs": [],
   "source": [
    "class Sehirler():\n",
    "    def __init__(self, isim, nufus):\n",
    "        self.isim = isim\n",
    "        self.nufus = nufus\n",
    "\n",
    "    def __str__(self): # özel tanımlı string method\n",
    "        return f\"{self.isim} şehrinde {self.nufus} kişi yaşıyor...\"\n",
    "\n",
    "    def __len__(self): # özel tanımlı length method\n",
    "        return self.nufus"
   ]
  },
  {
   "cell_type": "code",
   "execution_count": 33,
   "id": "77316a15-9eb1-4e26-ab56-2f5230ff149e",
   "metadata": {},
   "outputs": [],
   "source": [
    "konya = Sehirler(\"Konya\", 150)"
   ]
  },
  {
   "cell_type": "code",
   "execution_count": 34,
   "id": "a8c9c85b-bf67-4f58-b303-bc3448f0d8b5",
   "metadata": {},
   "outputs": [
    {
     "data": {
      "text/plain": [
       "150"
      ]
     },
     "execution_count": 34,
     "metadata": {},
     "output_type": "execute_result"
    }
   ],
   "source": [
    "konya.nufus"
   ]
  },
  {
   "cell_type": "code",
   "execution_count": 35,
   "id": "58a412b5-a6d0-4ae8-81f1-586548f86fee",
   "metadata": {},
   "outputs": [
    {
     "name": "stdout",
     "output_type": "stream",
     "text": [
      "Konya şehrinde 150 kişi yaşıyor...\n"
     ]
    }
   ],
   "source": [
    "print(konya) # özel tanımlı method sayesinde çalıştı"
   ]
  },
  {
   "cell_type": "markdown",
   "id": "dda620bd-916c-4a9b-8ca4-539c540f1e00",
   "metadata": {},
   "source": [
    "* lengthi özel method olmadan çalıştıramıyorduk bunun için özel tanımlı method tanımlıyorum..."
   ]
  },
  {
   "cell_type": "code",
   "execution_count": 37,
   "id": "6546cb55-6f5b-41d8-ad67-5d5ce3a2b20f",
   "metadata": {},
   "outputs": [
    {
     "data": {
      "text/plain": [
       "150"
      ]
     },
     "execution_count": 37,
     "metadata": {},
     "output_type": "execute_result"
    }
   ],
   "source": [
    "len(konya) # özel tanımlı len methodu sayesinde çalıştı"
   ]
  },
  {
   "cell_type": "code",
   "execution_count": 41,
   "id": "89cc7a3d-f62f-4908-9f40-459aa6325d0f",
   "metadata": {},
   "outputs": [],
   "source": [
    "ankara = Sehirler(\"ankara\", 450) # başka şehirler eklersek onlarda da çalışacaktır..."
   ]
  },
  {
   "cell_type": "code",
   "execution_count": 42,
   "id": "49055096-dc2e-4ac2-b678-20866c775de8",
   "metadata": {},
   "outputs": [
    {
     "name": "stdout",
     "output_type": "stream",
     "text": [
      "ankara şehrinde 450 kişi yaşıyor...\n"
     ]
    }
   ],
   "source": [
    "print(ankara)"
   ]
  },
  {
   "cell_type": "code",
   "execution_count": 43,
   "id": "1926d701-9dbc-4d3b-8866-dc8a753093fc",
   "metadata": {},
   "outputs": [
    {
     "data": {
      "text/plain": [
       "450"
      ]
     },
     "execution_count": 43,
     "metadata": {},
     "output_type": "execute_result"
    }
   ],
   "source": [
    "len(ankara)"
   ]
  },
  {
   "cell_type": "markdown",
   "id": "4067a184-5b72-47e8-83a7-0646095c4e3a",
   "metadata": {},
   "source": [
    "* pyhtonda birçok özel method vardır. Bu özel methodların tamamına tarayıcıdan pyhton magic methods yazarak veya pyhton special methods diyerek arama yaparak ulaşabilirsin. "
   ]
  },
  {
   "cell_type": "markdown",
   "id": "d94efe16-eb36-4083-9f7d-0a17956647f0",
   "metadata": {},
   "source": [
    "### HATALARI ELE ALMAK"
   ]
  },
  {
   "cell_type": "code",
   "execution_count": 46,
   "id": "a8aee60d-7b94-458a-ac70-018439e40c8b",
   "metadata": {},
   "outputs": [],
   "source": [
    "def toplama(numara1, numara2):\n",
    "    return numara1 + numara2"
   ]
  },
  {
   "cell_type": "code",
   "execution_count": 47,
   "id": "7eaf37af-530f-4a21-8b2e-f338c5e0c483",
   "metadata": {},
   "outputs": [
    {
     "name": "stdin",
     "output_type": "stream",
     "text": [
      "İlk sayıyı giriniz:  10\n",
      "İkinci sayıyı giriniz:  20\n"
     ]
    },
    {
     "data": {
      "text/plain": [
       "30"
      ]
     },
     "execution_count": 47,
     "metadata": {},
     "output_type": "execute_result"
    }
   ],
   "source": [
    "x = int(input(\"İlk sayıyı giriniz: \"))\n",
    "y = int(input(\"İkinci sayıyı giriniz: \"))\n",
    "toplama(x,y)"
   ]
  },
  {
   "cell_type": "markdown",
   "id": "3a860e3f-418a-40fc-affc-d944d3087658",
   "metadata": {},
   "source": [
    "\" Bu şekilde program düzgün bir şekilde çalışır lakin sayı yerine harf girilirse program çöker işte bu çökmenin önüne geçebilmek için şu methodlar kullanılır...\""
   ]
  },
  {
   "cell_type": "markdown",
   "id": "1f426761-9134-499b-b594-25ab89fbb194",
   "metadata": {},
   "source": [
    "### try & except & else & finally"
   ]
  },
  {
   "cell_type": "code",
   "execution_count": 3,
   "id": "cd897fe5-620a-494f-9a95-01edbd2088c5",
   "metadata": {},
   "outputs": [
    {
     "name": "stdin",
     "output_type": "stream",
     "text": [
      "Lütfen bir sayı giriniz:  ahmet\n"
     ]
    },
    {
     "name": "stdout",
     "output_type": "stream",
     "text": [
      "Lütfen gerçekçi bir sayı giriniz: \n",
      "Finally çağrıldı...\n"
     ]
    },
    {
     "name": "stdin",
     "output_type": "stream",
     "text": [
      "Lütfen bir sayı giriniz:  ksndssklc\n"
     ]
    },
    {
     "name": "stdout",
     "output_type": "stream",
     "text": [
      "Lütfen gerçekçi bir sayı giriniz: \n",
      "Finally çağrıldı...\n"
     ]
    },
    {
     "name": "stdin",
     "output_type": "stream",
     "text": [
      "Lütfen bir sayı giriniz:  10\n"
     ]
    },
    {
     "name": "stdout",
     "output_type": "stream",
     "text": [
      "Teşekkürler...\n",
      "Finally çağrıldı...\n"
     ]
    }
   ],
   "source": [
    "while True:\n",
    "    try: # döngü içerisinde kesinlikle çalışır\n",
    "        sayi = int(input(\"Lütfen bir sayı giriniz: \"))\n",
    "    except: # try çalıştı ve hata alındı o zaman burası çalışır...\n",
    "        print(\"Lütfen gerçekçi bir sayı giriniz: \")\n",
    "        continue # döngüye tekrar gönderdim yani trya tekrar yönlendirdik\n",
    "    else: # try doğru bir şekilde çalışırsa burası da çalışır...\n",
    "        print(\"Teşekkürler...\")\n",
    "        break # doğru bir şekilde çalıştığı için döngüyü kırdık....\n",
    "    finally: # döngü sonucunda ister hata alınsın ister alınmasın her türlü kesinlikle çalışan bir blogtur finally....\n",
    "        print(\"Finally çağrıldı...\")"
   ]
  },
  {
   "cell_type": "code",
   "execution_count": null,
   "id": "87910e9b-9d1e-4f53-9617-5d74d8659d4f",
   "metadata": {},
   "outputs": [],
   "source": []
  }
 ],
 "metadata": {
  "kernelspec": {
   "display_name": "Python 3 (ipykernel)",
   "language": "python",
   "name": "python3"
  },
  "language_info": {
   "codemirror_mode": {
    "name": "ipython",
    "version": 3
   },
   "file_extension": ".py",
   "mimetype": "text/x-python",
   "name": "python",
   "nbconvert_exporter": "python",
   "pygments_lexer": "ipython3",
   "version": "3.11.5"
  }
 },
 "nbformat": 4,
 "nbformat_minor": 5
}
