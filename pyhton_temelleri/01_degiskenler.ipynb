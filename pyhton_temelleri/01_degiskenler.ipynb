{
 "cells": [
  {
   "cell_type": "code",
   "execution_count": 11,
   "id": "abcf6520",
   "metadata": {},
   "outputs": [
    {
     "data": {
      "text/plain": [
       "30"
      ]
     },
     "execution_count": 11,
     "metadata": {},
     "output_type": "execute_result"
    }
   ],
   "source": [
    "benimdegiskenim + benimdigerdegiskenim"
   ]
  },
  {
   "cell_type": "code",
   "execution_count": 12,
   "id": "77459a7d",
   "metadata": {},
   "outputs": [
    {
     "data": {
      "text/plain": [
       "int"
      ]
     },
     "execution_count": 12,
     "metadata": {},
     "output_type": "execute_result"
    }
   ],
   "source": [
    "type(benimdegiskenim)"
   ]
  },
  {
   "cell_type": "code",
   "execution_count": 13,
   "id": "6af9e970",
   "metadata": {},
   "outputs": [
    {
     "name": "stdout",
     "output_type": "stream",
     "text": [
      "Yaşınızı giriniz: 25\n"
     ]
    }
   ],
   "source": [
    "beniminput = input(\"Yaşınızı giriniz: \")"
   ]
  },
  {
   "cell_type": "code",
   "execution_count": 14,
   "id": "9e9998b9",
   "metadata": {},
   "outputs": [
    {
     "data": {
      "text/plain": [
       "str"
      ]
     },
     "execution_count": 14,
     "metadata": {},
     "output_type": "execute_result"
    }
   ],
   "source": [
    "type(beniminput)"
   ]
  },
  {
   "cell_type": "code",
   "execution_count": 15,
   "id": "34b0b8eb",
   "metadata": {},
   "outputs": [],
   "source": [
    "benimIntInput = int(beniminput)"
   ]
  },
  {
   "cell_type": "code",
   "execution_count": 16,
   "id": "1da738b9",
   "metadata": {},
   "outputs": [
    {
     "data": {
      "text/plain": [
       "'25'"
      ]
     },
     "execution_count": 16,
     "metadata": {},
     "output_type": "execute_result"
    }
   ],
   "source": [
    "str(benimIntInput)"
   ]
  },
  {
   "cell_type": "code",
   "execution_count": 17,
   "id": "58571c8a",
   "metadata": {},
   "outputs": [
    {
     "name": "stdout",
     "output_type": "stream",
     "text": [
      "Yaşınızı giriniz: 24\n"
     ]
    }
   ],
   "source": [
    "benimYasim = int(input(\"Yaşınızı giriniz: \")) # kullanıcıdan daha almadan dönüşüm yapılmış oldu..."
   ]
  },
  {
   "cell_type": "code",
   "execution_count": 18,
   "id": "3acb6b89",
   "metadata": {},
   "outputs": [
    {
     "data": {
      "text/plain": [
       "int"
      ]
     },
     "execution_count": 18,
     "metadata": {},
     "output_type": "execute_result"
    }
   ],
   "source": [
    "type(benimYasim)"
   ]
  },
  {
   "cell_type": "code",
   "execution_count": 19,
   "id": "5da85774",
   "metadata": {},
   "outputs": [],
   "source": [
    "k = \"Kılınç\""
   ]
  },
  {
   "cell_type": "code",
   "execution_count": 20,
   "id": "9e2fae42",
   "metadata": {},
   "outputs": [
    {
     "data": {
      "text/plain": [
       "6"
      ]
     },
     "execution_count": 20,
     "metadata": {},
     "output_type": "execute_result"
    }
   ],
   "source": [
    "len(k)"
   ]
  },
  {
   "cell_type": "code",
   "execution_count": 1,
   "id": "65832c0d",
   "metadata": {},
   "outputs": [
    {
     "name": "stdout",
     "output_type": "stream",
     "text": [
      "Hello \n",
      "World\n"
     ]
    }
   ],
   "source": [
    "print(\"Hello \\nWorld\")"
   ]
  },
  {
   "cell_type": "code",
   "execution_count": 3,
   "id": "9f52655b",
   "metadata": {},
   "outputs": [],
   "source": [
    "## Stringler\n",
    "\n",
    "isimString = \"Atıl Samancıoğlu\""
   ]
  },
  {
   "cell_type": "code",
   "execution_count": 4,
   "id": "af2ef66c",
   "metadata": {},
   "outputs": [
    {
     "data": {
      "text/plain": [
       "'Atıl Samancıoğlu'"
      ]
     },
     "execution_count": 4,
     "metadata": {},
     "output_type": "execute_result"
    }
   ],
   "source": [
    "isimString"
   ]
  },
  {
   "cell_type": "markdown",
   "id": "1326df03",
   "metadata": {},
   "source": [
    "Index"
   ]
  },
  {
   "cell_type": "code",
   "execution_count": 5,
   "id": "f2fcd9cb",
   "metadata": {},
   "outputs": [
    {
     "data": {
      "text/plain": [
       "'A'"
      ]
     },
     "execution_count": 5,
     "metadata": {},
     "output_type": "execute_result"
    }
   ],
   "source": [
    "isimString[0] #isim stringindeki ilk elemanı"
   ]
  },
  {
   "cell_type": "code",
   "execution_count": 6,
   "id": "753e8033",
   "metadata": {},
   "outputs": [
    {
     "data": {
      "text/plain": [
       "'m'"
      ]
     },
     "execution_count": 6,
     "metadata": {},
     "output_type": "execute_result"
    }
   ],
   "source": [
    "isimString[7]"
   ]
  },
  {
   "cell_type": "code",
   "execution_count": 7,
   "id": "1a08d294",
   "metadata": {},
   "outputs": [
    {
     "data": {
      "text/plain": [
       "' '"
      ]
     },
     "execution_count": 7,
     "metadata": {},
     "output_type": "execute_result"
    }
   ],
   "source": [
    "isimString[4]"
   ]
  },
  {
   "cell_type": "code",
   "execution_count": 8,
   "id": "19b2cd3c",
   "metadata": {},
   "outputs": [
    {
     "data": {
      "text/plain": [
       "'u'"
      ]
     },
     "execution_count": 8,
     "metadata": {},
     "output_type": "execute_result"
    }
   ],
   "source": [
    "isimString[15]"
   ]
  },
  {
   "cell_type": "code",
   "execution_count": 9,
   "id": "b4e9cfbb",
   "metadata": {},
   "outputs": [
    {
     "data": {
      "text/plain": [
       "'u'"
      ]
     },
     "execution_count": 9,
     "metadata": {},
     "output_type": "execute_result"
    }
   ],
   "source": [
    "isimString[-1] #son karakteri verir"
   ]
  },
  {
   "cell_type": "code",
   "execution_count": 10,
   "id": "5e580f65",
   "metadata": {},
   "outputs": [
    {
     "data": {
      "text/plain": [
       "'l'"
      ]
     },
     "execution_count": 10,
     "metadata": {},
     "output_type": "execute_result"
    }
   ],
   "source": [
    "isimString[-2] #sondan sayarak gelir."
   ]
  },
  {
   "cell_type": "code",
   "execution_count": 11,
   "id": "24b529c5",
   "metadata": {},
   "outputs": [
    {
     "data": {
      "text/plain": [
       "'Au'"
      ]
     },
     "execution_count": 11,
     "metadata": {},
     "output_type": "execute_result"
    }
   ],
   "source": [
    "isimString[0] + isimString[-1] #şifreleme için kullanılabilir"
   ]
  },
  {
   "cell_type": "code",
   "execution_count": 12,
   "id": "08e5748d",
   "metadata": {},
   "outputs": [],
   "source": [
    "yeniString = \"0123456789\""
   ]
  },
  {
   "cell_type": "code",
   "execution_count": 13,
   "id": "f56806de",
   "metadata": {},
   "outputs": [
    {
     "data": {
      "text/plain": [
       "'5'"
      ]
     },
     "execution_count": 13,
     "metadata": {},
     "output_type": "execute_result"
    }
   ],
   "source": [
    "yeniString[5]"
   ]
  },
  {
   "cell_type": "code",
   "execution_count": 14,
   "id": "9e4d2aef",
   "metadata": {},
   "outputs": [
    {
     "data": {
      "text/plain": [
       "str"
      ]
     },
     "execution_count": 14,
     "metadata": {},
     "output_type": "execute_result"
    }
   ],
   "source": [
    "type(yeniString)"
   ]
  },
  {
   "cell_type": "code",
   "execution_count": 15,
   "id": "97acc5fa",
   "metadata": {},
   "outputs": [
    {
     "data": {
      "text/plain": [
       "'23456789'"
      ]
     },
     "execution_count": 15,
     "metadata": {},
     "output_type": "execute_result"
    }
   ],
   "source": [
    "yeniString[2:] #0 ve 1. index hariç diğerlerini komple seçer"
   ]
  },
  {
   "cell_type": "code",
   "execution_count": 16,
   "id": "7583ff60",
   "metadata": {},
   "outputs": [],
   "source": [
    "harfString = \"abcdfg\""
   ]
  },
  {
   "cell_type": "code",
   "execution_count": 17,
   "id": "11401821",
   "metadata": {},
   "outputs": [
    {
     "data": {
      "text/plain": [
       "'dfg'"
      ]
     },
     "execution_count": 17,
     "metadata": {},
     "output_type": "execute_result"
    }
   ],
   "source": [
    "harfString[3:] #ilk üç elemanı almaz"
   ]
  },
  {
   "cell_type": "code",
   "execution_count": 18,
   "id": "d9c882f7",
   "metadata": {},
   "outputs": [
    {
     "data": {
      "text/plain": [
       "'abc'"
      ]
     },
     "execution_count": 18,
     "metadata": {},
     "output_type": "execute_result"
    }
   ],
   "source": [
    "harfString[:3] # sadece ilk üç elemanı alır"
   ]
  },
  {
   "cell_type": "markdown",
   "id": "6fbf796c",
   "metadata": {},
   "source": [
    "#### Slicing"
   ]
  },
  {
   "cell_type": "code",
   "execution_count": 19,
   "id": "b870806f",
   "metadata": {},
   "outputs": [],
   "source": [
    "gelenVeri = \"AhmetinYaşı65\""
   ]
  },
  {
   "cell_type": "code",
   "execution_count": 22,
   "id": "c33bc872",
   "metadata": {},
   "outputs": [
    {
     "data": {
      "text/plain": [
       "'65'"
      ]
     },
     "execution_count": 22,
     "metadata": {},
     "output_type": "execute_result"
    }
   ],
   "source": [
    "gelenVeri[-2:] #sondan iki stringi alır."
   ]
  },
  {
   "cell_type": "code",
   "execution_count": 23,
   "id": "f03682c9",
   "metadata": {},
   "outputs": [
    {
     "data": {
      "text/plain": [
       "'me'"
      ]
     },
     "execution_count": 23,
     "metadata": {},
     "output_type": "execute_result"
    }
   ],
   "source": [
    "gelenVeri[2:4] #ikiile 4. index arasını alır"
   ]
  },
  {
   "cell_type": "code",
   "execution_count": 24,
   "id": "e697dcfe",
   "metadata": {},
   "outputs": [],
   "source": [
    "#Step Size"
   ]
  },
  {
   "cell_type": "code",
   "execution_count": 26,
   "id": "f95a287e",
   "metadata": {},
   "outputs": [
    {
     "data": {
      "text/plain": [
       "'Amtnaı5'"
      ]
     },
     "execution_count": 26,
     "metadata": {},
     "output_type": "execute_result"
    }
   ],
   "source": [
    "gelenVeri[::2] # 2 index atlayarak verir"
   ]
  },
  {
   "cell_type": "code",
   "execution_count": 28,
   "id": "18322801",
   "metadata": {},
   "outputs": [
    {
     "data": {
      "text/plain": [
       "'htY'"
      ]
     },
     "execution_count": 28,
     "metadata": {},
     "output_type": "execute_result"
    }
   ],
   "source": [
    "gelenVeri[1:10:3]"
   ]
  },
  {
   "cell_type": "code",
   "execution_count": 29,
   "id": "b29d6ec1",
   "metadata": {},
   "outputs": [
    {
     "data": {
      "text/plain": [
       "'56ışaYnitemhA'"
      ]
     },
     "execution_count": 29,
     "metadata": {},
     "output_type": "execute_result"
    }
   ],
   "source": [
    "gelenVeri[::-1] # tersten yazdırma işlemidir."
   ]
  },
  {
   "cell_type": "code",
   "execution_count": 33,
   "id": "e0266d73",
   "metadata": {},
   "outputs": [],
   "source": [
    "benimIsmım = \"atıl\""
   ]
  },
  {
   "cell_type": "code",
   "execution_count": 34,
   "id": "8980c416",
   "metadata": {},
   "outputs": [
    {
     "data": {
      "text/plain": [
       "'Atıl'"
      ]
     },
     "execution_count": 34,
     "metadata": {},
     "output_type": "execute_result"
    }
   ],
   "source": [
    "benimIsmım.capitalize()"
   ]
  },
  {
   "cell_type": "code",
   "execution_count": 35,
   "id": "320f5049",
   "metadata": {},
   "outputs": [
    {
     "data": {
      "text/plain": [
       "'atıl'"
      ]
     },
     "execution_count": 35,
     "metadata": {},
     "output_type": "execute_result"
    }
   ],
   "source": [
    "benimIsmım"
   ]
  },
  {
   "cell_type": "code",
   "execution_count": 36,
   "id": "4d505830",
   "metadata": {},
   "outputs": [],
   "source": [
    "benimYeniIsmim = benimIsmım.capitalize() #ilk harfini büyük yapar"
   ]
  },
  {
   "cell_type": "code",
   "execution_count": 37,
   "id": "0a6dfe47",
   "metadata": {},
   "outputs": [
    {
     "data": {
      "text/plain": [
       "'Atıl'"
      ]
     },
     "execution_count": 37,
     "metadata": {},
     "output_type": "execute_result"
    }
   ],
   "source": [
    "benimYeniIsmim"
   ]
  },
  {
   "cell_type": "code",
   "execution_count": 40,
   "id": "94bc18ad",
   "metadata": {},
   "outputs": [],
   "source": [
    "benimTamIsmim = \"Atıl Samancıoğlu Test\""
   ]
  },
  {
   "cell_type": "code",
   "execution_count": 41,
   "id": "27adc57a",
   "metadata": {},
   "outputs": [
    {
     "data": {
      "text/plain": [
       "['Atıl', 'Samancıoğlu', 'Test']"
      ]
     },
     "execution_count": 41,
     "metadata": {},
     "output_type": "execute_result"
    }
   ],
   "source": [
    "benimTamIsmim.split()"
   ]
  },
  {
   "cell_type": "code",
   "execution_count": 42,
   "id": "2cff9105",
   "metadata": {},
   "outputs": [
    {
     "data": {
      "text/plain": [
       "'ATIL SAMANCIOĞLU TEST'"
      ]
     },
     "execution_count": 42,
     "metadata": {},
     "output_type": "execute_result"
    }
   ],
   "source": [
    "benimTamIsmim.upper()"
   ]
  },
  {
   "cell_type": "code",
   "execution_count": 44,
   "id": "e6f6a473",
   "metadata": {},
   "outputs": [
    {
     "data": {
      "text/plain": [
       "'Atıl Samancıoğlu TestAtıl Samancıoğlu TestAtıl Samancıoğlu TestAtıl Samancıoğlu TestAtıl Samancıoğlu TestAtıl Samancıoğlu TestAtıl Samancıoğlu TestAtıl Samancıoğlu TestAtıl Samancıoğlu TestAtıl Samancıoğlu Test'"
      ]
     },
     "execution_count": 44,
     "metadata": {},
     "output_type": "execute_result"
    }
   ],
   "source": [
    "benimTamIsmim * 10"
   ]
  },
  {
   "cell_type": "code",
   "execution_count": null,
   "id": "f67d69ba",
   "metadata": {},
   "outputs": [],
   "source": []
  }
 ],
 "metadata": {
  "kernelspec": {
   "display_name": "Python 3 (ipykernel)",
   "language": "python",
   "name": "python3"
  },
  "language_info": {
   "codemirror_mode": {
    "name": "ipython",
    "version": 3
   },
   "file_extension": ".py",
   "mimetype": "text/x-python",
   "name": "python",
   "nbconvert_exporter": "python",
   "pygments_lexer": "ipython3",
   "version": "3.11.5"
  }
 },
 "nbformat": 4,
 "nbformat_minor": 5
}
