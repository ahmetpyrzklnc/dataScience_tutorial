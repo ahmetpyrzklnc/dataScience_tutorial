{
 "cells": [
  {
   "cell_type": "markdown",
   "id": "7f49aa2c",
   "metadata": {},
   "source": [
    "### Karşılaştırmalar"
   ]
  },
  {
   "cell_type": "code",
   "execution_count": 1,
   "id": "3dafb9eb",
   "metadata": {},
   "outputs": [],
   "source": [
    "x = 10\n",
    "y = 5"
   ]
  },
  {
   "cell_type": "code",
   "execution_count": 2,
   "id": "3bea773f",
   "metadata": {},
   "outputs": [
    {
     "data": {
      "text/plain": [
       "False"
      ]
     },
     "execution_count": 2,
     "metadata": {},
     "output_type": "execute_result"
    }
   ],
   "source": [
    "x < y"
   ]
  },
  {
   "cell_type": "code",
   "execution_count": 3,
   "id": "8d53b0f6",
   "metadata": {},
   "outputs": [
    {
     "data": {
      "text/plain": [
       "True"
      ]
     },
     "execution_count": 3,
     "metadata": {},
     "output_type": "execute_result"
    }
   ],
   "source": [
    "x > y\n"
   ]
  },
  {
   "cell_type": "code",
   "execution_count": 4,
   "id": "c891389c",
   "metadata": {},
   "outputs": [
    {
     "data": {
      "text/plain": [
       "True"
      ]
     },
     "execution_count": 4,
     "metadata": {},
     "output_type": "execute_result"
    }
   ],
   "source": [
    "3 > 1 and 3 > 2"
   ]
  },
  {
   "cell_type": "code",
   "execution_count": 5,
   "id": "94b21aa2",
   "metadata": {},
   "outputs": [
    {
     "data": {
      "text/plain": [
       "False"
      ]
     },
     "execution_count": 5,
     "metadata": {},
     "output_type": "execute_result"
    }
   ],
   "source": [
    "1 > 3 and 3 > 2 # şartın ikisi de sağlanması gerekir"
   ]
  },
  {
   "cell_type": "code",
   "execution_count": 6,
   "id": "e623edcd",
   "metadata": {},
   "outputs": [
    {
     "data": {
      "text/plain": [
       "True"
      ]
     },
     "execution_count": 6,
     "metadata": {},
     "output_type": "execute_result"
    }
   ],
   "source": [
    "1 > 3 or 3 > 2 # şartın birisi sağlansa yeterlidir..."
   ]
  },
  {
   "cell_type": "code",
   "execution_count": 7,
   "id": "c9635919",
   "metadata": {},
   "outputs": [
    {
     "data": {
      "text/plain": [
       "False"
      ]
     },
     "execution_count": 7,
     "metadata": {},
     "output_type": "execute_result"
    }
   ],
   "source": [
    "not 5 == 5"
   ]
  },
  {
   "cell_type": "code",
   "execution_count": 8,
   "id": "37638da6",
   "metadata": {},
   "outputs": [
    {
     "data": {
      "text/plain": [
       "True"
      ]
     },
     "execution_count": 8,
     "metadata": {},
     "output_type": "execute_result"
    }
   ],
   "source": [
    "not 5 == 4"
   ]
  },
  {
   "cell_type": "markdown",
   "id": "3dcd1828",
   "metadata": {},
   "source": [
    "## if Kontrolleri"
   ]
  },
  {
   "cell_type": "code",
   "execution_count": 9,
   "id": "25f73065",
   "metadata": {},
   "outputs": [
    {
     "data": {
      "text/plain": [
       "True"
      ]
     },
     "execution_count": 9,
     "metadata": {},
     "output_type": "execute_result"
    }
   ],
   "source": [
    "3 > 1"
   ]
  },
  {
   "cell_type": "code",
   "execution_count": 12,
   "id": "18401b24",
   "metadata": {},
   "outputs": [
    {
     "name": "stdout",
     "output_type": "stream",
     "text": [
      "if koşulunun dışındasın\n"
     ]
    }
   ],
   "source": [
    "if 3 > 4:\n",
    "    print(\"atıl samancıoğlu\")\n",
    "    print(\"if koşulu sağlandı\")\n",
    "print(\"if koşulunun dışındasın\")"
   ]
  },
  {
   "cell_type": "code",
   "execution_count": 22,
   "id": "6649f29e",
   "metadata": {},
   "outputs": [],
   "source": [
    "x = 4\n",
    "y = 4"
   ]
  },
  {
   "cell_type": "code",
   "execution_count": 24,
   "id": "cebc1114",
   "metadata": {},
   "outputs": [
    {
     "name": "stdout",
     "output_type": "stream",
     "text": [
      "x ve y birbirine eşittir.\n"
     ]
    }
   ],
   "source": [
    "if x > y:\n",
    "    print(\"x, y'den büyüktür.\")\n",
    "elif y > x:\n",
    "    print(\"y, x'den büyüktür..\")\n",
    "else:\n",
    "    print(\"x ve y birbirine eşittir.\")"
   ]
  },
  {
   "cell_type": "code",
   "execution_count": 25,
   "id": "eed6f0d8",
   "metadata": {},
   "outputs": [],
   "source": [
    "## stringlerle if döngüsü"
   ]
  },
  {
   "cell_type": "code",
   "execution_count": 30,
   "id": "4575e434",
   "metadata": {},
   "outputs": [
    {
     "name": "stdout",
     "output_type": "stream",
     "text": [
      "Süper kahraman seçiniz: Auamen\n"
     ]
    }
   ],
   "source": [
    "kahraman = input(\"Süper kahraman seçiniz: \")"
   ]
  },
  {
   "cell_type": "code",
   "execution_count": 31,
   "id": "9ff91c48",
   "metadata": {},
   "outputs": [
    {
     "name": "stdout",
     "output_type": "stream",
     "text": [
      "Bunu gerçekten bilmiyoruz!\n"
     ]
    }
   ],
   "source": [
    "if kahraman == \"Batman\":\n",
    "    print(\"Batman'i seçtiniz tebrikler!\")\n",
    "elif kahraman == \"Supermen\":\n",
    "    print(\"Keşke Batman'i seçseydiniz.\")\n",
    "elif kahraman == \"IronMan\":\n",
    "    print(\"Iron Man kimdir?\")\n",
    "else:\n",
    "    print(\"Bunu gerçekten bilmiyoruz!\")"
   ]
  },
  {
   "cell_type": "code",
   "execution_count": 34,
   "id": "9aa39192",
   "metadata": {},
   "outputs": [],
   "source": [
    "a = 10\n",
    "b = 20\n",
    "c = 20"
   ]
  },
  {
   "cell_type": "code",
   "execution_count": 36,
   "id": "ca3ddb2b",
   "metadata": {},
   "outputs": [
    {
     "name": "stdout",
     "output_type": "stream",
     "text": [
      "Koşullarınız tutmadı\n"
     ]
    }
   ],
   "source": [
    "if a > b and b > c:\n",
    "    print(\"a, b'den büyüktür ve b'de c'den büyüktür.\")\n",
    "elif a < b and b < c:\n",
    "    print(\"a, b'den küçük ve b'de c'den küçüktür.\")\n",
    "else:\n",
    "    print(\"Koşullarınız tutmadı\")"
   ]
  },
  {
   "cell_type": "code",
   "execution_count": 39,
   "id": "a3914399",
   "metadata": {},
   "outputs": [],
   "source": [
    "m = 10\n",
    "k = 4\n",
    "l = 5"
   ]
  },
  {
   "cell_type": "code",
   "execution_count": 40,
   "id": "513b96ba",
   "metadata": {},
   "outputs": [
    {
     "name": "stdout",
     "output_type": "stream",
     "text": [
      "Kod çalıştırılıyor\n"
     ]
    }
   ],
   "source": [
    "if m > k or k > l: # bir tanesi sağlansa yeterlidir.\n",
    "    print(\"Kod çalıştırılıyor\")"
   ]
  },
  {
   "cell_type": "code",
   "execution_count": 53,
   "id": "2d322ead",
   "metadata": {},
   "outputs": [],
   "source": [
    "karakterCanli = False"
   ]
  },
  {
   "cell_type": "code",
   "execution_count": 54,
   "id": "0e31818d",
   "metadata": {},
   "outputs": [
    {
     "name": "stdout",
     "output_type": "stream",
     "text": [
      "Karakteriniz yaşamıyor!\n"
     ]
    }
   ],
   "source": [
    "if karakterCanli == True:\n",
    "    print(\"Karakteriniz yaşıyor!\")\n",
    "else:\n",
    "    print(\"Karakteriniz yaşamıyor!\")"
   ]
  },
  {
   "cell_type": "code",
   "execution_count": 55,
   "id": "05bf2e4c",
   "metadata": {},
   "outputs": [
    {
     "name": "stdout",
     "output_type": "stream",
     "text": [
      "Karakteriniz yaşamıyor!\n"
     ]
    }
   ],
   "source": [
    "if karakterCanli: # sadece booleanlarda geçerlidir.\n",
    "    print(\"Karakteriniz yaşıyor!\")\n",
    "else:\n",
    "    print(\"Karakteriniz yaşamıyor!\")"
   ]
  },
  {
   "cell_type": "code",
   "execution_count": 56,
   "id": "f472129a",
   "metadata": {},
   "outputs": [
    {
     "name": "stdout",
     "output_type": "stream",
     "text": [
      "karakter canlı değil!\n"
     ]
    }
   ],
   "source": [
    "if not karakterCanli:\n",
    "    print(\"karakter canlı değil!\")"
   ]
  },
  {
   "cell_type": "code",
   "execution_count": 58,
   "id": "c33f61e5",
   "metadata": {},
   "outputs": [],
   "source": [
    "isim_soyisim = \"Ahmet Kılınç\""
   ]
  },
  {
   "cell_type": "code",
   "execution_count": 60,
   "id": "ded35dc9",
   "metadata": {},
   "outputs": [
    {
     "name": "stdout",
     "output_type": "stream",
     "text": [
      "Eşit değildir!\n"
     ]
    }
   ],
   "source": [
    "if isim_soyisim == \"ahmet Kılınç\": # HER HARFE DİKKAT EDER!\n",
    "    print(\"Eşittir!\")\n",
    "else:\n",
    "    print(\"Eşit değildir!\")"
   ]
  },
  {
   "cell_type": "code",
   "execution_count": 62,
   "id": "8be8465f",
   "metadata": {},
   "outputs": [
    {
     "name": "stdout",
     "output_type": "stream",
     "text": [
      "Vardır\n"
     ]
    }
   ],
   "source": [
    "if \"ınç\" in isim_soyisim: # içinde var mıdır yok mudur\n",
    "    print(\"Vardır\")\n",
    "else:\n",
    "    print(\"Yoktur\")"
   ]
  },
  {
   "cell_type": "code",
   "execution_count": 63,
   "id": "a2f10172",
   "metadata": {},
   "outputs": [],
   "source": [
    "listem = [10,20,30,40,50]"
   ]
  },
  {
   "cell_type": "code",
   "execution_count": 65,
   "id": "b8175ab3",
   "metadata": {},
   "outputs": [],
   "source": [
    "if 60 in listem:\n",
    "    print(\"Vardır!\")"
   ]
  },
  {
   "cell_type": "code",
   "execution_count": 66,
   "id": "27b43079",
   "metadata": {},
   "outputs": [],
   "source": [
    "sozluk = {\"muz\" : 100, \"elma\" : 150, \"karpuz\" : 500}"
   ]
  },
  {
   "cell_type": "code",
   "execution_count": 68,
   "id": "00405721",
   "metadata": {},
   "outputs": [
    {
     "name": "stdout",
     "output_type": "stream",
     "text": [
      "vardır.\n"
     ]
    }
   ],
   "source": [
    "if \"muz\" in sozluk.keys():\n",
    "    print(\"vardır.\")"
   ]
  },
  {
   "cell_type": "code",
   "execution_count": 70,
   "id": "6acdc3cd",
   "metadata": {},
   "outputs": [
    {
     "name": "stdout",
     "output_type": "stream",
     "text": [
      "Vardır\n"
     ]
    }
   ],
   "source": [
    "if 500 in sozluk.values():\n",
    "    print(\"Vardır\")"
   ]
  },
  {
   "cell_type": "markdown",
   "id": "435a9837",
   "metadata": {},
   "source": [
    "### For Döngüsü"
   ]
  },
  {
   "cell_type": "code",
   "execution_count": 71,
   "id": "d37fb00d",
   "metadata": {},
   "outputs": [],
   "source": [
    "benim_listem = [10,20,30,40,50]"
   ]
  },
  {
   "cell_type": "code",
   "execution_count": 72,
   "id": "a0e5642b",
   "metadata": {},
   "outputs": [
    {
     "name": "stdout",
     "output_type": "stream",
     "text": [
      "evet içerisinde mevcuttur!\n"
     ]
    }
   ],
   "source": [
    "if 10 in benim_listem:\n",
    "    print(\"evet içerisinde mevcuttur!\")"
   ]
  },
  {
   "cell_type": "code",
   "execution_count": 73,
   "id": "81e18359",
   "metadata": {},
   "outputs": [
    {
     "data": {
      "text/plain": [
       "16.666666666666668"
      ]
     },
     "execution_count": 73,
     "metadata": {},
     "output_type": "execute_result"
    }
   ],
   "source": [
    "benim_listem[0] * 5 / 3"
   ]
  },
  {
   "cell_type": "code",
   "execution_count": 74,
   "id": "dc047c60",
   "metadata": {},
   "outputs": [
    {
     "data": {
      "text/plain": [
       "33.333333333333336"
      ]
     },
     "execution_count": 74,
     "metadata": {},
     "output_type": "execute_result"
    }
   ],
   "source": [
    "benim_listem[1] * 5 / 3"
   ]
  },
  {
   "cell_type": "code",
   "execution_count": 78,
   "id": "01f2ebb1",
   "metadata": {},
   "outputs": [
    {
     "name": "stdout",
     "output_type": "stream",
     "text": [
      "16.666666666666668\n",
      "33.333333333333336\n",
      "50.0\n",
      "66.66666666666667\n",
      "83.33333333333333\n"
     ]
    }
   ],
   "source": [
    "for numara in benim_listem:\n",
    "    print(numara * 5 / 3)"
   ]
  },
  {
   "cell_type": "code",
   "execution_count": 80,
   "id": "5781e42e",
   "metadata": {},
   "outputs": [
    {
     "name": "stdout",
     "output_type": "stream",
     "text": [
      "16.666666666666668\n",
      "33.333333333333336\n",
      "50.0\n",
      "66.66666666666667\n",
      "83.33333333333333\n"
     ]
    }
   ],
   "source": [
    "for num in benim_listem:\n",
    "    yeniNumara = num * 5 / 3\n",
    "    print(yeniNumara)"
   ]
  },
  {
   "cell_type": "code",
   "execution_count": 81,
   "id": "2f95db36",
   "metadata": {},
   "outputs": [],
   "source": [
    "yeni_liste = [1,2,3,4,5,6]"
   ]
  },
  {
   "cell_type": "code",
   "execution_count": 85,
   "id": "564cd62a",
   "metadata": {},
   "outputs": [
    {
     "name": "stdout",
     "output_type": "stream",
     "text": [
      "2\n",
      "4\n",
      "6\n"
     ]
    }
   ],
   "source": [
    "for rakam in yeni_liste:\n",
    "    if rakam % 2 == 0:\n",
    "        print(rakam)"
   ]
  },
  {
   "cell_type": "code",
   "execution_count": 86,
   "id": "46857394",
   "metadata": {},
   "outputs": [],
   "source": [
    "yeniString = \"Atıl Samancıoğlu\""
   ]
  },
  {
   "cell_type": "code",
   "execution_count": 87,
   "id": "4bae597d",
   "metadata": {},
   "outputs": [
    {
     "name": "stdout",
     "output_type": "stream",
     "text": [
      "A\n",
      "t\n",
      "ı\n",
      "l\n",
      " \n",
      "S\n",
      "a\n",
      "m\n",
      "a\n",
      "n\n",
      "c\n",
      "ı\n",
      "o\n",
      "ğ\n",
      "l\n",
      "u\n"
     ]
    }
   ],
   "source": [
    "for harf in yeniString:\n",
    "    print(harf)"
   ]
  },
  {
   "cell_type": "code",
   "execution_count": 88,
   "id": "444c5c94",
   "metadata": {},
   "outputs": [],
   "source": [
    "tupledegisken = (1,2,3,4,5)"
   ]
  },
  {
   "cell_type": "code",
   "execution_count": 90,
   "id": "72b7dc99",
   "metadata": {},
   "outputs": [
    {
     "name": "stdout",
     "output_type": "stream",
     "text": [
      "-9\n",
      "-8\n",
      "-7\n",
      "-6\n",
      "-5\n"
     ]
    }
   ],
   "source": [
    "for eleman in tupledegisken:\n",
    "    print(eleman - 10)"
   ]
  },
  {
   "cell_type": "code",
   "execution_count": 98,
   "id": "6100df19",
   "metadata": {},
   "outputs": [],
   "source": [
    "koordinatlar = [(10.2,15.2),(32.4,16.2),(40.2,20.2)]"
   ]
  },
  {
   "cell_type": "code",
   "execution_count": 99,
   "id": "bec924c9",
   "metadata": {},
   "outputs": [
    {
     "data": {
      "text/plain": [
       "tuple"
      ]
     },
     "execution_count": 99,
     "metadata": {},
     "output_type": "execute_result"
    }
   ],
   "source": [
    "type(koordinatlar[0])"
   ]
  },
  {
   "cell_type": "code",
   "execution_count": 100,
   "id": "76fe0c01",
   "metadata": {},
   "outputs": [
    {
     "name": "stdout",
     "output_type": "stream",
     "text": [
      "(10.2, 15.2)\n",
      "(32.4, 16.2)\n",
      "(40.2, 20.2)\n"
     ]
    }
   ],
   "source": [
    "for eleman in koordinatlar:\n",
    "    print(eleman)"
   ]
  },
  {
   "cell_type": "code",
   "execution_count": 101,
   "id": "15b7564f",
   "metadata": {},
   "outputs": [
    {
     "name": "stdout",
     "output_type": "stream",
     "text": [
      "15.2\n",
      "16.2\n",
      "20.2\n"
     ]
    }
   ],
   "source": [
    "for x,y in koordinatlar:\n",
    "    print(y)"
   ]
  },
  {
   "cell_type": "code",
   "execution_count": 102,
   "id": "66dd7cac",
   "metadata": {},
   "outputs": [],
   "source": [
    "garipListe = [(1,2,3),(4,5,6),(7,8,9)]"
   ]
  },
  {
   "cell_type": "code",
   "execution_count": 103,
   "id": "b97e3bfc",
   "metadata": {},
   "outputs": [
    {
     "name": "stdout",
     "output_type": "stream",
     "text": [
      "3\n",
      "6\n",
      "9\n"
     ]
    }
   ],
   "source": [
    "for (x,y,z) in garipListe:\n",
    "    print(z)"
   ]
  },
  {
   "cell_type": "code",
   "execution_count": 104,
   "id": "0062a7c9",
   "metadata": {},
   "outputs": [],
   "source": [
    "benim_sozluk = {\"muz\" : 150, \"portakal\" : 250, \"elma\" : 400}"
   ]
  },
  {
   "cell_type": "code",
   "execution_count": 105,
   "id": "dc8c2fd1",
   "metadata": {},
   "outputs": [
    {
     "data": {
      "text/plain": [
       "dict_items([('muz', 150), ('portakal', 250), ('elma', 400)])"
      ]
     },
     "execution_count": 105,
     "metadata": {},
     "output_type": "execute_result"
    }
   ],
   "source": [
    "type(benim_sozluk.items())"
   ]
  },
  {
   "cell_type": "code",
   "execution_count": 107,
   "id": "194ffc18",
   "metadata": {},
   "outputs": [
    {
     "name": "stdout",
     "output_type": "stream",
     "text": [
      "150\n",
      "250\n",
      "400\n"
     ]
    }
   ],
   "source": [
    "for (anahtar,deger) in benim_sozluk.items(): #sözlüklerle çalışabilme\n",
    "    print(deger)"
   ]
  },
  {
   "cell_type": "markdown",
   "id": "418058c4",
   "metadata": {},
   "source": [
    "### Continue Break Pass"
   ]
  },
  {
   "cell_type": "code",
   "execution_count": 108,
   "id": "1ddef6e4",
   "metadata": {},
   "outputs": [],
   "source": [
    "liste_2 = [5,10,15,20,25,30]"
   ]
  },
  {
   "cell_type": "code",
   "execution_count": 109,
   "id": "f96af6f8",
   "metadata": {},
   "outputs": [
    {
     "name": "stdout",
     "output_type": "stream",
     "text": [
      "1.0\n",
      "2.0\n",
      "3.0\n",
      "4.0\n",
      "5.0\n",
      "6.0\n"
     ]
    }
   ],
   "source": [
    "for numara in liste_2:\n",
    "    print(numara / 5)"
   ]
  },
  {
   "cell_type": "code",
   "execution_count": 110,
   "id": "107eb8f6",
   "metadata": {},
   "outputs": [
    {
     "name": "stdout",
     "output_type": "stream",
     "text": [
      "5\n",
      "10\n"
     ]
    }
   ],
   "source": [
    "# Breaking\n",
    "for numara in liste_2:\n",
    "    if numara == 15:\n",
    "        break; # döngüyü durdurur!\n",
    "    print(numara)"
   ]
  },
  {
   "cell_type": "code",
   "execution_count": 111,
   "id": "6967a802",
   "metadata": {},
   "outputs": [
    {
     "name": "stdout",
     "output_type": "stream",
     "text": [
      "5\n",
      "10\n",
      "20\n",
      "25\n",
      "30\n"
     ]
    }
   ],
   "source": [
    "for numara in liste_2:\n",
    "    if numara == 15:\n",
    "        continue # 15'de durmadı bundan ötürü de 15'i dahil etmedi...\n",
    "    print(numara)"
   ]
  },
  {
   "cell_type": "code",
   "execution_count": 112,
   "id": "40671437",
   "metadata": {},
   "outputs": [],
   "source": [
    "for numara in liste_2:\n",
    "    pass # hatayı vermez kodu geçiştirir."
   ]
  },
  {
   "cell_type": "markdown",
   "id": "1ba3277f",
   "metadata": {},
   "source": [
    "## While Döngüsü"
   ]
  },
  {
   "cell_type": "code",
   "execution_count": 6,
   "id": "49e7ddc5",
   "metadata": {},
   "outputs": [],
   "source": [
    "x = 0"
   ]
  },
  {
   "cell_type": "code",
   "execution_count": 7,
   "id": "b874421d",
   "metadata": {},
   "outputs": [
    {
     "name": "stdout",
     "output_type": "stream",
     "text": [
      "0\n",
      "1\n",
      "2\n",
      "3\n",
      "4\n",
      "5\n",
      "6\n",
      "7\n",
      "8\n",
      "9\n"
     ]
    }
   ],
   "source": [
    "while x < 10:\n",
    "    print(x)\n",
    "    x = x + 1 # koyulmazsa sonsuz döngüye girer."
   ]
  },
  {
   "cell_type": "code",
   "execution_count": 8,
   "id": "16893bbf",
   "metadata": {},
   "outputs": [],
   "source": [
    "listelerim = [1,2,3,4,5]"
   ]
  },
  {
   "cell_type": "code",
   "execution_count": 9,
   "id": "e5974fcf",
   "metadata": {},
   "outputs": [
    {
     "data": {
      "text/plain": [
       "5"
      ]
     },
     "execution_count": 9,
     "metadata": {},
     "output_type": "execute_result"
    }
   ],
   "source": [
    "listelerim.pop()"
   ]
  },
  {
   "cell_type": "code",
   "execution_count": 10,
   "id": "aa1b4457",
   "metadata": {},
   "outputs": [],
   "source": [
    "listelerim.append(5)"
   ]
  },
  {
   "cell_type": "code",
   "execution_count": 11,
   "id": "30b0e0a1",
   "metadata": {},
   "outputs": [
    {
     "data": {
      "text/plain": [
       "[1, 2, 3, 4, 5]"
      ]
     },
     "execution_count": 11,
     "metadata": {},
     "output_type": "execute_result"
    }
   ],
   "source": [
    "listelerim"
   ]
  },
  {
   "cell_type": "code",
   "execution_count": 12,
   "id": "d052deef",
   "metadata": {},
   "outputs": [
    {
     "name": "stdout",
     "output_type": "stream",
     "text": [
      "3 halen listenin içerisinde\n",
      "3 halen listenin içerisinde\n",
      "3 halen listenin içerisinde\n"
     ]
    }
   ],
   "source": [
    "while 3 in listelerim:\n",
    "    print(\"3 halen listenin içerisinde\")\n",
    "    listelerim.pop()"
   ]
  },
  {
   "cell_type": "code",
   "execution_count": 15,
   "id": "56da7472",
   "metadata": {},
   "outputs": [],
   "source": [
    "numara = 0"
   ]
  },
  {
   "cell_type": "code",
   "execution_count": 16,
   "id": "bb963a62",
   "metadata": {},
   "outputs": [
    {
     "name": "stdout",
     "output_type": "stream",
     "text": [
      "0\n",
      "1\n",
      "2\n",
      "3\n"
     ]
    }
   ],
   "source": [
    "while numara < 5:\n",
    "    if numara == 4: # dördü yazdırmadan ekrana yazdırdık\n",
    "        break\n",
    "    print(numara)\n",
    "    numara = numara + 1"
   ]
  },
  {
   "cell_type": "code",
   "execution_count": 21,
   "id": "9ca29f71",
   "metadata": {},
   "outputs": [],
   "source": [
    "yeni_degisken = 0"
   ]
  },
  {
   "cell_type": "code",
   "execution_count": 26,
   "id": "638a486e",
   "metadata": {},
   "outputs": [],
   "source": [
    "while yeni_degisken < 15:\n",
    "    # print(\"yeni_degiskenin güncel değeri: \" + str(yeni_degisken))\n",
    "    # print(f\"yeni_degiskenin güncel değeri: {yeni_degisken}\")\n",
    "    yeni_degisken = yeni_degisken + 1"
   ]
  }
 ],
 "metadata": {
  "kernelspec": {
   "display_name": "Python 3 (ipykernel)",
   "language": "python",
   "name": "python3"
  },
  "language_info": {
   "codemirror_mode": {
    "name": "ipython",
    "version": 3
   },
   "file_extension": ".py",
   "mimetype": "text/x-python",
   "name": "python",
   "nbconvert_exporter": "python",
   "pygments_lexer": "ipython3",
   "version": "3.11.5"
  }
 },
 "nbformat": 4,
 "nbformat_minor": 5
}
