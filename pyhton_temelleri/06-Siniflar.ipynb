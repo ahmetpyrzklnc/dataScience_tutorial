{
 "cells": [
  {
   "cell_type": "code",
   "execution_count": 2,
   "id": "4249b8df-d07e-487e-9093-a900c8f40c09",
   "metadata": {},
   "outputs": [],
   "source": [
    "benimListem = list()"
   ]
  },
  {
   "cell_type": "code",
   "execution_count": 3,
   "id": "f7f07299-fa19-4562-8577-7c8b1d00ed28",
   "metadata": {},
   "outputs": [
    {
     "data": {
      "text/plain": [
       "list"
      ]
     },
     "execution_count": 3,
     "metadata": {},
     "output_type": "execute_result"
    }
   ],
   "source": [
    "type(benimListem)"
   ]
  },
  {
   "cell_type": "markdown",
   "id": "2bbf0839-18ca-46b5-9684-3693dd56b284",
   "metadata": {},
   "source": [
    "### instance && attribute"
   ]
  },
  {
   "cell_type": "code",
   "execution_count": 4,
   "id": "c19fbf3e-ef96-4668-b4c5-fa2895eb5176",
   "metadata": {},
   "outputs": [],
   "source": [
    "superKahramanAdi = \"Superman\"\n",
    "superKahramanYasi = 30\n",
    "superKahramanMeslegi = \"Gazeteci\""
   ]
  },
  {
   "cell_type": "code",
   "execution_count": 5,
   "id": "17f2f63b-5614-45c5-93e0-137b49dcd577",
   "metadata": {},
   "outputs": [],
   "source": [
    "ikinciSuperKahramanAdi = \"Batman\""
   ]
  },
  {
   "cell_type": "code",
   "execution_count": 8,
   "id": "a868e90d-c9fe-4160-9b5c-4ef2f5e53ff4",
   "metadata": {},
   "outputs": [],
   "source": [
    "class SuperKahraman(): # sınıf ismi büyük harfle başlar...\n",
    "    def __init__(self): # init bu sınıfı çalıştırır ama self eklemen gerekir. self demek objenin kendisine referans göndermesidir.\n",
    "        print(\"init çağrıldı...\")"
   ]
  },
  {
   "cell_type": "code",
   "execution_count": 9,
   "id": "7d2cfe0a-a494-4e9f-8b85-af7613801edd",
   "metadata": {},
   "outputs": [
    {
     "name": "stdout",
     "output_type": "stream",
     "text": [
      "init çağrıldı...\n"
     ]
    }
   ],
   "source": [
    "superman = SuperKahraman()"
   ]
  },
  {
   "cell_type": "code",
   "execution_count": 11,
   "id": "bff66ad2-2cf3-4930-99ff-031d8133a019",
   "metadata": {},
   "outputs": [
    {
     "name": "stdout",
     "output_type": "stream",
     "text": [
      "init çağrıldı...\n"
     ]
    }
   ],
   "source": [
    "batman = SuperKahraman()"
   ]
  },
  {
   "cell_type": "code",
   "execution_count": 52,
   "id": "e0fdc7f3-d413-4e91-b66b-9dce92c63eb5",
   "metadata": {},
   "outputs": [],
   "source": [
    "class SuperKahraman_(): # sınıf ismi büyük harfle başlar... \n",
    "\n",
    "    ozelGuc = \"Görünmez\" # tanımlanacak her nesneye dahil edilir....\n",
    "    \n",
    "    def __init__(self, isim, yas, meslek): # bu sefer farklı argumanlar ekledik...\n",
    "        print(\"init çağrıldı...\")\n",
    "        self.isim = isim\n",
    "        self.yas = yas\n",
    "        self.meslek = meslek\n",
    "\n",
    "    def ornekMethod(self): # parantez içerisinde self eklemezsek hata alırız çalıştıramayız...\n",
    "        print(f\"Ben super kahramanım ve mesleğim: {self.meslek}\") # süslü parantez içerisinde self. şeklinde değişken yazılması gerekir..."
   ]
  },
  {
   "cell_type": "code",
   "execution_count": 53,
   "id": "04d516e6-c5f2-44bc-a515-312cc8e7e8a7",
   "metadata": {},
   "outputs": [],
   "source": [
    "# superman = SuperKahraman_() # argumanları eklemediğin için hata alırsın"
   ]
  },
  {
   "cell_type": "code",
   "execution_count": 54,
   "id": "c6c3bc20-aede-4bb8-83e5-65bb2de8951f",
   "metadata": {},
   "outputs": [
    {
     "name": "stdout",
     "output_type": "stream",
     "text": [
      "init çağrıldı...\n"
     ]
    }
   ],
   "source": [
    "superman = SuperKahraman_(\"Superman\", 30, \"Gazeteci\")"
   ]
  },
  {
   "cell_type": "code",
   "execution_count": 55,
   "id": "c50cbf5e-de15-487d-8f84-e6b079b54e69",
   "metadata": {},
   "outputs": [],
   "source": [
    "superman.isim = \"Clark Kent\" # değiştirebiliriz..."
   ]
  },
  {
   "cell_type": "code",
   "execution_count": 56,
   "id": "ac7c108c-fd53-4d81-bbca-65b7c9310d2f",
   "metadata": {},
   "outputs": [
    {
     "data": {
      "text/plain": [
       "'Clark Kent'"
      ]
     },
     "execution_count": 56,
     "metadata": {},
     "output_type": "execute_result"
    }
   ],
   "source": [
    "superman.isim"
   ]
  },
  {
   "cell_type": "code",
   "execution_count": 57,
   "id": "71095dd1-833c-4aa9-824f-8700f9d80c09",
   "metadata": {},
   "outputs": [],
   "source": [
    "superman.ozelGuc = \"Uçabilir\""
   ]
  },
  {
   "cell_type": "code",
   "execution_count": 58,
   "id": "97c37281-4e5f-4d5b-aec9-1ec016455707",
   "metadata": {},
   "outputs": [
    {
     "data": {
      "text/plain": [
       "'Uçabilir'"
      ]
     },
     "execution_count": 58,
     "metadata": {},
     "output_type": "execute_result"
    }
   ],
   "source": [
    "superman.ozelGuc"
   ]
  },
  {
   "cell_type": "code",
   "execution_count": 59,
   "id": "3a1611a8-673d-4b03-871a-8e84c240901e",
   "metadata": {},
   "outputs": [
    {
     "name": "stdout",
     "output_type": "stream",
     "text": [
      "Ben super kahramanım ve mesleğim: Gazeteci\n"
     ]
    }
   ],
   "source": [
    "superman.ornekMethod() "
   ]
  },
  {
   "cell_type": "code",
   "execution_count": 76,
   "id": "4fef34fc-7cf5-46dd-85ca-230cae2aeb54",
   "metadata": {},
   "outputs": [],
   "source": [
    "class Kopek():\n",
    "\n",
    "    yil_carpani = 7\n",
    "    \n",
    "    def __init__(self,yas=5): # değer vermezsek default olarak 5 yazar ama değer girersen bunu ezer...\n",
    "        self.yas = yas\n",
    "\n",
    "    def insanYasiniHesaplanmasi(self):\n",
    "        return self.yas * self.yil_carpani "
   ]
  },
  {
   "cell_type": "code",
   "execution_count": 77,
   "id": "90e6c352-6d64-4cc9-9488-e3c49fd1ff1f",
   "metadata": {},
   "outputs": [],
   "source": [
    "benimKopek = Kopek() # parametre girildiği için 5 ezildi..."
   ]
  },
  {
   "cell_type": "code",
   "execution_count": 78,
   "id": "013d46d0-93dc-4c66-a4be-560e7a3eb9fd",
   "metadata": {},
   "outputs": [
    {
     "data": {
      "text/plain": [
       "5"
      ]
     },
     "execution_count": 78,
     "metadata": {},
     "output_type": "execute_result"
    }
   ],
   "source": [
    "benimKopek.yas"
   ]
  },
  {
   "cell_type": "code",
   "execution_count": 79,
   "id": "42b3616e-9049-42fc-a402-135219d5c55e",
   "metadata": {},
   "outputs": [
    {
     "data": {
      "text/plain": [
       "35"
      ]
     },
     "execution_count": 79,
     "metadata": {},
     "output_type": "execute_result"
    }
   ],
   "source": [
    "benimKopek.insanYasiniHesaplanmasi()"
   ]
  },
  {
   "cell_type": "markdown",
   "id": "bd72d4f9-4838-4171-aea8-d2537efc5166",
   "metadata": {},
   "source": [
    "### inheritance --> miras alma"
   ]
  },
  {
   "cell_type": "code",
   "execution_count": 80,
   "id": "dd3cbe1c-16b5-4e78-af1b-f59d7152026a",
   "metadata": {},
   "outputs": [],
   "source": [
    "class Hayvan():\n",
    "    def __init__(self):\n",
    "        print(\"Hayvan sınıfı init çağrıldı...\")\n",
    "\n",
    "    def method1(self):\n",
    "        print(\"Hayvan sınıfı method1 çağrıldı...\")\n",
    "\n",
    "    def method2(self):\n",
    "        print(\"Hayvan sınıfı method2 çağrıldı...\")"
   ]
  },
  {
   "cell_type": "code",
   "execution_count": 84,
   "id": "d918d4c6-d7c3-4eba-85f9-1a979e659e56",
   "metadata": {},
   "outputs": [
    {
     "name": "stdout",
     "output_type": "stream",
     "text": [
      "Hayvan sınıfı init çağrıldı...\n"
     ]
    }
   ],
   "source": [
    "benimHayvanim = Hayvan() # hayvan sınıfını bir değişkene atadım..."
   ]
  },
  {
   "cell_type": "code",
   "execution_count": 85,
   "id": "b591af79-f24d-43e2-be1d-046399235dfc",
   "metadata": {},
   "outputs": [
    {
     "name": "stdout",
     "output_type": "stream",
     "text": [
      "Hayvan sınıfı method1 çağrıldı...\n"
     ]
    }
   ],
   "source": [
    "benimHayvanim.method1() # bu sınıf içerisindeki diğer methodlara erişebiliyoruz..."
   ]
  },
  {
   "cell_type": "code",
   "execution_count": 86,
   "id": "e00dfda1-cd70-464b-98b8-8e762f0e48b7",
   "metadata": {},
   "outputs": [
    {
     "name": "stdout",
     "output_type": "stream",
     "text": [
      "Hayvan sınıfı method2 çağrıldı...\n"
     ]
    }
   ],
   "source": [
    "benimHayvanim.method2() # bu sınıf içerisindeki diğer methodlara erişebilmek mümkün hale geldi"
   ]
  },
  {
   "cell_type": "code",
   "execution_count": 92,
   "id": "d4ea3a93-719f-45a7-aba3-1423960382d0",
   "metadata": {},
   "outputs": [],
   "source": [
    "class Kedi(Hayvan): # hayvan sınıfından miras aldı...\n",
    "    def __init__(self):\n",
    "        Hayvan.__init__(self) # hayvan sınıfının initini bile çağırabilirsin.\n",
    "        print(\"Kedi sınıfı init çağrıldı...\")\n",
    "    def miyavla(self):\n",
    "        print(\"Miyav\")\n",
    "\n",
    "    def method1(self): #hayvan sınıfındaki method1'in üzerinde ovverride eder...\n",
    "        print(\"Kedi sınıfındaki method1 çalışır...\")"
   ]
  },
  {
   "cell_type": "code",
   "execution_count": 93,
   "id": "caea5e76-267b-4cb1-8bc0-bfe9e3e60d25",
   "metadata": {},
   "outputs": [
    {
     "name": "stdout",
     "output_type": "stream",
     "text": [
      "Hayvan sınıfı init çağrıldı...\n",
      "Kedi sınıfı init çağrıldı...\n"
     ]
    }
   ],
   "source": [
    "benimKedi = Kedi()"
   ]
  },
  {
   "cell_type": "code",
   "execution_count": 94,
   "id": "5b779fe9-441d-4d57-861f-6b4b1b92e913",
   "metadata": {},
   "outputs": [
    {
     "name": "stdout",
     "output_type": "stream",
     "text": [
      "Miyav\n"
     ]
    }
   ],
   "source": [
    "benimKedi.miyavla() # benimhayvanım sınıfında miyavla diye bir şey olmaz..."
   ]
  },
  {
   "cell_type": "code",
   "execution_count": 95,
   "id": "94ff6842-0a14-48b3-bbf3-e132581531fa",
   "metadata": {},
   "outputs": [
    {
     "name": "stdout",
     "output_type": "stream",
     "text": [
      "Hayvan sınıfı init çağrıldı...\n"
     ]
    }
   ],
   "source": [
    "digerHayvan = Hayvan()"
   ]
  },
  {
   "cell_type": "code",
   "execution_count": 96,
   "id": "ea1ad089-69cd-4867-85e1-3d8ac97b920c",
   "metadata": {},
   "outputs": [
    {
     "name": "stdout",
     "output_type": "stream",
     "text": [
      "Hayvan sınıfı method1 çağrıldı...\n"
     ]
    }
   ],
   "source": [
    "digerHayvan.method1()"
   ]
  },
  {
   "cell_type": "code",
   "execution_count": 97,
   "id": "6fa51275-c25e-4cfa-a89c-40c614c310dc",
   "metadata": {},
   "outputs": [
    {
     "name": "stdout",
     "output_type": "stream",
     "text": [
      "Hayvan sınıfı init çağrıldı...\n",
      "Kedi sınıfı init çağrıldı...\n"
     ]
    }
   ],
   "source": [
    "digerKedi = Kedi()"
   ]
  },
  {
   "cell_type": "code",
   "execution_count": 99,
   "id": "2d5d07a2-2e77-4bff-b0ba-01e5758673fe",
   "metadata": {},
   "outputs": [
    {
     "name": "stdout",
     "output_type": "stream",
     "text": [
      "Kedi sınıfındaki method1 çalışır...\n"
     ]
    }
   ],
   "source": [
    "digerKedi.method1() # override method "
   ]
  },
  {
   "cell_type": "markdown",
   "id": "75227177-9d91-49e2-ba52-e00da937787e",
   "metadata": {},
   "source": [
    "#### polymorhism"
   ]
  },
  {
   "cell_type": "code",
   "execution_count": 100,
   "id": "5d4fe324-6104-4337-9ca0-d65242af42cc",
   "metadata": {},
   "outputs": [],
   "source": [
    "class Elma():\n",
    "    def __init__(self, isim):\n",
    "        self.isim = isim\n",
    "\n",
    "    def bilgiVer(self):\n",
    "        return self.isim + \" 100 kaloridir... \""
   ]
  },
  {
   "cell_type": "code",
   "execution_count": 116,
   "id": "c607cf42-a6be-4181-ad82-e75f437d81dc",
   "metadata": {},
   "outputs": [],
   "source": [
    "class Muz():\n",
    "    def __init__(self,isim):\n",
    "        self.isim = isim \n",
    "\n",
    "    def bilgiVer(self):\n",
    "        return self.isim + \" 150 kaloridir \""
   ]
  },
  {
   "cell_type": "code",
   "execution_count": 117,
   "id": "087dce01-ff48-40e5-9e64-d0b515c940c0",
   "metadata": {},
   "outputs": [],
   "source": [
    "elma = Elma(\"elma\")"
   ]
  },
  {
   "cell_type": "code",
   "execution_count": 118,
   "id": "04a73021-5d4b-431f-a98d-3b31a56374fd",
   "metadata": {},
   "outputs": [
    {
     "data": {
      "text/plain": [
       "'elma 100 kaloridir... '"
      ]
     },
     "execution_count": 118,
     "metadata": {},
     "output_type": "execute_result"
    }
   ],
   "source": [
    "elma.bilgiVer()"
   ]
  },
  {
   "cell_type": "code",
   "execution_count": 119,
   "id": "8302844f-a358-489e-af20-6dadc5880e4d",
   "metadata": {},
   "outputs": [],
   "source": [
    "muz = Muz(\"muz\")"
   ]
  },
  {
   "cell_type": "code",
   "execution_count": 120,
   "id": "03bec2b4-921c-4212-a71a-0847671398fa",
   "metadata": {},
   "outputs": [
    {
     "data": {
      "text/plain": [
       "'muz 150 kaloridir '"
      ]
     },
     "execution_count": 120,
     "metadata": {},
     "output_type": "execute_result"
    }
   ],
   "source": [
    "muz.bilgiVer()"
   ]
  },
  {
   "cell_type": "code",
   "execution_count": 122,
   "id": "7c07a82f-e1f8-454c-b704-0f0b073f4192",
   "metadata": {},
   "outputs": [],
   "source": [
    "meyveListesi = [elma,muz] # custom sınıflarında oluşturulan değerler"
   ]
  },
  {
   "cell_type": "code",
   "execution_count": 123,
   "id": "68c1bc21-bffb-4306-bdd6-c68d611e42e2",
   "metadata": {},
   "outputs": [
    {
     "name": "stdout",
     "output_type": "stream",
     "text": [
      "elma 100 kaloridir... \n",
      "muz 150 kaloridir \n"
     ]
    }
   ],
   "source": [
    "for meyve in meyveListesi:\n",
    "    print(meyve.bilgiVer())"
   ]
  },
  {
   "cell_type": "code",
   "execution_count": 124,
   "id": "bd33ab6a-4af4-4a9f-9bb2-f72e015777cc",
   "metadata": {},
   "outputs": [],
   "source": [
    "def bilgiAl(meyve):\n",
    "    print(meyve.bilgiVer())"
   ]
  },
  {
   "cell_type": "code",
   "execution_count": 125,
   "id": "731f21e7-e399-41a0-a489-6d7fec7a0fd4",
   "metadata": {},
   "outputs": [
    {
     "name": "stdout",
     "output_type": "stream",
     "text": [
      "muz 150 kaloridir \n"
     ]
    }
   ],
   "source": [
    "bilgiAl(muz)"
   ]
  },
  {
   "cell_type": "code",
   "execution_count": 126,
   "id": "0438c346-4d11-4c49-aaf1-b94507b7448a",
   "metadata": {},
   "outputs": [
    {
     "name": "stdout",
     "output_type": "stream",
     "text": [
      "elma 100 kaloridir... \n"
     ]
    }
   ],
   "source": [
    "bilgiAl(elma)"
   ]
  },
  {
   "cell_type": "code",
   "execution_count": null,
   "id": "14014363-17f5-4b52-9bf5-59e523c223c1",
   "metadata": {},
   "outputs": [],
   "source": []
  }
 ],
 "metadata": {
  "kernelspec": {
   "display_name": "Python 3 (ipykernel)",
   "language": "python",
   "name": "python3"
  },
  "language_info": {
   "codemirror_mode": {
    "name": "ipython",
    "version": 3
   },
   "file_extension": ".py",
   "mimetype": "text/x-python",
   "name": "python",
   "nbconvert_exporter": "python",
   "pygments_lexer": "ipython3",
   "version": "3.11.5"
  }
 },
 "nbformat": 4,
 "nbformat_minor": 5
}
