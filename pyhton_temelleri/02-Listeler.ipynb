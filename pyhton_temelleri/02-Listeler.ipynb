{
 "cells": [
  {
   "cell_type": "code",
   "execution_count": 1,
   "id": "e60f1c93",
   "metadata": {},
   "outputs": [],
   "source": [
    "benimString = \"Atıl Samancıoğlu\""
   ]
  },
  {
   "cell_type": "code",
   "execution_count": 3,
   "id": "39017b35",
   "metadata": {},
   "outputs": [
    {
     "data": {
      "text/plain": [
       "'A'"
      ]
     },
     "execution_count": 3,
     "metadata": {},
     "output_type": "execute_result"
    }
   ],
   "source": [
    "benimString[0]"
   ]
  },
  {
   "cell_type": "code",
   "execution_count": 4,
   "id": "302ecd27",
   "metadata": {},
   "outputs": [],
   "source": [
    "#immutability & mutable"
   ]
  },
  {
   "cell_type": "code",
   "execution_count": 5,
   "id": "d28ae1d8",
   "metadata": {},
   "outputs": [
    {
     "ename": "SyntaxError",
     "evalue": "cannot assign to literal (2114323360.py, line 1)",
     "output_type": "error",
     "traceback": [
      "\u001b[1;36m  Cell \u001b[1;32mIn[5], line 1\u001b[1;36m\u001b[0m\n\u001b[1;33m    benimString = [0] = \"B\"\u001b[0m\n\u001b[1;37m                   ^\u001b[0m\n\u001b[1;31mSyntaxError\u001b[0m\u001b[1;31m:\u001b[0m cannot assign to literal\n"
     ]
    }
   ],
   "source": [
    " # benimString = [0] = \"B\" # DEĞİŞTİRİLEMEZ"
   ]
  },
  {
   "cell_type": "code",
   "execution_count": 6,
   "id": "144fd932",
   "metadata": {},
   "outputs": [],
   "source": [
    "benimListem = [10,20,30,40]"
   ]
  },
  {
   "cell_type": "code",
   "execution_count": 7,
   "id": "98e6b1cf",
   "metadata": {},
   "outputs": [
    {
     "data": {
      "text/plain": [
       "list"
      ]
     },
     "execution_count": 7,
     "metadata": {},
     "output_type": "execute_result"
    }
   ],
   "source": [
    "type(benimListem)"
   ]
  },
  {
   "cell_type": "code",
   "execution_count": 8,
   "id": "7ebef982",
   "metadata": {},
   "outputs": [],
   "source": [
    "benimNumaram = 10\n",
    "benimDigerNumaram = 20"
   ]
  },
  {
   "cell_type": "code",
   "execution_count": 9,
   "id": "0712cb77",
   "metadata": {},
   "outputs": [],
   "source": [
    "benimNumaram = [benimNumaram,benimDigerNumaram]"
   ]
  },
  {
   "cell_type": "code",
   "execution_count": 10,
   "id": "9d2c1821",
   "metadata": {},
   "outputs": [
    {
     "data": {
      "text/plain": [
       "10"
      ]
     },
     "execution_count": 10,
     "metadata": {},
     "output_type": "execute_result"
    }
   ],
   "source": [
    "benimListem[0]"
   ]
  },
  {
   "cell_type": "code",
   "execution_count": 11,
   "id": "65758e30",
   "metadata": {},
   "outputs": [
    {
     "data": {
      "text/plain": [
       "10"
      ]
     },
     "execution_count": 11,
     "metadata": {},
     "output_type": "execute_result"
    }
   ],
   "source": [
    "benimNumaram[0]"
   ]
  },
  {
   "cell_type": "code",
   "execution_count": 12,
   "id": "0b6c5c74",
   "metadata": {},
   "outputs": [],
   "source": [
    "benimListem [0] = 100"
   ]
  },
  {
   "cell_type": "code",
   "execution_count": 13,
   "id": "7eafa951",
   "metadata": {},
   "outputs": [
    {
     "data": {
      "text/plain": [
       "[100, 20, 30, 40]"
      ]
     },
     "execution_count": 13,
     "metadata": {},
     "output_type": "execute_result"
    }
   ],
   "source": [
    "benimListem #değiştirilebilir"
   ]
  },
  {
   "cell_type": "code",
   "execution_count": 14,
   "id": "59014bfd",
   "metadata": {},
   "outputs": [],
   "source": [
    "benimListem.append(50)"
   ]
  },
  {
   "cell_type": "code",
   "execution_count": 15,
   "id": "c624aa3a",
   "metadata": {},
   "outputs": [
    {
     "data": {
      "text/plain": [
       "[100, 20, 30, 40, 50]"
      ]
     },
     "execution_count": 15,
     "metadata": {},
     "output_type": "execute_result"
    }
   ],
   "source": [
    "benimListem"
   ]
  },
  {
   "cell_type": "code",
   "execution_count": 16,
   "id": "70c57754",
   "metadata": {},
   "outputs": [
    {
     "data": {
      "text/plain": [
       "50"
      ]
     },
     "execution_count": 16,
     "metadata": {},
     "output_type": "execute_result"
    }
   ],
   "source": [
    "benimListem.pop() #sondaki elemanı listeden atar"
   ]
  },
  {
   "cell_type": "code",
   "execution_count": 18,
   "id": "5e931f5e",
   "metadata": {},
   "outputs": [
    {
     "data": {
      "text/plain": [
       "[100, 20, 30, 40]"
      ]
     },
     "execution_count": 18,
     "metadata": {},
     "output_type": "execute_result"
    }
   ],
   "source": [
    "benimListem"
   ]
  },
  {
   "cell_type": "code",
   "execution_count": 19,
   "id": "24b70fe4",
   "metadata": {},
   "outputs": [],
   "source": [
    "benimListem.remove(40) # listeden girilen elemanı çıkarır olmayan elemanı çıkaramaz..."
   ]
  },
  {
   "cell_type": "code",
   "execution_count": 20,
   "id": "683e3f7b",
   "metadata": {},
   "outputs": [
    {
     "data": {
      "text/plain": [
       "[100, 20, 30]"
      ]
     },
     "execution_count": 20,
     "metadata": {},
     "output_type": "execute_result"
    }
   ],
   "source": [
    "benimListem"
   ]
  },
  {
   "cell_type": "code",
   "execution_count": 22,
   "id": "825b64ee",
   "metadata": {},
   "outputs": [
    {
     "data": {
      "text/plain": [
       "1"
      ]
     },
     "execution_count": 22,
     "metadata": {},
     "output_type": "execute_result"
    }
   ],
   "source": [
    "benimListem.count(20)"
   ]
  },
  {
   "cell_type": "code",
   "execution_count": 23,
   "id": "7eef8a3e",
   "metadata": {},
   "outputs": [],
   "source": [
    "benimListem.append(20)"
   ]
  },
  {
   "cell_type": "code",
   "execution_count": 24,
   "id": "9fa338ab",
   "metadata": {},
   "outputs": [
    {
     "data": {
      "text/plain": [
       "2"
      ]
     },
     "execution_count": 24,
     "metadata": {},
     "output_type": "execute_result"
    }
   ],
   "source": [
    "benimListem.count(20) #girilen parametreden kaç adet vardır?"
   ]
  },
  {
   "cell_type": "code",
   "execution_count": 25,
   "id": "1c15d687",
   "metadata": {},
   "outputs": [],
   "source": [
    "StringListe_1 = [\"atıl\",\"ahmet\", \"emine\"] "
   ]
  },
  {
   "cell_type": "code",
   "execution_count": 26,
   "id": "5d98ce07",
   "metadata": {},
   "outputs": [],
   "source": [
    "StringListe_2 = [\"mehmet\", \"ayşegül\", \"poyraz\"]"
   ]
  },
  {
   "cell_type": "code",
   "execution_count": 28,
   "id": "e29c9ed1",
   "metadata": {},
   "outputs": [
    {
     "data": {
      "text/plain": [
       "'emine'"
      ]
     },
     "execution_count": 28,
     "metadata": {},
     "output_type": "execute_result"
    }
   ],
   "source": [
    "StringListe_1[2] #olmayan elemanı çağıramazsın"
   ]
  },
  {
   "cell_type": "code",
   "execution_count": 29,
   "id": "2b09b005",
   "metadata": {},
   "outputs": [],
   "source": [
    "benimToplamListem = StringListe_1 + StringListe_2"
   ]
  },
  {
   "cell_type": "code",
   "execution_count": 30,
   "id": "d396ffed",
   "metadata": {},
   "outputs": [
    {
     "data": {
      "text/plain": [
       "['atıl', 'ahmet', 'emine', 'mehmet', 'ayşegül', 'poyraz']"
      ]
     },
     "execution_count": 30,
     "metadata": {},
     "output_type": "execute_result"
    }
   ],
   "source": [
    "benimToplamListem"
   ]
  },
  {
   "cell_type": "code",
   "execution_count": 33,
   "id": "30c7d74c",
   "metadata": {},
   "outputs": [
    {
     "data": {
      "text/plain": [
       "['atıl',\n",
       " 'ahmet',\n",
       " 'emine',\n",
       " 'atıl',\n",
       " 'ahmet',\n",
       " 'emine',\n",
       " 'atıl',\n",
       " 'ahmet',\n",
       " 'emine',\n",
       " 'atıl',\n",
       " 'ahmet',\n",
       " 'emine',\n",
       " 'atıl',\n",
       " 'ahmet',\n",
       " 'emine']"
      ]
     },
     "execution_count": 33,
     "metadata": {},
     "output_type": "execute_result"
    }
   ],
   "source": [
    "StringListe_1 * 5"
   ]
  },
  {
   "cell_type": "code",
   "execution_count": 34,
   "id": "a95b1b01",
   "metadata": {},
   "outputs": [
    {
     "data": {
      "text/plain": [
       "['atıl', 'ahmet', 'emine', 'mehmet', 'ayşegül', 'poyraz']"
      ]
     },
     "execution_count": 34,
     "metadata": {},
     "output_type": "execute_result"
    }
   ],
   "source": [
    "benimToplamListem"
   ]
  },
  {
   "cell_type": "code",
   "execution_count": 35,
   "id": "de4aebdd",
   "metadata": {},
   "outputs": [],
   "source": [
    "benimToplamListem.reverse() # verileri ters döndürür."
   ]
  },
  {
   "cell_type": "code",
   "execution_count": 37,
   "id": "68b5a480",
   "metadata": {},
   "outputs": [
    {
     "data": {
      "text/plain": [
       "['poyraz', 'ayşegül', 'mehmet', 'emine', 'ahmet', 'atıl']"
      ]
     },
     "execution_count": 37,
     "metadata": {},
     "output_type": "execute_result"
    }
   ],
   "source": [
    "benimToplamListem"
   ]
  },
  {
   "cell_type": "code",
   "execution_count": 38,
   "id": "e291c82c",
   "metadata": {},
   "outputs": [],
   "source": [
    "karisikList = [1,2.3,5,6,\"Atıl\",34]"
   ]
  },
  {
   "cell_type": "code",
   "execution_count": 39,
   "id": "958b29a7",
   "metadata": {},
   "outputs": [
    {
     "data": {
      "text/plain": [
       "list"
      ]
     },
     "execution_count": 39,
     "metadata": {},
     "output_type": "execute_result"
    }
   ],
   "source": [
    "type(karisikList)"
   ]
  },
  {
   "cell_type": "code",
   "execution_count": 46,
   "id": "28d5eaee",
   "metadata": {},
   "outputs": [
    {
     "data": {
      "text/plain": [
       "2.3"
      ]
     },
     "execution_count": 46,
     "metadata": {},
     "output_type": "execute_result"
    }
   ],
   "source": [
    "sonucum = karisikList[1]\n",
    "karisikList[1]"
   ]
  },
  {
   "cell_type": "code",
   "execution_count": 47,
   "id": "bb0396e6",
   "metadata": {},
   "outputs": [
    {
     "data": {
      "text/plain": [
       "float"
      ]
     },
     "execution_count": 47,
     "metadata": {},
     "output_type": "execute_result"
    }
   ],
   "source": [
    "type(sonucum)"
   ]
  },
  {
   "cell_type": "code",
   "execution_count": 48,
   "id": "91da9f3a",
   "metadata": {},
   "outputs": [],
   "source": [
    "nestedList = [1,5,\"atıl\",4,[6,\"z\"]] #liste içinde liste oluşturma"
   ]
  },
  {
   "cell_type": "code",
   "execution_count": 50,
   "id": "be645718",
   "metadata": {},
   "outputs": [
    {
     "data": {
      "text/plain": [
       "[6, 'z']"
      ]
     },
     "execution_count": 50,
     "metadata": {},
     "output_type": "execute_result"
    }
   ],
   "source": [
    "nestedList[4]"
   ]
  },
  {
   "cell_type": "code",
   "execution_count": 52,
   "id": "ade841fa",
   "metadata": {},
   "outputs": [
    {
     "data": {
      "text/plain": [
       "'z'"
      ]
     },
     "execution_count": 52,
     "metadata": {},
     "output_type": "execute_result"
    }
   ],
   "source": [
    "nestedList[4][1] #liste içindeki listenin elemanlarından seçim gerçekleştirme"
   ]
  },
  {
   "cell_type": "code",
   "execution_count": 53,
   "id": "1bb6a646",
   "metadata": {},
   "outputs": [],
   "source": [
    "karmasikListe = [[1,2,3],[\"a\",\"b\",\"c\"],50,56,40,[\"z\",5.5],[3,[\"a\",\"b\"]]]"
   ]
  },
  {
   "cell_type": "code",
   "execution_count": 54,
   "id": "7ea4612c",
   "metadata": {},
   "outputs": [],
   "source": [
    "elemansecme = karmasikListe[1][1] #b degiskenini seç"
   ]
  },
  {
   "cell_type": "code",
   "execution_count": 55,
   "id": "923ab1ca",
   "metadata": {},
   "outputs": [
    {
     "data": {
      "text/plain": [
       "'b'"
      ]
     },
     "execution_count": 55,
     "metadata": {},
     "output_type": "execute_result"
    }
   ],
   "source": [
    "elemansecme"
   ]
  },
  {
   "cell_type": "code",
   "execution_count": 58,
   "id": "eeb5bbad",
   "metadata": {},
   "outputs": [
    {
     "data": {
      "text/plain": [
       "'a'"
      ]
     },
     "execution_count": 58,
     "metadata": {},
     "output_type": "execute_result"
    }
   ],
   "source": [
    "elemansecme2 = karmasikListe[6][1][0] #en sondaki \"b\" harfini seçelim\n",
    "elemansecme2"
   ]
  },
  {
   "cell_type": "code",
   "execution_count": 59,
   "id": "467e00ec",
   "metadata": {},
   "outputs": [
    {
     "data": {
      "text/plain": [
       "[1, 5, 'atıl', 4, [6, 'z']]"
      ]
     },
     "execution_count": 59,
     "metadata": {},
     "output_type": "execute_result"
    }
   ],
   "source": [
    "nestedList"
   ]
  },
  {
   "cell_type": "code",
   "execution_count": 60,
   "id": "4c6f7ab3",
   "metadata": {},
   "outputs": [
    {
     "data": {
      "text/plain": [
       "['atıl', 4, [6, 'z']]"
      ]
     },
     "execution_count": 60,
     "metadata": {},
     "output_type": "execute_result"
    }
   ],
   "source": [
    "nestedList[2:] #slicing işlemi"
   ]
  },
  {
   "cell_type": "code",
   "execution_count": 61,
   "id": "88f5cdb2",
   "metadata": {},
   "outputs": [
    {
     "data": {
      "text/plain": [
       "[1, 5]"
      ]
     },
     "execution_count": 61,
     "metadata": {},
     "output_type": "execute_result"
    }
   ],
   "source": [
    "nestedList[:2]"
   ]
  },
  {
   "cell_type": "code",
   "execution_count": 63,
   "id": "8ba224e9",
   "metadata": {},
   "outputs": [
    {
     "data": {
      "text/plain": [
       "list"
      ]
     },
     "execution_count": 63,
     "metadata": {},
     "output_type": "execute_result"
    }
   ],
   "source": [
    "type(nestedList[:2]) #liste döndürür"
   ]
  },
  {
   "cell_type": "markdown",
   "id": "85f8525a",
   "metadata": {},
   "source": [
    "### Koleksiyonlar - Collections"
   ]
  },
  {
   "cell_type": "code",
   "execution_count": 65,
   "id": "76124eb2",
   "metadata": {},
   "outputs": [],
   "source": [
    "# key - value pairing (anahtar-değer eşleşmesi)"
   ]
  },
  {
   "cell_type": "code",
   "execution_count": 66,
   "id": "a6d46a8e",
   "metadata": {},
   "outputs": [],
   "source": [
    "benimYemeklerim = [\"Elma\",\"Karpuz\",\"Muz\"]"
   ]
  },
  {
   "cell_type": "code",
   "execution_count": 71,
   "id": "045eab3c",
   "metadata": {},
   "outputs": [],
   "source": [
    "benimKalorilerim = [100,200,300]"
   ]
  },
  {
   "cell_type": "code",
   "execution_count": 72,
   "id": "32131796",
   "metadata": {},
   "outputs": [
    {
     "data": {
      "text/plain": [
       "'Karpuz'"
      ]
     },
     "execution_count": 72,
     "metadata": {},
     "output_type": "execute_result"
    }
   ],
   "source": [
    "benimYemeklerim[1]"
   ]
  },
  {
   "cell_type": "code",
   "execution_count": 75,
   "id": "5de9a34c",
   "metadata": {},
   "outputs": [
    {
     "data": {
      "text/plain": [
       "200"
      ]
     },
     "execution_count": 75,
     "metadata": {},
     "output_type": "execute_result"
    }
   ],
   "source": [
    "benimKalorilerim[1]"
   ]
  },
  {
   "cell_type": "code",
   "execution_count": 77,
   "id": "18c3a016",
   "metadata": {},
   "outputs": [],
   "source": [
    "#dictionary\n",
    "\n",
    "sozluk = {\"anahtar kelime\" : \"deger\"}"
   ]
  },
  {
   "cell_type": "code",
   "execution_count": 78,
   "id": "aae7892a",
   "metadata": {},
   "outputs": [
    {
     "data": {
      "text/plain": [
       "dict"
      ]
     },
     "execution_count": 78,
     "metadata": {},
     "output_type": "execute_result"
    }
   ],
   "source": [
    "type(sozluk)"
   ]
  },
  {
   "cell_type": "code",
   "execution_count": 80,
   "id": "70147777",
   "metadata": {},
   "outputs": [
    {
     "data": {
      "text/plain": [
       "'deger'"
      ]
     },
     "execution_count": 80,
     "metadata": {},
     "output_type": "execute_result"
    }
   ],
   "source": [
    "sozluk[\"anahtar kelime\"]"
   ]
  },
  {
   "cell_type": "code",
   "execution_count": 82,
   "id": "db49a00c",
   "metadata": {},
   "outputs": [],
   "source": [
    "yemek_kalori_sozluk = {\"elma\" : \"100\", \"karpuz\" : \"200\", \"muz\" : \"300\"}"
   ]
  },
  {
   "cell_type": "code",
   "execution_count": 84,
   "id": "663e89e9",
   "metadata": {},
   "outputs": [
    {
     "data": {
      "text/plain": [
       "'300'"
      ]
     },
     "execution_count": 84,
     "metadata": {},
     "output_type": "execute_result"
    }
   ],
   "source": [
    "yemek_kalori_sozluk[\"muz\"]"
   ]
  },
  {
   "cell_type": "code",
   "execution_count": 85,
   "id": "9d807fc6",
   "metadata": {},
   "outputs": [],
   "source": [
    "yemek_kalori_sozluk[\"elma\"] = 200 # değiştirilmesi"
   ]
  },
  {
   "cell_type": "code",
   "execution_count": 86,
   "id": "7e45e379",
   "metadata": {},
   "outputs": [
    {
     "data": {
      "text/plain": [
       "{'elma': 200, 'karpuz': '200', 'muz': '300'}"
      ]
     },
     "execution_count": 86,
     "metadata": {},
     "output_type": "execute_result"
    }
   ],
   "source": [
    "yemek_kalori_sozluk"
   ]
  },
  {
   "cell_type": "code",
   "execution_count": 87,
   "id": "0ac06b2a",
   "metadata": {},
   "outputs": [],
   "source": [
    "farkli_sozluk = {1:\"atıl\",2:\"yeşim\"}"
   ]
  },
  {
   "cell_type": "code",
   "execution_count": 88,
   "id": "f0856f01",
   "metadata": {},
   "outputs": [
    {
     "data": {
      "text/plain": [
       "'yeşim'"
      ]
     },
     "execution_count": 88,
     "metadata": {},
     "output_type": "execute_result"
    }
   ],
   "source": [
    "farkli_sozluk[2]"
   ]
  },
  {
   "cell_type": "code",
   "execution_count": 89,
   "id": "211e7681",
   "metadata": {},
   "outputs": [],
   "source": [
    "yeni_dict = {\"anahtar_1\": 100, \"anahtar2\" : [10,20,30,4.5,40,\"atıl\"], \"anahtar3\": {\"anahtar9\" : 4}} #sozlugun içinde liste ve dictionary eklenebilir."
   ]
  },
  {
   "cell_type": "code",
   "execution_count": 90,
   "id": "deec8407",
   "metadata": {},
   "outputs": [
    {
     "data": {
      "text/plain": [
       "dict_keys(['anahtar_1', 'anahtar2', 'anahtar3'])"
      ]
     },
     "execution_count": 90,
     "metadata": {},
     "output_type": "execute_result"
    }
   ],
   "source": [
    "yeni_dict.keys() # anahtar kelimeleri verir."
   ]
  },
  {
   "cell_type": "code",
   "execution_count": 91,
   "id": "ee48d32b",
   "metadata": {},
   "outputs": [
    {
     "data": {
      "text/plain": [
       "dict_values([100, [10, 20, 30, 4.5, 40, 'atıl'], {'anahtar9': 4}])"
      ]
     },
     "execution_count": 91,
     "metadata": {},
     "output_type": "execute_result"
    }
   ],
   "source": [
    "yeni_dict.values() #değerleri verir."
   ]
  },
  {
   "cell_type": "code",
   "execution_count": 95,
   "id": "03556404",
   "metadata": {},
   "outputs": [
    {
     "data": {
      "text/plain": [
       "'atıl'"
      ]
     },
     "execution_count": 95,
     "metadata": {},
     "output_type": "execute_result"
    }
   ],
   "source": [
    "yeni_dict[\"anahtar2\"][-1] #filtreleme"
   ]
  },
  {
   "cell_type": "code",
   "execution_count": 97,
   "id": "27af24d8",
   "metadata": {},
   "outputs": [
    {
     "data": {
      "text/plain": [
       "4"
      ]
     },
     "execution_count": 97,
     "metadata": {},
     "output_type": "execute_result"
    }
   ],
   "source": [
    "yeni_dict[\"anahtar3\"][\"anahtar9\"] #filtreleme"
   ]
  },
  {
   "cell_type": "markdown",
   "id": "0239f7ce",
   "metadata": {},
   "source": [
    "#### SETLER"
   ]
  },
  {
   "cell_type": "code",
   "execution_count": 105,
   "id": "c2f38b60",
   "metadata": {},
   "outputs": [],
   "source": [
    "listem = [1,2,3,1,2,3]"
   ]
  },
  {
   "cell_type": "code",
   "execution_count": 107,
   "id": "96e17502",
   "metadata": {},
   "outputs": [
    {
     "data": {
      "text/plain": [
       "[1, 2, 3, 1, 2, 3]"
      ]
     },
     "execution_count": 107,
     "metadata": {},
     "output_type": "execute_result"
    }
   ],
   "source": [
    "listem"
   ]
  },
  {
   "cell_type": "code",
   "execution_count": 108,
   "id": "c62a99ff",
   "metadata": {},
   "outputs": [],
   "source": [
    "liste_seti = set(listem)"
   ]
  },
  {
   "cell_type": "code",
   "execution_count": 109,
   "id": "15b1a509",
   "metadata": {},
   "outputs": [
    {
     "data": {
      "text/plain": [
       "set"
      ]
     },
     "execution_count": 109,
     "metadata": {},
     "output_type": "execute_result"
    }
   ],
   "source": [
    "type(liste_seti)"
   ]
  },
  {
   "cell_type": "code",
   "execution_count": 110,
   "id": "7d5fe21e",
   "metadata": {},
   "outputs": [
    {
     "data": {
      "text/plain": [
       "list"
      ]
     },
     "execution_count": 110,
     "metadata": {},
     "output_type": "execute_result"
    }
   ],
   "source": [
    "type(listem)"
   ]
  },
  {
   "cell_type": "code",
   "execution_count": 111,
   "id": "dd4f603a",
   "metadata": {},
   "outputs": [
    {
     "data": {
      "text/plain": [
       "{1, 2, 3}"
      ]
     },
     "execution_count": 111,
     "metadata": {},
     "output_type": "execute_result"
    }
   ],
   "source": [
    "liste_seti # tekrarlanan fazla veriler silinir"
   ]
  },
  {
   "cell_type": "code",
   "execution_count": 112,
   "id": "c618c221",
   "metadata": {},
   "outputs": [],
   "source": [
    "setim = {1,2,3,1,3,4} #direkt set olarak tanımlandı"
   ]
  },
  {
   "cell_type": "code",
   "execution_count": 113,
   "id": "49f2c655",
   "metadata": {},
   "outputs": [
    {
     "data": {
      "text/plain": [
       "{1, 2, 3, 4}"
      ]
     },
     "execution_count": 113,
     "metadata": {},
     "output_type": "execute_result"
    }
   ],
   "source": [
    "setim"
   ]
  },
  {
   "cell_type": "code",
   "execution_count": 114,
   "id": "82c305c4",
   "metadata": {},
   "outputs": [
    {
     "data": {
      "text/plain": [
       "set"
      ]
     },
     "execution_count": 114,
     "metadata": {},
     "output_type": "execute_result"
    }
   ],
   "source": [
    "type(setim)"
   ]
  },
  {
   "cell_type": "code",
   "execution_count": 115,
   "id": "eede00d7",
   "metadata": {},
   "outputs": [],
   "source": [
    "bosListe = []"
   ]
  },
  {
   "cell_type": "code",
   "execution_count": 116,
   "id": "3b98d4a3",
   "metadata": {},
   "outputs": [
    {
     "data": {
      "text/plain": [
       "[]"
      ]
     },
     "execution_count": 116,
     "metadata": {},
     "output_type": "execute_result"
    }
   ],
   "source": [
    "bosListe"
   ]
  },
  {
   "cell_type": "code",
   "execution_count": 117,
   "id": "bc5ea579",
   "metadata": {},
   "outputs": [
    {
     "data": {
      "text/plain": [
       "list"
      ]
     },
     "execution_count": 117,
     "metadata": {},
     "output_type": "execute_result"
    }
   ],
   "source": [
    "type(bosListe)"
   ]
  },
  {
   "cell_type": "code",
   "execution_count": 119,
   "id": "6d450748",
   "metadata": {},
   "outputs": [],
   "source": [
    "bosListe.append(1)"
   ]
  },
  {
   "cell_type": "code",
   "execution_count": 120,
   "id": "be91dce8",
   "metadata": {},
   "outputs": [
    {
     "data": {
      "text/plain": [
       "[1]"
      ]
     },
     "execution_count": 120,
     "metadata": {},
     "output_type": "execute_result"
    }
   ],
   "source": [
    "bosListe"
   ]
  },
  {
   "cell_type": "code",
   "execution_count": 121,
   "id": "06f1c2c4",
   "metadata": {},
   "outputs": [],
   "source": [
    "bosSet = {}"
   ]
  },
  {
   "cell_type": "code",
   "execution_count": 122,
   "id": "a8710f5f",
   "metadata": {},
   "outputs": [
    {
     "data": {
      "text/plain": [
       "dict"
      ]
     },
     "execution_count": 122,
     "metadata": {},
     "output_type": "execute_result"
    }
   ],
   "source": [
    "type(bosSet)"
   ]
  },
  {
   "cell_type": "code",
   "execution_count": 123,
   "id": "65d2e3dd",
   "metadata": {},
   "outputs": [
    {
     "data": {
      "text/plain": [
       "{}"
      ]
     },
     "execution_count": 123,
     "metadata": {},
     "output_type": "execute_result"
    }
   ],
   "source": [
    "bosSet"
   ]
  },
  {
   "cell_type": "code",
   "execution_count": 125,
   "id": "c167469d",
   "metadata": {},
   "outputs": [],
   "source": [
    "bosSet[\"anahtarKelime\"] = 10"
   ]
  },
  {
   "cell_type": "code",
   "execution_count": 126,
   "id": "75ab38d6",
   "metadata": {},
   "outputs": [
    {
     "data": {
      "text/plain": [
       "{'anahtarKelime': 10}"
      ]
     },
     "execution_count": 126,
     "metadata": {},
     "output_type": "execute_result"
    }
   ],
   "source": [
    "bosSet"
   ]
  },
  {
   "cell_type": "code",
   "execution_count": 127,
   "id": "54029963",
   "metadata": {},
   "outputs": [],
   "source": [
    "bosSet = set()"
   ]
  },
  {
   "cell_type": "code",
   "execution_count": 128,
   "id": "5c96a38f",
   "metadata": {},
   "outputs": [
    {
     "data": {
      "text/plain": [
       "set"
      ]
     },
     "execution_count": 128,
     "metadata": {},
     "output_type": "execute_result"
    }
   ],
   "source": [
    "type(bosSet)"
   ]
  },
  {
   "cell_type": "code",
   "execution_count": 129,
   "id": "a44d936d",
   "metadata": {},
   "outputs": [
    {
     "data": {
      "text/plain": [
       "set()"
      ]
     },
     "execution_count": 129,
     "metadata": {},
     "output_type": "execute_result"
    }
   ],
   "source": [
    "bosSet"
   ]
  },
  {
   "cell_type": "code",
   "execution_count": 130,
   "id": "c818a3ce",
   "metadata": {},
   "outputs": [],
   "source": [
    "bosSet.add(10)"
   ]
  },
  {
   "cell_type": "code",
   "execution_count": 131,
   "id": "be19511f",
   "metadata": {},
   "outputs": [],
   "source": [
    "bosSet.add(10)"
   ]
  },
  {
   "cell_type": "code",
   "execution_count": 132,
   "id": "d46f6134",
   "metadata": {},
   "outputs": [],
   "source": [
    "bosSet.add(20)"
   ]
  },
  {
   "cell_type": "code",
   "execution_count": 133,
   "id": "cccf6bad",
   "metadata": {},
   "outputs": [
    {
     "data": {
      "text/plain": [
       "{10, 20}"
      ]
     },
     "execution_count": 133,
     "metadata": {},
     "output_type": "execute_result"
    }
   ],
   "source": [
    "bosSet"
   ]
  },
  {
   "cell_type": "markdown",
   "id": "17d9dee8",
   "metadata": {},
   "source": [
    "### Tuple"
   ]
  },
  {
   "cell_type": "code",
   "execution_count": 134,
   "id": "2c198555",
   "metadata": {},
   "outputs": [],
   "source": [
    "benimListem = [1,2,\"a\",4.5]"
   ]
  },
  {
   "cell_type": "code",
   "execution_count": 135,
   "id": "f509cb08",
   "metadata": {},
   "outputs": [
    {
     "data": {
      "text/plain": [
       "1"
      ]
     },
     "execution_count": 135,
     "metadata": {},
     "output_type": "execute_result"
    }
   ],
   "source": [
    "benimListem[0]"
   ]
  },
  {
   "cell_type": "code",
   "execution_count": 136,
   "id": "5a3a8e67",
   "metadata": {},
   "outputs": [],
   "source": [
    "benimListem[0] = 100"
   ]
  },
  {
   "cell_type": "code",
   "execution_count": 137,
   "id": "10f5ff79",
   "metadata": {},
   "outputs": [
    {
     "data": {
      "text/plain": [
       "[100, 2, 'a', 4.5]"
      ]
     },
     "execution_count": 137,
     "metadata": {},
     "output_type": "execute_result"
    }
   ],
   "source": [
    "benimListem"
   ]
  },
  {
   "cell_type": "code",
   "execution_count": 138,
   "id": "4ee9b142",
   "metadata": {},
   "outputs": [],
   "source": [
    "benimTuple = (1,2,\"a\",4.5)"
   ]
  },
  {
   "cell_type": "code",
   "execution_count": 139,
   "id": "428b37a8",
   "metadata": {},
   "outputs": [
    {
     "data": {
      "text/plain": [
       "(1, 2, 'a', 4.5)"
      ]
     },
     "execution_count": 139,
     "metadata": {},
     "output_type": "execute_result"
    }
   ],
   "source": [
    "benimTuple"
   ]
  },
  {
   "cell_type": "code",
   "execution_count": 140,
   "id": "437e2375",
   "metadata": {},
   "outputs": [
    {
     "data": {
      "text/plain": [
       "'a'"
      ]
     },
     "execution_count": 140,
     "metadata": {},
     "output_type": "execute_result"
    }
   ],
   "source": [
    "benimTuple[2]"
   ]
  },
  {
   "cell_type": "code",
   "execution_count": 142,
   "id": "8c1d7a2b",
   "metadata": {},
   "outputs": [],
   "source": [
    " # benimTuple[2] = \"b\" # tuple içerisinde değişiklik yapılamaz!!"
   ]
  },
  {
   "cell_type": "code",
   "execution_count": 143,
   "id": "5cc8fa9d",
   "metadata": {},
   "outputs": [
    {
     "data": {
      "text/plain": [
       "tuple"
      ]
     },
     "execution_count": 143,
     "metadata": {},
     "output_type": "execute_result"
    }
   ],
   "source": [
    "type(benimTuple)"
   ]
  },
  {
   "cell_type": "code",
   "execution_count": 144,
   "id": "0079ce0f",
   "metadata": {},
   "outputs": [
    {
     "data": {
      "text/plain": [
       "1"
      ]
     },
     "execution_count": 144,
     "metadata": {},
     "output_type": "execute_result"
    }
   ],
   "source": [
    "benimTuple.count(\"a\")"
   ]
  },
  {
   "cell_type": "code",
   "execution_count": 145,
   "id": "57cf39e2",
   "metadata": {},
   "outputs": [
    {
     "data": {
      "text/plain": [
       "3"
      ]
     },
     "execution_count": 145,
     "metadata": {},
     "output_type": "execute_result"
    }
   ],
   "source": [
    "benimTuple.index(4.5)"
   ]
  },
  {
   "cell_type": "markdown",
   "id": "90b58c35",
   "metadata": {},
   "source": [
    "## boolean veri tipi"
   ]
  },
  {
   "cell_type": "code",
   "execution_count": 146,
   "id": "813a9255",
   "metadata": {},
   "outputs": [],
   "source": [
    "boolean_1 = True"
   ]
  },
  {
   "cell_type": "code",
   "execution_count": 147,
   "id": "e8bb8689",
   "metadata": {},
   "outputs": [
    {
     "data": {
      "text/plain": [
       "True"
      ]
     },
     "execution_count": 147,
     "metadata": {},
     "output_type": "execute_result"
    }
   ],
   "source": [
    "boolean_1"
   ]
  },
  {
   "cell_type": "code",
   "execution_count": 148,
   "id": "33f22643",
   "metadata": {},
   "outputs": [
    {
     "data": {
      "text/plain": [
       "bool"
      ]
     },
     "execution_count": 148,
     "metadata": {},
     "output_type": "execute_result"
    }
   ],
   "source": [
    "type(boolean_1)"
   ]
  },
  {
   "cell_type": "code",
   "execution_count": 149,
   "id": "3705541c",
   "metadata": {},
   "outputs": [],
   "source": [
    "boolean_1 = False"
   ]
  },
  {
   "cell_type": "code",
   "execution_count": 150,
   "id": "b88ee943",
   "metadata": {},
   "outputs": [
    {
     "data": {
      "text/plain": [
       "False"
      ]
     },
     "execution_count": 150,
     "metadata": {},
     "output_type": "execute_result"
    }
   ],
   "source": [
    "boolean_1"
   ]
  },
  {
   "cell_type": "code",
   "execution_count": 151,
   "id": "78a14baf",
   "metadata": {},
   "outputs": [
    {
     "data": {
      "text/plain": [
       "True"
      ]
     },
     "execution_count": 151,
     "metadata": {},
     "output_type": "execute_result"
    }
   ],
   "source": [
    "10 > 5"
   ]
  },
  {
   "cell_type": "code",
   "execution_count": 152,
   "id": "20e64061",
   "metadata": {},
   "outputs": [
    {
     "data": {
      "text/plain": [
       "False"
      ]
     },
     "execution_count": 152,
     "metadata": {},
     "output_type": "execute_result"
    }
   ],
   "source": [
    "10 < 5"
   ]
  },
  {
   "cell_type": "code",
   "execution_count": 154,
   "id": "af8e2c2d",
   "metadata": {},
   "outputs": [],
   "source": [
    "listemiz = [5000,4000,2000,12000,3400,5600,7400]"
   ]
  },
  {
   "cell_type": "code",
   "execution_count": 157,
   "id": "3852b380",
   "metadata": {},
   "outputs": [
    {
     "data": {
      "text/plain": [
       "7"
      ]
     },
     "execution_count": 157,
     "metadata": {},
     "output_type": "execute_result"
    }
   ],
   "source": [
    "len(listemiz)"
   ]
  },
  {
   "cell_type": "code",
   "execution_count": 158,
   "id": "7de555b8",
   "metadata": {},
   "outputs": [
    {
     "data": {
      "text/plain": [
       "<function sum(iterable, /, start=0)>"
      ]
     },
     "execution_count": 158,
     "metadata": {},
     "output_type": "execute_result"
    }
   ],
   "source": [
    "sum\n"
   ]
  },
  {
   "cell_type": "code",
   "execution_count": 159,
   "id": "d0f9c98f",
   "metadata": {},
   "outputs": [
    {
     "data": {
      "text/plain": [
       "39400"
      ]
     },
     "execution_count": 159,
     "metadata": {},
     "output_type": "execute_result"
    }
   ],
   "source": [
    "sum(listemiz)"
   ]
  },
  {
   "cell_type": "code",
   "execution_count": 160,
   "id": "1ecc50cc",
   "metadata": {},
   "outputs": [
    {
     "name": "stdout",
     "output_type": "stream",
     "text": [
      "Maaş ortalaması:  5628.571428571428\n"
     ]
    }
   ],
   "source": [
    "ort = sum(listemiz) / len(listemiz)\n",
    "print(\"Maaş ortalaması: \",ort)"
   ]
  },
  {
   "cell_type": "code",
   "execution_count": 162,
   "id": "65d9023b",
   "metadata": {},
   "outputs": [
    {
     "data": {
      "text/plain": [
       "True"
      ]
     },
     "execution_count": 162,
     "metadata": {},
     "output_type": "execute_result"
    }
   ],
   "source": [
    "listemiz[3] > ort"
   ]
  },
  {
   "cell_type": "code",
   "execution_count": null,
   "id": "bf78accf",
   "metadata": {},
   "outputs": [],
   "source": []
  }
 ],
 "metadata": {
  "kernelspec": {
   "display_name": "Python 3 (ipykernel)",
   "language": "python",
   "name": "python3"
  },
  "language_info": {
   "codemirror_mode": {
    "name": "ipython",
    "version": 3
   },
   "file_extension": ".py",
   "mimetype": "text/x-python",
   "name": "python",
   "nbconvert_exporter": "python",
   "pygments_lexer": "ipython3",
   "version": "3.11.5"
  }
 },
 "nbformat": 4,
 "nbformat_minor": 5
}
