{
 "cells": [
  {
   "cell_type": "markdown",
   "id": "f507091c",
   "metadata": {},
   "source": [
    "### Fonksiyonlar"
   ]
  },
  {
   "cell_type": "code",
   "execution_count": 1,
   "id": "493f8724",
   "metadata": {},
   "outputs": [],
   "source": [
    "benimStringim = \"Ahmet Kılınç\""
   ]
  },
  {
   "cell_type": "code",
   "execution_count": 2,
   "id": "e801b84b",
   "metadata": {},
   "outputs": [
    {
     "data": {
      "text/plain": [
       "'AHMET KILINÇ'"
      ]
     },
     "execution_count": 2,
     "metadata": {},
     "output_type": "execute_result"
    }
   ],
   "source": [
    "benimStringim.upper() #mevcut stringin her karakterini büyük karaktere çevirir..."
   ]
  },
  {
   "cell_type": "code",
   "execution_count": 4,
   "id": "679f9d5e",
   "metadata": {},
   "outputs": [
    {
     "data": {
      "text/plain": [
       "'Ahmet Kılınç'"
      ]
     },
     "execution_count": 4,
     "metadata": {},
     "output_type": "execute_result"
    }
   ],
   "source": [
    "benimStringim # herhangi bir değişkene atılmadığı için değerde değişiklik olmaz..."
   ]
  },
  {
   "cell_type": "code",
   "execution_count": 5,
   "id": "194599a8",
   "metadata": {},
   "outputs": [],
   "source": [
    "benim_buyuk_str = benimStringim.upper() # büyük harflere dönüştürerek bir değişkene atıldı"
   ]
  },
  {
   "cell_type": "code",
   "execution_count": 6,
   "id": "1d3f8833",
   "metadata": {},
   "outputs": [
    {
     "data": {
      "text/plain": [
       "'AHMET KILINÇ'"
      ]
     },
     "execution_count": 6,
     "metadata": {},
     "output_type": "execute_result"
    }
   ],
   "source": [
    "benim_buyuk_str # artık burası büyük harfle yazan bir string olacaktır."
   ]
  },
  {
   "cell_type": "code",
   "execution_count": 7,
   "id": "c5c02d6f",
   "metadata": {},
   "outputs": [
    {
     "data": {
      "text/plain": [
       "'Ahmet Kılınç'"
      ]
     },
     "execution_count": 7,
     "metadata": {},
     "output_type": "execute_result"
    }
   ],
   "source": [
    "benimStringim # küçük harflerle yazılmaya devam edilecektir."
   ]
  },
  {
   "cell_type": "markdown",
   "id": "d0538d19",
   "metadata": {},
   "source": [
    "### Fonksiyon oluşturma"
   ]
  },
  {
   "cell_type": "code",
   "execution_count": 8,
   "id": "8326d184",
   "metadata": {},
   "outputs": [],
   "source": [
    "def helloWorld():\n",
    "    print(\"Hello World\")"
   ]
  },
  {
   "cell_type": "code",
   "execution_count": 9,
   "id": "e27b6ef4",
   "metadata": {},
   "outputs": [
    {
     "data": {
      "text/plain": [
       "function"
      ]
     },
     "execution_count": 9,
     "metadata": {},
     "output_type": "execute_result"
    }
   ],
   "source": [
    "type(helloWorld)"
   ]
  },
  {
   "cell_type": "code",
   "execution_count": 10,
   "id": "373ff083",
   "metadata": {},
   "outputs": [
    {
     "name": "stdout",
     "output_type": "stream",
     "text": [
      "Hello World\n"
     ]
    }
   ],
   "source": [
    "helloWorld()"
   ]
  },
  {
   "cell_type": "markdown",
   "id": "2e8a13b3",
   "metadata": {},
   "source": [
    "### input & return"
   ]
  },
  {
   "cell_type": "code",
   "execution_count": 11,
   "id": "a1c9b027",
   "metadata": {},
   "outputs": [],
   "source": [
    "def merhabaDunya(alinacakIsim):\n",
    "    print(\"Merhaba\")\n",
    "    print(alinacakIsim)"
   ]
  },
  {
   "cell_type": "code",
   "execution_count": 12,
   "id": "7dcd83c0",
   "metadata": {},
   "outputs": [],
   "source": [
    "# merhabaDunya() # bu şekilde parametresiz çalışırsa hata alınır"
   ]
  },
  {
   "cell_type": "code",
   "execution_count": 13,
   "id": "12865511",
   "metadata": {},
   "outputs": [
    {
     "name": "stdout",
     "output_type": "stream",
     "text": [
      "Merhaba\n",
      "Ahmet\n"
     ]
    }
   ],
   "source": [
    "merhabaDunya(\"Ahmet\") # Ahmet stringini fonksiyona parametre olarak gönderdim..."
   ]
  },
  {
   "cell_type": "code",
   "execution_count": 14,
   "id": "4490997c",
   "metadata": {},
   "outputs": [
    {
     "name": "stdout",
     "output_type": "stream",
     "text": [
      "Merhaba\n",
      "pyhton\n"
     ]
    }
   ],
   "source": [
    "merhabaDunya(\"pyhton\") # pyhton stringini fonksiyona parametre olarak gönderdim..."
   ]
  },
  {
   "cell_type": "code",
   "execution_count": 15,
   "id": "a0f5203b",
   "metadata": {},
   "outputs": [],
   "source": [
    "def merhaba(isim = \"Ahmet\"): # eğer ki isim parametresi girilirse isim parametresiyle dönüş sağlar...\n",
    "    print(\"merhaba\") # isim parametresi girilmediğinde default değeri döndürecektir...\n",
    "    print(isim)"
   ]
  },
  {
   "cell_type": "code",
   "execution_count": 16,
   "id": "58a95ed7",
   "metadata": {},
   "outputs": [
    {
     "name": "stdout",
     "output_type": "stream",
     "text": [
      "merhaba\n",
      "Ahmet\n"
     ]
    }
   ],
   "source": [
    "merhaba() # parametre girilmediği için default değeri alıp onu yazdırdı..."
   ]
  },
  {
   "cell_type": "code",
   "execution_count": 17,
   "id": "956d0a4e",
   "metadata": {},
   "outputs": [
    {
     "name": "stdout",
     "output_type": "stream",
     "text": [
      "merhaba\n",
      "atıl\n"
     ]
    }
   ],
   "source": [
    "merhaba(\"atıl\") # parametre girildiği için parametreli değeri yazdırdı..."
   ]
  },
  {
   "cell_type": "code",
   "execution_count": 18,
   "id": "04763ac8",
   "metadata": {},
   "outputs": [],
   "source": [
    "def toplama(numara1, numara2):\n",
    "    sonuc = numara1 + numara2\n",
    "    print(sonuc)"
   ]
  },
  {
   "cell_type": "code",
   "execution_count": 19,
   "id": "8619bd5b",
   "metadata": {},
   "outputs": [],
   "source": [
    "# toplama() # parametresiz çalışmaz ama bu sefer iki parametre birden gönderilmelidir..."
   ]
  },
  {
   "cell_type": "code",
   "execution_count": 20,
   "id": "6a519486",
   "metadata": {},
   "outputs": [
    {
     "name": "stdout",
     "output_type": "stream",
     "text": [
      "700\n"
     ]
    }
   ],
   "source": [
    "toplama(200,500)"
   ]
  },
  {
   "cell_type": "code",
   "execution_count": 21,
   "id": "b7e9aacd",
   "metadata": {},
   "outputs": [
    {
     "name": "stdout",
     "output_type": "stream",
     "text": [
      "200\n"
     ]
    }
   ],
   "source": [
    "toplama(-350,550) # eksili değerlerde de doğru sonucu verecektir...."
   ]
  },
  {
   "cell_type": "code",
   "execution_count": 22,
   "id": "cffd2afb",
   "metadata": {},
   "outputs": [],
   "source": [
    "def superToplama(num1, num2, num3):\n",
    "    print(num1 + num2 + num3)"
   ]
  },
  {
   "cell_type": "code",
   "execution_count": 23,
   "id": "b967d0bd",
   "metadata": {},
   "outputs": [
    {
     "name": "stdout",
     "output_type": "stream",
     "text": [
      "60\n"
     ]
    }
   ],
   "source": [
    "superToplama(10,20,30)"
   ]
  },
  {
   "cell_type": "code",
   "execution_count": 24,
   "id": "f96af705",
   "metadata": {},
   "outputs": [
    {
     "name": "stdout",
     "output_type": "stream",
     "text": [
      "50\n"
     ]
    }
   ],
   "source": [
    "yeniDegisken = toplama(20,30)"
   ]
  },
  {
   "cell_type": "code",
   "execution_count": 25,
   "id": "1788b67c",
   "metadata": {},
   "outputs": [
    {
     "data": {
      "text/plain": [
       "NoneType"
      ]
     },
     "execution_count": 25,
     "metadata": {},
     "output_type": "execute_result"
    }
   ],
   "source": [
    "type(yeniDegisken) # içerisinde hiçbir şey yok çünkü return yapılmadı..."
   ]
  },
  {
   "cell_type": "code",
   "execution_count": 26,
   "id": "4d59d0b6",
   "metadata": {},
   "outputs": [],
   "source": [
    "def dondurmeliToplama(num1, num2): # return genel anlamda bizim değerlerimizi belirli bir türde döndürmemize olanak sağlar.\n",
    "    return num1 + num2"
   ]
  },
  {
   "cell_type": "code",
   "execution_count": 27,
   "id": "746c3336",
   "metadata": {},
   "outputs": [
    {
     "data": {
      "text/plain": [
       "21"
      ]
     },
     "execution_count": 27,
     "metadata": {},
     "output_type": "execute_result"
    }
   ],
   "source": [
    "dondurmeliToplama(19,2)"
   ]
  },
  {
   "cell_type": "code",
   "execution_count": 28,
   "id": "47ddaacb",
   "metadata": {},
   "outputs": [],
   "source": [
    "yeniSonuc = dondurmeliToplama(8,7) # artık bir değişkene atılabilir."
   ]
  },
  {
   "cell_type": "code",
   "execution_count": 29,
   "id": "fe6091a1",
   "metadata": {},
   "outputs": [
    {
     "data": {
      "text/plain": [
       "15"
      ]
     },
     "execution_count": 29,
     "metadata": {},
     "output_type": "execute_result"
    }
   ],
   "source": [
    "yeniSonuc # değişkene atıldı ve sonuç gösterildi..."
   ]
  },
  {
   "cell_type": "code",
   "execution_count": 30,
   "id": "c5f9e8ec",
   "metadata": {},
   "outputs": [
    {
     "data": {
      "text/plain": [
       "int"
      ]
     },
     "execution_count": 30,
     "metadata": {},
     "output_type": "execute_result"
    }
   ],
   "source": [
    "type(yeniSonuc) # türü integer'a dönüştü..."
   ]
  },
  {
   "cell_type": "code",
   "execution_count": 4,
   "id": "99509562",
   "metadata": {},
   "outputs": [],
   "source": [
    "def kontrolFonksiyon(s): # fonksiyonlar içerisinde if kontrolü yapılabilir....ğ\n",
    "    if s == \"atıl\":\n",
    "        print(\"girdiğiniz değer atıl\")\n",
    "    else:\n",
    "        print(\"girdiğiniz değer farklı\")"
   ]
  },
  {
   "cell_type": "code",
   "execution_count": 5,
   "id": "7453e99c",
   "metadata": {},
   "outputs": [
    {
     "name": "stdout",
     "output_type": "stream",
     "text": [
      "girdiğiniz değer atıl\n"
     ]
    }
   ],
   "source": [
    "kontrolFonksiyon(\"atıl\")"
   ]
  },
  {
   "cell_type": "code",
   "execution_count": 6,
   "id": "b5916db5",
   "metadata": {},
   "outputs": [
    {
     "name": "stdout",
     "output_type": "stream",
     "text": [
      "girdiğiniz değer farklı\n"
     ]
    }
   ],
   "source": [
    "kontrolFonksiyon(\"pyhton\")"
   ]
  },
  {
   "cell_type": "markdown",
   "id": "6502c58b-5ece-449d-bb0a-c23d15bb8265",
   "metadata": {},
   "source": [
    "### args && kwargs"
   ]
  },
  {
   "cell_type": "code",
   "execution_count": 1,
   "id": "eebdb8b7-0835-4bcd-922c-c45d7872e654",
   "metadata": {},
   "outputs": [],
   "source": [
    "def yeniToplama(*args):\n",
    "    return sum(args)"
   ]
  },
  {
   "cell_type": "code",
   "execution_count": 2,
   "id": "69e4b640-1f19-4cda-80d5-f6adbbbdb944",
   "metadata": {},
   "outputs": [
    {
     "data": {
      "text/plain": [
       "210"
      ]
     },
     "execution_count": 2,
     "metadata": {},
     "output_type": "execute_result"
    }
   ],
   "source": [
    "yeniToplama(10,20,30,40,50,60) # sayısız değer girebilirim"
   ]
  },
  {
   "cell_type": "code",
   "execution_count": 7,
   "id": "75a294c9-05f7-4f75-8b79-01f81d6ccb22",
   "metadata": {},
   "outputs": [
    {
     "data": {
      "text/plain": [
       "30"
      ]
     },
     "execution_count": 7,
     "metadata": {},
     "output_type": "execute_result"
    }
   ],
   "source": [
    "yeniToplama(10,20)"
   ]
  },
  {
   "cell_type": "code",
   "execution_count": 8,
   "id": "cdc72415-924a-4155-84de-dd00df633497",
   "metadata": {},
   "outputs": [],
   "source": [
    "def benimFonksiyonum(*args):\n",
    "    print(args)"
   ]
  },
  {
   "cell_type": "code",
   "execution_count": 9,
   "id": "b8d42401-2850-4945-bc3c-c8113ea96da7",
   "metadata": {},
   "outputs": [
    {
     "name": "stdout",
     "output_type": "stream",
     "text": [
      "(10, 20, 30, 40)\n"
     ]
    }
   ],
   "source": [
    "benimFonksiyonum(10,20,30,40)"
   ]
  },
  {
   "cell_type": "code",
   "execution_count": 11,
   "id": "dc1d09fc-6404-4953-a11c-eb407afe446c",
   "metadata": {},
   "outputs": [
    {
     "name": "stdout",
     "output_type": "stream",
     "text": [
      "(10, 20, 30, 40)\n"
     ]
    },
    {
     "data": {
      "text/plain": [
       "NoneType"
      ]
     },
     "execution_count": 11,
     "metadata": {},
     "output_type": "execute_result"
    }
   ],
   "source": [
    "type(benimFonksiyonum(10,20,30,40)) # hangi türde "
   ]
  },
  {
   "cell_type": "code",
   "execution_count": 15,
   "id": "6906881a-21a3-48d3-a52c-55410bf046f2",
   "metadata": {},
   "outputs": [],
   "source": [
    "def benimFonksiyonumTuple(*args):\n",
    "    return args # tuple türünde olması için return kullanılması gerekir kullanılmazsa noneType türündedir..."
   ]
  },
  {
   "cell_type": "code",
   "execution_count": 16,
   "id": "8b05d040-6be2-4668-aae5-ae8fc3f42cdb",
   "metadata": {},
   "outputs": [
    {
     "data": {
      "text/plain": [
       "(10, 20, 30, 40)"
      ]
     },
     "execution_count": 16,
     "metadata": {},
     "output_type": "execute_result"
    }
   ],
   "source": [
    "benimFonksiyonumTuple(10,20,30,40)"
   ]
  },
  {
   "cell_type": "code",
   "execution_count": 17,
   "id": "706f6245-2e3f-4caa-8621-28ebcfb50bfb",
   "metadata": {},
   "outputs": [
    {
     "data": {
      "text/plain": [
       "tuple"
      ]
     },
     "execution_count": 17,
     "metadata": {},
     "output_type": "execute_result"
    }
   ],
   "source": [
    "type(benimFonksiyonumTuple(10,20,30,40)) # tuple türünde döndürür..."
   ]
  },
  {
   "cell_type": "code",
   "execution_count": 23,
   "id": "84981a4f-3023-4db2-b4b2-a0776f71bfd4",
   "metadata": {},
   "outputs": [],
   "source": [
    "def ornekFonksiyon(**kwargs): # iki yıldız koyduktan sonra kwargs yerine farklı bişey yazabilirsin şart değil\n",
    "    print(kwargs) # return edilmediği için noneType türünde döndürür"
   ]
  },
  {
   "cell_type": "code",
   "execution_count": 24,
   "id": "1ea71bcc-62c3-4d10-a76c-7fb02c87d5fb",
   "metadata": {},
   "outputs": [
    {
     "name": "stdout",
     "output_type": "stream",
     "text": [
      "{'muz': 100, 'elma': 200, 'armut': 300}\n"
     ]
    }
   ],
   "source": [
    "ornekFonksiyon(muz = 100, elma = 200, armut = 300)"
   ]
  },
  {
   "cell_type": "code",
   "execution_count": 25,
   "id": "a725b6c6-9d93-4815-a228-53d579330f23",
   "metadata": {},
   "outputs": [
    {
     "name": "stdout",
     "output_type": "stream",
     "text": [
      "{'muz': 100, 'elma': 200, 'armut': 300}\n"
     ]
    },
    {
     "data": {
      "text/plain": [
       "NoneType"
      ]
     },
     "execution_count": 25,
     "metadata": {},
     "output_type": "execute_result"
    }
   ],
   "source": [
    "type(ornekFonksiyon(muz = 100, elma = 200, armut = 300)) # noneType"
   ]
  },
  {
   "cell_type": "code",
   "execution_count": 26,
   "id": "ca825a72-86a6-4dd2-bd67-610f60990c72",
   "metadata": {},
   "outputs": [],
   "source": [
    "def ornekFonksiyon2(**kwargs):\n",
    "    return kwargs # dict olarak döndürür..."
   ]
  },
  {
   "cell_type": "code",
   "execution_count": 27,
   "id": "44c8ac52-72b8-4f93-8743-3bd2d738fb48",
   "metadata": {},
   "outputs": [
    {
     "data": {
      "text/plain": [
       "{'muz': 1, 'elma': 2, 'armut': 3}"
      ]
     },
     "execution_count": 27,
     "metadata": {},
     "output_type": "execute_result"
    }
   ],
   "source": [
    "ornekFonksiyon2(muz = 1, elma = 2, armut = 3)"
   ]
  },
  {
   "cell_type": "code",
   "execution_count": 29,
   "id": "0c5d5157-d541-4634-aa42-13ebe0b9766c",
   "metadata": {},
   "outputs": [
    {
     "data": {
      "text/plain": [
       "dict"
      ]
     },
     "execution_count": 29,
     "metadata": {},
     "output_type": "execute_result"
    }
   ],
   "source": [
    "type(ornekFonksiyon2(muz = 1, elma = 2, armut = 3)) # dictionary "
   ]
  },
  {
   "cell_type": "code",
   "execution_count": 30,
   "id": "1008437f-eca8-4481-919f-c070aad8ce4b",
   "metadata": {},
   "outputs": [],
   "source": [
    "def keywordKontrolu(**kwargs):\n",
    "    if \"Ahmet\" in kwargs:\n",
    "        print(\"Ahmet var\")\n",
    "    else:\n",
    "        print(\"Ahmet yok!\")"
   ]
  },
  {
   "cell_type": "code",
   "execution_count": 32,
   "id": "6af37893-922a-4e1d-b20c-6c3664cf207d",
   "metadata": {},
   "outputs": [
    {
     "name": "stdout",
     "output_type": "stream",
     "text": [
      "Ahmet var\n"
     ]
    }
   ],
   "source": [
    "keywordKontrolu(ayse = 100, Ahmet = 200, sumeyra = 300)"
   ]
  },
  {
   "cell_type": "code",
   "execution_count": 34,
   "id": "5db2c138-b99f-47ad-981b-34f7585b6735",
   "metadata": {},
   "outputs": [
    {
     "name": "stdout",
     "output_type": "stream",
     "text": [
      "Ahmet yok!\n"
     ]
    }
   ],
   "source": [
    "keywordKontrolu(ayse = 100, sumeyye = 190, sumeyra = 300)"
   ]
  }
 ],
 "metadata": {
  "kernelspec": {
   "display_name": "Python 3 (ipykernel)",
   "language": "python",
   "name": "python3"
  },
  "language_info": {
   "codemirror_mode": {
    "name": "ipython",
    "version": 3
   },
   "file_extension": ".py",
   "mimetype": "text/x-python",
   "name": "python",
   "nbconvert_exporter": "python",
   "pygments_lexer": "ipython3",
   "version": "3.11.5"
  }
 },
 "nbformat": 4,
 "nbformat_minor": 5
}
