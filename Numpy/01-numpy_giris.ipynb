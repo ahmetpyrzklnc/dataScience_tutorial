{
 "cells": [
  {
   "cell_type": "code",
   "execution_count": 1,
   "id": "b9bbf3fb-3515-431b-8679-d5b4d6b5a1ef",
   "metadata": {},
   "outputs": [],
   "source": [
    "import numpy as np # kütüphanein import edilmesi"
   ]
  },
  {
   "cell_type": "markdown",
   "id": "ad86352f-4888-42b2-a8dd-e9471652e007",
   "metadata": {},
   "source": [
    "### Numpy Array"
   ]
  },
  {
   "cell_type": "code",
   "execution_count": 5,
   "id": "440a18c9-c195-4213-ad6e-58173c2d2dee",
   "metadata": {},
   "outputs": [],
   "source": [
    "benimListem = [20,30,40] # pyhton klasik liste oluşturulması"
   ]
  },
  {
   "cell_type": "code",
   "execution_count": 6,
   "id": "89ae454e-60a5-4bdd-8a07-8318147fae2b",
   "metadata": {},
   "outputs": [
    {
     "data": {
      "text/plain": [
       "[20, 30, 40]"
      ]
     },
     "execution_count": 6,
     "metadata": {},
     "output_type": "execute_result"
    }
   ],
   "source": [
    "benimListem"
   ]
  },
  {
   "cell_type": "code",
   "execution_count": 7,
   "id": "7928ec0c-8fc3-490d-867d-da4e74f7c3d1",
   "metadata": {},
   "outputs": [
    {
     "data": {
      "text/plain": [
       "list"
      ]
     },
     "execution_count": 7,
     "metadata": {},
     "output_type": "execute_result"
    }
   ],
   "source": [
    "type(benimListem) # türün görüntülenmesi"
   ]
  },
  {
   "cell_type": "code",
   "execution_count": 9,
   "id": "10521b60-b171-4be2-b975-bec96363c67e",
   "metadata": {},
   "outputs": [
    {
     "data": {
      "text/plain": [
       "array([20, 30, 40])"
      ]
     },
     "execution_count": 9,
     "metadata": {},
     "output_type": "execute_result"
    }
   ],
   "source": [
    "np.array(benimListem) # listeyi numpy kullanarak arraya dönüştürdük.."
   ]
  },
  {
   "cell_type": "code",
   "execution_count": 11,
   "id": "8ebfb6c7-171b-4d61-b466-583fb1dafbcd",
   "metadata": {},
   "outputs": [
    {
     "data": {
      "text/plain": [
       "numpy.ndarray"
      ]
     },
     "execution_count": 11,
     "metadata": {},
     "output_type": "execute_result"
    }
   ],
   "source": [
    "type(np.array(benimListem)) # listeyi numpy olarak dönüştürmüştük bu sefer türünü gösterdik"
   ]
  },
  {
   "cell_type": "code",
   "execution_count": 12,
   "id": "5ec8333c-3ba3-42af-8484-f222fd6df62c",
   "metadata": {},
   "outputs": [],
   "source": [
    "benimMatrixListem = [[10,20,30], [40,50,60], [70,80,90]] # halen listedir."
   ]
  },
  {
   "cell_type": "code",
   "execution_count": 13,
   "id": "2da0755c-bb6d-4b5a-bed2-ec7091225af1",
   "metadata": {},
   "outputs": [
    {
     "data": {
      "text/plain": [
       "[[10, 20, 30], [40, 50, 60], [70, 80, 90]]"
      ]
     },
     "execution_count": 13,
     "metadata": {},
     "output_type": "execute_result"
    }
   ],
   "source": [
    "benimMatrixListem"
   ]
  },
  {
   "cell_type": "code",
   "execution_count": 15,
   "id": "b3b37ad3-81f5-424b-b0cd-b1f8f53bc731",
   "metadata": {},
   "outputs": [
    {
     "data": {
      "text/plain": [
       "list"
      ]
     },
     "execution_count": 15,
     "metadata": {},
     "output_type": "execute_result"
    }
   ],
   "source": [
    "type(benimMatrixListem) # türü halen liste türünde"
   ]
  },
  {
   "cell_type": "code",
   "execution_count": 17,
   "id": "8f65373e-7b9c-46a3-8538-8820ebc7174b",
   "metadata": {},
   "outputs": [
    {
     "data": {
      "text/plain": [
       "30"
      ]
     },
     "execution_count": 17,
     "metadata": {},
     "output_type": "execute_result"
    }
   ],
   "source": [
    "benimMatrixListem[0][2] # bu şekilde halen liste türünde olduğunu anlayabiliriz..."
   ]
  },
  {
   "cell_type": "code",
   "execution_count": 19,
   "id": "869581af-d381-4466-9f01-99e259c5f55f",
   "metadata": {},
   "outputs": [
    {
     "data": {
      "text/plain": [
       "array([[10, 20, 30],\n",
       "       [40, 50, 60],\n",
       "       [70, 80, 90]])"
      ]
     },
     "execution_count": 19,
     "metadata": {},
     "output_type": "execute_result"
    }
   ],
   "source": [
    "np.array(benimMatrixListem) # numpy kullanarak bunu matrix türüne dönüştürdük."
   ]
  },
  {
   "cell_type": "code",
   "execution_count": 22,
   "id": "da9931ee-e01d-432e-bfbf-b27e9ee31fbf",
   "metadata": {},
   "outputs": [
    {
     "data": {
      "text/plain": [
       "numpy.ndarray"
      ]
     },
     "execution_count": 22,
     "metadata": {},
     "output_type": "execute_result"
    }
   ],
   "source": [
    "type(np.array(benimMatrixListem)) # numpy türünde bir matrise dönüştürüldü..."
   ]
  },
  {
   "cell_type": "markdown",
   "id": "68eb6500-164f-487e-b34f-eddec167475d",
   "metadata": {},
   "source": [
    "### Numpy Methods"
   ]
  },
  {
   "cell_type": "markdown",
   "id": "a25f6008-e4fb-49b5-8c2f-33b5c1821e2c",
   "metadata": {},
   "source": [
    "#### arange methodu"
   ]
  },
  {
   "cell_type": "code",
   "execution_count": 32,
   "id": "0fad1d73-cd6a-46cf-9640-23daaa30f1ea",
   "metadata": {},
   "outputs": [
    {
     "data": {
      "text/plain": [
       "[0, 1, 2, 3, 4, 5, 6, 7, 8, 9]"
      ]
     },
     "execution_count": 32,
     "metadata": {},
     "output_type": "execute_result"
    }
   ],
   "source": [
    "list(range(0,10)) # pyhtonun klasik 0-10'a kadar sayıları içeren liste oluşturulmasıdır."
   ]
  },
  {
   "cell_type": "code",
   "execution_count": 33,
   "id": "06a5ee12-65aa-44c1-bfe0-c9a0b7dae5e2",
   "metadata": {},
   "outputs": [
    {
     "data": {
      "text/plain": [
       "array([0, 1, 2, 3, 4, 5, 6, 7, 8, 9])"
      ]
     },
     "execution_count": 33,
     "metadata": {},
     "output_type": "execute_result"
    }
   ],
   "source": [
    "np.arange(0,10) # 0-10'a kadar sayıları içeren numpy dizini oluşturdu... "
   ]
  },
  {
   "cell_type": "code",
   "execution_count": 34,
   "id": "93c4d5be-0f91-417b-8f72-61dba0d49f57",
   "metadata": {},
   "outputs": [
    {
     "data": {
      "text/plain": [
       "array([ 0,  2,  4,  6,  8, 10, 12, 14, 16, 18])"
      ]
     },
     "execution_count": 34,
     "metadata": {},
     "output_type": "execute_result"
    }
   ],
   "source": [
    "np.arange(0,20,2) # sondaki 2 sayısı step-size'ı verir kaç atlayarak yazdıracağını belirtir. burada 2'nin katlarını atlayarak yazdırdı..."
   ]
  },
  {
   "cell_type": "code",
   "execution_count": 35,
   "id": "1fde21be-8b50-4b87-9c00-d8ffefb0f781",
   "metadata": {},
   "outputs": [
    {
     "data": {
      "text/plain": [
       "array([ 0,  3,  6,  9, 12, 15, 18, 21, 24, 27, 30, 33, 36, 39, 42, 45, 48,\n",
       "       51, 54, 57, 60, 63, 66, 69, 72, 75, 78, 81, 84, 87])"
      ]
     },
     "execution_count": 35,
     "metadata": {},
     "output_type": "execute_result"
    }
   ],
   "source": [
    "np.arange(0,90,3) # 0'dan başladı 90'a kadar üçer üçer atlayarak numpy arrayine ekle"
   ]
  },
  {
   "cell_type": "markdown",
   "id": "072d49e3-80c2-4219-a2c4-97dcb9f8a0b0",
   "metadata": {},
   "source": [
    "#### zeros "
   ]
  },
  {
   "cell_type": "code",
   "execution_count": 43,
   "id": "cc0f76a1-3ded-4f6f-a93e-3e211aa3de1b",
   "metadata": {},
   "outputs": [
    {
     "data": {
      "text/plain": [
       "array([0., 0., 0., 0., 0.])"
      ]
     },
     "execution_count": 43,
     "metadata": {},
     "output_type": "execute_result"
    }
   ],
   "source": [
    "np.zeros(5) # elemanları sıfır olan içerisinde 5 tane eleman bulunan bir numpy array oluşturur..."
   ]
  },
  {
   "cell_type": "code",
   "execution_count": 44,
   "id": "24f772a6-0ec4-4c59-ab2a-37c92b1a84c0",
   "metadata": {},
   "outputs": [
    {
     "data": {
      "text/plain": [
       "array([[0., 0., 0., 0., 0., 0., 0., 0., 0.],\n",
       "       [0., 0., 0., 0., 0., 0., 0., 0., 0.],\n",
       "       [0., 0., 0., 0., 0., 0., 0., 0., 0.],\n",
       "       [0., 0., 0., 0., 0., 0., 0., 0., 0.],\n",
       "       [0., 0., 0., 0., 0., 0., 0., 0., 0.],\n",
       "       [0., 0., 0., 0., 0., 0., 0., 0., 0.],\n",
       "       [0., 0., 0., 0., 0., 0., 0., 0., 0.],\n",
       "       [0., 0., 0., 0., 0., 0., 0., 0., 0.],\n",
       "       [0., 0., 0., 0., 0., 0., 0., 0., 0.]])"
      ]
     },
     "execution_count": 44,
     "metadata": {},
     "output_type": "execute_result"
    }
   ],
   "source": [
    "np.zeros((9,9)) # 9x9'luk elemanları sıfır olan bir matris oluşturdu..."
   ]
  },
  {
   "cell_type": "code",
   "execution_count": 45,
   "id": "dd01e95c-b5fe-45ec-a1d1-75cab69b66fa",
   "metadata": {},
   "outputs": [
    {
     "data": {
      "text/plain": [
       "array([1., 1., 1., 1., 1.])"
      ]
     },
     "execution_count": 45,
     "metadata": {},
     "output_type": "execute_result"
    }
   ],
   "source": [
    "np.ones(5) # elemanları bir olan içerisinde 5 tane eleman bulunan bir numpy array oluşturur..."
   ]
  },
  {
   "cell_type": "code",
   "execution_count": 47,
   "id": "ef3d16f6-396e-431e-8ff1-3e83955a789f",
   "metadata": {},
   "outputs": [
    {
     "data": {
      "text/plain": [
       "array([[1., 1., 1., 1., 1., 1., 1., 1., 1.],\n",
       "       [1., 1., 1., 1., 1., 1., 1., 1., 1.],\n",
       "       [1., 1., 1., 1., 1., 1., 1., 1., 1.],\n",
       "       [1., 1., 1., 1., 1., 1., 1., 1., 1.],\n",
       "       [1., 1., 1., 1., 1., 1., 1., 1., 1.],\n",
       "       [1., 1., 1., 1., 1., 1., 1., 1., 1.],\n",
       "       [1., 1., 1., 1., 1., 1., 1., 1., 1.],\n",
       "       [1., 1., 1., 1., 1., 1., 1., 1., 1.],\n",
       "       [1., 1., 1., 1., 1., 1., 1., 1., 1.]])"
      ]
     },
     "execution_count": 47,
     "metadata": {},
     "output_type": "execute_result"
    }
   ],
   "source": [
    "np.ones((9,9)) # 9x9'luk elemanları bir olan bir matris oluşturdu..."
   ]
  },
  {
   "cell_type": "markdown",
   "id": "c2dd32a6-eb57-4c61-994b-877b01247288",
   "metadata": {},
   "source": [
    "#### linspace"
   ]
  },
  {
   "cell_type": "markdown",
   "id": "52560378-f980-4dac-941f-30cbecb49a98",
   "metadata": {},
   "source": [
    "> linspace bir sayı aralığında eşit aralıklarla istenilen adet kadar numpy arrayi döndürür"
   ]
  },
  {
   "cell_type": "code",
   "execution_count": 53,
   "id": "c09d2027-3330-442a-ba9e-85d2bcb7ee9a",
   "metadata": {},
   "outputs": [
    {
     "data": {
      "text/plain": [
       "array([ 0.,  4.,  8., 12., 16., 20.])"
      ]
     },
     "execution_count": 53,
     "metadata": {},
     "output_type": "execute_result"
    }
   ],
   "source": [
    "np.linspace(0,20,6) #0-20 arasında 6 adet sayı alacak ama bu sayılar arasında eşit mesafe vardır"
   ]
  },
  {
   "cell_type": "markdown",
   "id": "a9d275a1-3c3d-4d3c-a057-7b5d867818c4",
   "metadata": {},
   "source": [
    "> mesela yukarıdaki dizinde 0-20 arasında ama elemanlar arasında mesafe aynıdır. Örneğin 0-4 elemanları arasındaki fark ile 4-8 arasındaki fark aynıdır ve bu işlem en son değere kadar devam eder."
   ]
  },
  {
   "cell_type": "code",
   "execution_count": 54,
   "id": "20f6705d-1edb-4e5c-a876-87a6cf058c4f",
   "metadata": {},
   "outputs": [
    {
     "data": {
      "text/plain": [
       "array([ 0.        ,  2.22222222,  4.44444444,  6.66666667,  8.88888889,\n",
       "       11.11111111, 13.33333333, 15.55555556, 17.77777778, 20.        ])"
      ]
     },
     "execution_count": 54,
     "metadata": {},
     "output_type": "execute_result"
    }
   ],
   "source": [
    "np.linspace(0,20,10) #0 ile 10 arasında 10 tane elemanı arraye atar ama bu elemanlar arasındaki fark eşittir..."
   ]
  },
  {
   "cell_type": "markdown",
   "id": "0bedd1d1-bedc-4cf9-b6bf-b6840abfd3ed",
   "metadata": {},
   "source": [
    "#### eye "
   ]
  },
  {
   "cell_type": "markdown",
   "id": "7b60ec93-a1bd-47fd-83f5-b135bf8cb556",
   "metadata": {},
   "source": [
    "> bu method ise bizlere identity matris yani birim matrisler oluşturmamıza olanak sağlar..."
   ]
  },
  {
   "cell_type": "code",
   "execution_count": 56,
   "id": "b2d902f5-a3eb-4b48-939b-11db5b1823d0",
   "metadata": {},
   "outputs": [
    {
     "data": {
      "text/plain": [
       "array([[1., 0., 0., 0., 0., 0., 0., 0., 0., 0.],\n",
       "       [0., 1., 0., 0., 0., 0., 0., 0., 0., 0.],\n",
       "       [0., 0., 1., 0., 0., 0., 0., 0., 0., 0.],\n",
       "       [0., 0., 0., 1., 0., 0., 0., 0., 0., 0.],\n",
       "       [0., 0., 0., 0., 1., 0., 0., 0., 0., 0.],\n",
       "       [0., 0., 0., 0., 0., 1., 0., 0., 0., 0.],\n",
       "       [0., 0., 0., 0., 0., 0., 1., 0., 0., 0.],\n",
       "       [0., 0., 0., 0., 0., 0., 0., 1., 0., 0.],\n",
       "       [0., 0., 0., 0., 0., 0., 0., 0., 1., 0.],\n",
       "       [0., 0., 0., 0., 0., 0., 0., 0., 0., 1.]])"
      ]
     },
     "execution_count": 56,
     "metadata": {},
     "output_type": "execute_result"
    }
   ],
   "source": [
    "np.eye(10) #10x10'luk bir birim matrisi oluşturdu."
   ]
  },
  {
   "cell_type": "code",
   "execution_count": 58,
   "id": "2aa254d6-f2f7-48c6-a0ee-185d609f14ad",
   "metadata": {},
   "outputs": [
    {
     "data": {
      "text/plain": [
       "array([[1., 0., 0.],\n",
       "       [0., 1., 0.],\n",
       "       [0., 0., 1.]])"
      ]
     },
     "execution_count": 58,
     "metadata": {},
     "output_type": "execute_result"
    }
   ],
   "source": [
    "np.eye(3) # 3x3'lük bir birim matrisi oluşturdu..."
   ]
  },
  {
   "cell_type": "markdown",
   "id": "309c9473-1ba3-4381-95e5-9be8a791d269",
   "metadata": {},
   "source": [
    "#### random"
   ]
  },
  {
   "cell_type": "markdown",
   "id": "577947f5-6f28-41ec-8b82-fc8cc8b2853a",
   "metadata": {},
   "source": [
    "> numpy'da bulunan random kütüphanesi klasik pyhtonda bulunan random kütüphanesiden biraz farklıdır. Bu farklılık numpy random kütüphanesi normal dağılıma sahip rastgele sayılar üretir..."
   ]
  },
  {
   "cell_type": "code",
   "execution_count": 61,
   "id": "9ca01aaf-6c24-4111-8aed-7d7ed658ff0b",
   "metadata": {},
   "outputs": [
    {
     "data": {
      "text/plain": [
       "array([ 0.10767333, -0.39555576,  0.63751574, -0.24075784])"
      ]
     },
     "execution_count": 61,
     "metadata": {},
     "output_type": "execute_result"
    }
   ],
   "source": [
    "np.random.randn(4) # 4 tane normal dağılıma sahip sayılar üretir...."
   ]
  },
  {
   "cell_type": "code",
   "execution_count": 65,
   "id": "1856b33e-1cc0-4cb2-865e-12b8a5f756b5",
   "metadata": {},
   "outputs": [
    {
     "data": {
      "text/plain": [
       "array([0.85279348, 0.29469934, 0.23943255, 0.03371128])"
      ]
     },
     "execution_count": 65,
     "metadata": {},
     "output_type": "execute_result"
    }
   ],
   "source": [
    "np.random.rand(4) # bu da normal dağılıma sahip pozitif sayılar ürettirir."
   ]
  },
  {
   "cell_type": "code",
   "execution_count": 68,
   "id": "62dda2ea-93a9-43a6-be63-ed2d518917cb",
   "metadata": {},
   "outputs": [
    {
     "data": {
      "text/plain": [
       "array([[-2.40772662,  1.27253883, -0.33953504,  0.68849824],\n",
       "       [-1.83611354,  1.34616434,  1.39633438, -0.99943632],\n",
       "       [ 0.11945559,  1.67923244,  0.36561331,  2.00246828],\n",
       "       [-0.87318704,  0.14634593, -0.69587183, -0.87770961]])"
      ]
     },
     "execution_count": 68,
     "metadata": {},
     "output_type": "execute_result"
    }
   ],
   "source": [
    "np.random.randn(4,4) # normal dağılıma sahip 4x4'lük bir matris ürettirdik..."
   ]
  },
  {
   "cell_type": "code",
   "execution_count": 70,
   "id": "2feac876-fc81-49c6-b284-94aee45af171",
   "metadata": {},
   "outputs": [
    {
     "data": {
      "text/plain": [
       "array([[0.60754394, 0.31041441, 0.06769213, 0.11669729],\n",
       "       [0.35741859, 0.79357646, 0.85846953, 0.58593028],\n",
       "       [0.59941206, 0.58989468, 0.8129964 , 0.93950074],\n",
       "       [0.88519957, 0.60840062, 0.20607751, 0.63149393]])"
      ]
     },
     "execution_count": 70,
     "metadata": {},
     "output_type": "execute_result"
    }
   ],
   "source": [
    "np.random.rand(4,4) # normal dağılıma sahip 4x4'lük bir pozitif sayılardan oluşan bir matris ürettirdi..."
   ]
  },
  {
   "cell_type": "code",
   "execution_count": 72,
   "id": "46e54532-a1e6-4239-83de-31c7334242ad",
   "metadata": {},
   "outputs": [
    {
     "data": {
      "text/plain": [
       "7"
      ]
     },
     "execution_count": 72,
     "metadata": {},
     "output_type": "execute_result"
    }
   ],
   "source": [
    "np.random.randint(1,10) # 1-10 arasında rastgele bir tane sayı üretti ama burada önemli olan nokta şurasıdır. 1 sayısını üretebilir ama \n",
    "# 10 stop value olduğu için ne kadar çalıştırırsan çalıştır 10'u üretmez...."
   ]
  },
  {
   "cell_type": "code",
   "execution_count": 74,
   "id": "d282dea7-5842-4a2b-83c8-46260dddb690",
   "metadata": {},
   "outputs": [
    {
     "data": {
      "text/plain": [
       "array([194,  56, 237, 250,  22])"
      ]
     },
     "execution_count": 74,
     "metadata": {},
     "output_type": "execute_result"
    }
   ],
   "source": [
    "np.random.randint(1,300,5) #1-300'e kadar rastgele 5 tane sayı üretir"
   ]
  },
  {
   "cell_type": "code",
   "execution_count": 76,
   "id": "be90bfbc-a197-44b4-b0b5-b66721984f08",
   "metadata": {},
   "outputs": [],
   "source": [
    "dizi_01 = np.arange(0,30) # 0-30'a kadar olan sayıların (30 stop value olduğu için dahil değil) dizi_01 değişkenine atadı..."
   ]
  },
  {
   "cell_type": "code",
   "execution_count": 78,
   "id": "f99ced4a-2b3f-4b3b-b91e-336a4d6e30c3",
   "metadata": {},
   "outputs": [
    {
     "data": {
      "text/plain": [
       "array([ 0,  1,  2,  3,  4,  5,  6,  7,  8,  9, 10, 11, 12, 13, 14, 15, 16,\n",
       "       17, 18, 19, 20, 21, 22, 23, 24, 25, 26, 27, 28, 29])"
      ]
     },
     "execution_count": 78,
     "metadata": {},
     "output_type": "execute_result"
    }
   ],
   "source": [
    "dizi_01 # dizi_01 içerisinde artık bu tanımlıdır...."
   ]
  },
  {
   "cell_type": "code",
   "execution_count": 86,
   "id": "a71b9847-d980-4c34-b14b-9e81343d6e41",
   "metadata": {},
   "outputs": [],
   "source": [
    "dizi_02_random = np.random.randint(0,100,20) #0-100 arasında 30 tane değeri dizi_02_random değişkenine atadık..."
   ]
  },
  {
   "cell_type": "code",
   "execution_count": 87,
   "id": "2fa03bac-5ae4-487f-bb72-5e5c02a4f095",
   "metadata": {},
   "outputs": [
    {
     "data": {
      "text/plain": [
       "array([55, 77, 29, 62, 98, 55, 78, 23,  5, 84, 87, 63, 85,  9, 15,  0, 91,\n",
       "        5, 71, 71])"
      ]
     },
     "execution_count": 87,
     "metadata": {},
     "output_type": "execute_result"
    }
   ],
   "source": [
    "dizi_02_random #dizi_02_random içerisinde artık bu dizi tanımlıdır"
   ]
  },
  {
   "cell_type": "markdown",
   "id": "74c55777-0e59-44eb-be41-237971a4f414",
   "metadata": {},
   "source": [
    "### Numpy Array Methods"
   ]
  },
  {
   "cell_type": "markdown",
   "id": "0cd06a96-dd4b-478d-bd4a-3720f788885f",
   "metadata": {},
   "source": [
    "> reshape tanımlı olan diziyi matrise çevirir ama bazı şartları vardır bu şart ise çevrilecek olan dizinin istenilen matris özelliklerine uyması gerekliliğidir.\n",
    "\n",
    "Örneğin;\n",
    "* 30 tane elemanı olan bir diziyi 5x5 matrise bölünemez çünkü 5x5 olan bir matris 25 adet veri tutabilir.\n",
    "* Başka bir örnek vermek gerekirse 20 tane veri olan bir matrisi 4x4 olan bir matrise bölemezsin çünkü 4x4 olan bir matris en fazla (4x4=16) şeklinde en fazla 16 adet veri tutar.\n",
    "\n",
    "aşağıdaki örneğe bakacak olursak dizi_01 arrayinde 30 adet veri vardır buna uygun olarak 6x5 şeklinde matris bölünlenmesi yapılabilir çünkü (6x5=30) olduğundan 6x5 matrisi 30 adet veriye ihtiyaç duyar. bunu diğer türlü yani 5x6 olarak da bölebildiğimiz anlamına gelir.\n",
    "aynı şekilde aşağıdaki dizi_01 matrisini 5x5 matrisine bölemezsin çünkü (5x5=25) olan bir matris 25 adet veriye ihtiyaç duyar ama bizim dizimizde 30 adet veri vardır.\n",
    "\n",
    "Bu şartlar sağlanmadığında aşağıdaki reshape methodu hata verir..."
   ]
  },
  {
   "cell_type": "code",
   "execution_count": 91,
   "id": "32b30fe2-58a5-490f-9015-582fe84132a6",
   "metadata": {},
   "outputs": [
    {
     "data": {
      "text/plain": [
       "array([[ 0,  1,  2,  3,  4],\n",
       "       [ 5,  6,  7,  8,  9],\n",
       "       [10, 11, 12, 13, 14],\n",
       "       [15, 16, 17, 18, 19],\n",
       "       [20, 21, 22, 23, 24],\n",
       "       [25, 26, 27, 28, 29]])"
      ]
     },
     "execution_count": 91,
     "metadata": {},
     "output_type": "execute_result"
    }
   ],
   "source": [
    "dizi_01.reshape(6,5) # 6x5 matrisi 30 adet veriye ihtiyaç duyar ve dataframe'de 30 adet veri vardır yani fonksiyon çalışır."
   ]
  },
  {
   "cell_type": "code",
   "execution_count": 92,
   "id": "a4b57b59-ef4c-419c-b245-1b9660c3a5eb",
   "metadata": {},
   "outputs": [
    {
     "data": {
      "text/plain": [
       "29"
      ]
     },
     "execution_count": 92,
     "metadata": {},
     "output_type": "execute_result"
    }
   ],
   "source": [
    "dizi_01.max() # dizi_01 arrayi içerisindeki en büyük sayısal değeri verir"
   ]
  },
  {
   "cell_type": "code",
   "execution_count": 93,
   "id": "9fae5001-d91a-410d-9877-e6c8b0050c5a",
   "metadata": {},
   "outputs": [
    {
     "data": {
      "text/plain": [
       "98"
      ]
     },
     "execution_count": 93,
     "metadata": {},
     "output_type": "execute_result"
    }
   ],
   "source": [
    "dizi_02_random.max() # dizi_02_random arrayi içerisindeki en büyük sayısal değeri verir"
   ]
  },
  {
   "cell_type": "code",
   "execution_count": 94,
   "id": "53cd9f3e-6a77-4dc9-85d8-be11983c901c",
   "metadata": {},
   "outputs": [
    {
     "data": {
      "text/plain": [
       "0"
      ]
     },
     "execution_count": 94,
     "metadata": {},
     "output_type": "execute_result"
    }
   ],
   "source": [
    "dizi_01.min() # dizi_01 arrayi içerisindeli en küçük sayısal değeri verir"
   ]
  },
  {
   "cell_type": "code",
   "execution_count": 97,
   "id": "59e7fe74-0741-4812-8d1e-fdec0d593273",
   "metadata": {},
   "outputs": [
    {
     "data": {
      "text/plain": [
       "0"
      ]
     },
     "execution_count": 97,
     "metadata": {},
     "output_type": "execute_result"
    }
   ],
   "source": [
    "dizi_02_random.min() # dizi_02_random arrayi içerisindeki minimum değeri verir"
   ]
  },
  {
   "cell_type": "code",
   "execution_count": 104,
   "id": "1fad6346-0287-433e-9971-72fd6a5c4d63",
   "metadata": {},
   "outputs": [
    {
     "data": {
      "text/plain": [
       "4"
      ]
     },
     "execution_count": 104,
     "metadata": {},
     "output_type": "execute_result"
    }
   ],
   "source": [
    "dizi_02_random.argmax() # dizi içerisindeki en yüksek değer kaçıncı sıradadır ?"
   ]
  },
  {
   "cell_type": "code",
   "execution_count": 105,
   "id": "b0986f10-ac7b-40cf-8e1a-a5a47cc4b3e6",
   "metadata": {},
   "outputs": [
    {
     "data": {
      "text/plain": [
       "15"
      ]
     },
     "execution_count": 105,
     "metadata": {},
     "output_type": "execute_result"
    }
   ],
   "source": [
    "dizi_02_random.argmin() # dizi içerisindeki en küçük değer kaçıncı sıradadır"
   ]
  },
  {
   "cell_type": "code",
   "execution_count": 99,
   "id": "ecf3d26e-f012-4525-9fc8-9dd710c17c2e",
   "metadata": {},
   "outputs": [
    {
     "data": {
      "text/plain": [
       "32.34234839958286"
      ]
     },
     "execution_count": 99,
     "metadata": {},
     "output_type": "execute_result"
    }
   ],
   "source": [
    "dizi_02_random.std() # standard sapmayı verir"
   ]
  },
  {
   "cell_type": "code",
   "execution_count": 100,
   "id": "cb834764-5d17-46fb-9151-17fe7d3d0b36",
   "metadata": {},
   "outputs": [
    {
     "data": {
      "text/plain": [
       "53.15"
      ]
     },
     "execution_count": 100,
     "metadata": {},
     "output_type": "execute_result"
    }
   ],
   "source": [
    "dizi_02_random.mean() # ortalamayı verir"
   ]
  },
  {
   "cell_type": "code",
   "execution_count": 102,
   "id": "80bbe13e-2e98-448d-acea-59bb87f64d50",
   "metadata": {},
   "outputs": [
    {
     "data": {
      "text/plain": [
       "1063"
      ]
     },
     "execution_count": 102,
     "metadata": {},
     "output_type": "execute_result"
    }
   ],
   "source": [
    "dizi_02_random.sum() # dizi içerisindeki bütün değerleri toplar"
   ]
  },
  {
   "cell_type": "code",
   "execution_count": 108,
   "id": "d0ccc72c-2d6e-4910-a712-85865e6122a4",
   "metadata": {},
   "outputs": [],
   "source": [
    "reshape_dizi = dizi_01.reshape(6,5) # reshape yapılmış diziyi bir değişkene atadık"
   ]
  },
  {
   "cell_type": "code",
   "execution_count": 109,
   "id": "7f247707-60c7-4bd3-ab5e-d8aa77c93c2b",
   "metadata": {},
   "outputs": [
    {
     "data": {
      "text/plain": [
       "array([[ 0,  1,  2,  3,  4],\n",
       "       [ 5,  6,  7,  8,  9],\n",
       "       [10, 11, 12, 13, 14],\n",
       "       [15, 16, 17, 18, 19],\n",
       "       [20, 21, 22, 23, 24],\n",
       "       [25, 26, 27, 28, 29]])"
      ]
     },
     "execution_count": 109,
     "metadata": {},
     "output_type": "execute_result"
    }
   ],
   "source": [
    "reshape_dizi # yazdırdım"
   ]
  },
  {
   "cell_type": "code",
   "execution_count": 114,
   "id": "52e0c67b-0adb-40f4-ac06-67b6e6d90bc7",
   "metadata": {},
   "outputs": [
    {
     "data": {
      "text/plain": [
       "(6, 5)"
      ]
     },
     "execution_count": 114,
     "metadata": {},
     "output_type": "execute_result"
    }
   ],
   "source": [
    "reshape_dizi.shape # matrisin boyutlarını verir yani 6 sütun 5 satırdan oluştuğunu söyler ve ayrıca shape'de parantez yoktur \n",
    "#çünkü bir fonksiyon veya method değildir."
   ]
  },
  {
   "cell_type": "code",
   "execution_count": null,
   "id": "65bbae3d-b52d-4d4f-9cbe-9c1aa5691aef",
   "metadata": {},
   "outputs": [],
   "source": []
  }
 ],
 "metadata": {
  "kernelspec": {
   "display_name": "Python 3 (ipykernel)",
   "language": "python",
   "name": "python3"
  },
  "language_info": {
   "codemirror_mode": {
    "name": "ipython",
    "version": 3
   },
   "file_extension": ".py",
   "mimetype": "text/x-python",
   "name": "python",
   "nbconvert_exporter": "python",
   "pygments_lexer": "ipython3",
   "version": "3.11.5"
  }
 },
 "nbformat": 4,
 "nbformat_minor": 5
}
