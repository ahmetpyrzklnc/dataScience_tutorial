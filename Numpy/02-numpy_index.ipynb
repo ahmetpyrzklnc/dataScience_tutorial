{
 "cells": [
  {
   "cell_type": "markdown",
   "id": "a7c395f9-8924-4cac-ba92-5256571b8e57",
   "metadata": {},
   "source": [
    "### Numpy indexle veri değiştirme işlemleri"
   ]
  },
  {
   "cell_type": "code",
   "execution_count": 1,
   "id": "9cc62772-897a-4cc7-a8fc-13f3bb99a979",
   "metadata": {},
   "outputs": [],
   "source": [
    "import numpy as np"
   ]
  },
  {
   "cell_type": "code",
   "execution_count": 3,
   "id": "b2cdbf39-31fd-4343-890b-7056fb47d33c",
   "metadata": {},
   "outputs": [],
   "source": [
    "benimDizim = np.arange(0,15)"
   ]
  },
  {
   "cell_type": "code",
   "execution_count": 4,
   "id": "6a5782a1-67a6-409e-ad82-c10cf854e07d",
   "metadata": {},
   "outputs": [
    {
     "data": {
      "text/plain": [
       "array([ 0,  1,  2,  3,  4,  5,  6,  7,  8,  9, 10, 11, 12, 13, 14])"
      ]
     },
     "execution_count": 4,
     "metadata": {},
     "output_type": "execute_result"
    }
   ],
   "source": [
    "benimDizim"
   ]
  },
  {
   "cell_type": "code",
   "execution_count": 5,
   "id": "50dfc4ec-ac32-4c4b-ba21-edee3e7be4d2",
   "metadata": {},
   "outputs": [
    {
     "data": {
      "text/plain": [
       "5"
      ]
     },
     "execution_count": 5,
     "metadata": {},
     "output_type": "execute_result"
    }
   ],
   "source": [
    "benimDizim[5] # 5. indexteki ifadeyi getir"
   ]
  },
  {
   "cell_type": "code",
   "execution_count": 6,
   "id": "a3bb802d-96ee-4be2-baf7-42c7789e9819",
   "metadata": {},
   "outputs": [
    {
     "data": {
      "text/plain": [
       "array([3, 4, 5, 6, 7])"
      ]
     },
     "execution_count": 6,
     "metadata": {},
     "output_type": "execute_result"
    }
   ],
   "source": [
    "benimDizim[3:8] # starting index: 3 , stop index: 8 yani üçüncü ile sekizinci index arasını bana getir --> slacing"
   ]
  },
  {
   "cell_type": "markdown",
   "id": "1926f846-1925-49e3-b115-6f5e9ae692a2",
   "metadata": {},
   "source": [
    "Örneğin:\n",
    "> üçüncü ile sekizinci index arasındaki sayıları değiştirmek isteyelim bunu yine arrayin bir özelliği olan slacing ile yapabiliriz..."
   ]
  },
  {
   "cell_type": "code",
   "execution_count": 9,
   "id": "9eecd23f-45af-4a93-8ce2-d28301ffdb52",
   "metadata": {},
   "outputs": [],
   "source": [
    "benimDizim[3:8] = -5 # üçüncü index ile sekizinci index arasındaki sayıları -5 olarak değiştir..."
   ]
  },
  {
   "cell_type": "code",
   "execution_count": 10,
   "id": "64ae41ef-958c-4441-ab0c-2fab46aed6f3",
   "metadata": {},
   "outputs": [
    {
     "data": {
      "text/plain": [
       "array([ 0,  1,  2, -5, -5, -5, -5, -5,  8,  9, 10, 11, 12, 13, 14])"
      ]
     },
     "execution_count": 10,
     "metadata": {},
     "output_type": "execute_result"
    }
   ],
   "source": [
    "benimDizim # arayi bize gösterir"
   ]
  },
  {
   "cell_type": "code",
   "execution_count": 13,
   "id": "bc93da49-24ba-4558-b6ad-313d7d9b92b6",
   "metadata": {},
   "outputs": [],
   "source": [
    "baskaDizi = np.arange(0,24) # başka bir dizi oluşturalım..."
   ]
  },
  {
   "cell_type": "code",
   "execution_count": 14,
   "id": "b59b3cb7-ce90-4f85-8a0b-09c60b883c71",
   "metadata": {},
   "outputs": [
    {
     "data": {
      "text/plain": [
       "array([ 0,  1,  2,  3,  4,  5,  6,  7,  8,  9, 10, 11, 12, 13, 14, 15, 16,\n",
       "       17, 18, 19, 20, 21, 22, 23])"
      ]
     },
     "execution_count": 14,
     "metadata": {},
     "output_type": "execute_result"
    }
   ],
   "source": [
    "baskaDizi"
   ]
  },
  {
   "cell_type": "code",
   "execution_count": 22,
   "id": "8295622c-2e4f-4f64-9b4d-fd838f3d73a2",
   "metadata": {},
   "outputs": [],
   "source": [
    "slacingDizi = baskaDizi[4:9]"
   ]
  },
  {
   "cell_type": "code",
   "execution_count": 23,
   "id": "f7f41a77-8cf1-4f1b-830b-dc83122583ba",
   "metadata": {},
   "outputs": [
    {
     "data": {
      "text/plain": [
       "array([4, 5, 6, 7, 8])"
      ]
     },
     "execution_count": 23,
     "metadata": {},
     "output_type": "execute_result"
    }
   ],
   "source": [
    "slacingDizi "
   ]
  },
  {
   "cell_type": "code",
   "execution_count": 24,
   "id": "78674baf-9f87-44ed-bd68-32394a5322a4",
   "metadata": {},
   "outputs": [
    {
     "data": {
      "text/plain": [
       "numpy.ndarray"
      ]
     },
     "execution_count": 24,
     "metadata": {},
     "output_type": "execute_result"
    }
   ],
   "source": [
    "type(slacingDizi)"
   ]
  },
  {
   "cell_type": "markdown",
   "id": "3d4bc7c5-3814-4e4d-9648-def079b8072e",
   "metadata": {},
   "source": [
    "> dizi içerisindeki değerleri nasıl değiştirebiliriz..."
   ]
  },
  {
   "cell_type": "code",
   "execution_count": 25,
   "id": "523fb6f8-c907-449c-8649-a5d261548ee2",
   "metadata": {},
   "outputs": [],
   "source": [
    "# slacingDizi = 700 # değişkenin türünü değiştirir yani numpy.array olan tür int'e dönüşür..."
   ]
  },
  {
   "cell_type": "code",
   "execution_count": 26,
   "id": "68fccff4-1011-4b92-844d-a142ab1c2bca",
   "metadata": {},
   "outputs": [],
   "source": [
    "# type(slacingDizi) # int türünde olduğunu gösterir"
   ]
  },
  {
   "cell_type": "code",
   "execution_count": 27,
   "id": "7d16d2ae-b3ef-4365-908c-e10b040ffb4c",
   "metadata": {},
   "outputs": [],
   "source": [
    "slacingDizi[:] = 700 # aralıktaki sayıları 700' eşitle "
   ]
  },
  {
   "cell_type": "code",
   "execution_count": 28,
   "id": "95cb544c-e5da-4d69-86ed-b60e907a1362",
   "metadata": {},
   "outputs": [
    {
     "data": {
      "text/plain": [
       "array([700, 700, 700, 700, 700])"
      ]
     },
     "execution_count": 28,
     "metadata": {},
     "output_type": "execute_result"
    }
   ],
   "source": [
    "slacingDizi"
   ]
  },
  {
   "cell_type": "code",
   "execution_count": 30,
   "id": "65c7260f-e249-4a6c-8ba7-8df70d935d8a",
   "metadata": {},
   "outputs": [
    {
     "data": {
      "text/plain": [
       "array([  0,   1,   2,   3, 700, 700, 700, 700, 700,   9,  10,  11,  12,\n",
       "        13,  14,  15,  16,  17,  18,  19,  20,  21,  22,  23])"
      ]
     },
     "execution_count": 30,
     "metadata": {},
     "output_type": "execute_result"
    }
   ],
   "source": [
    "baskaDizi # başka değişkende olan aralıktaki sayıları da 700 yapar "
   ]
  },
  {
   "cell_type": "markdown",
   "id": "09a67c60-146a-4f83-9271-a6ae2566e3e4",
   "metadata": {},
   "source": [
    "> ana dizinin içerisinden bir dizi parça seçilir (slicing). bu parçanın içerisinde değişiklik yaparsan eğer bu diğer ana dizinin etkilenir...\n",
    "\n",
    "* Peki bu ana dizi içerisinde orijinalini bozmadan değişiklik yapılabilir mi ? \n",
    "-> Evet yapılabilir. Bunun için ana diziyi kopyalaman ve onun üzerinden değişiklik yapman gerekir..."
   ]
  },
  {
   "cell_type": "code",
   "execution_count": 55,
   "id": "9ad3dff4-7020-43c6-a4f4-0d200d55094e",
   "metadata": {},
   "outputs": [],
   "source": [
    "ornekDizi = np.arange(0,24) # yeni bir dizi oluşturduk"
   ]
  },
  {
   "cell_type": "code",
   "execution_count": 56,
   "id": "9a9583e6-6d77-433a-80f4-62e5aff34eac",
   "metadata": {},
   "outputs": [
    {
     "data": {
      "text/plain": [
       "array([ 0,  1,  2,  3,  4,  5,  6,  7,  8,  9, 10, 11, 12, 13, 14, 15, 16,\n",
       "       17, 18, 19, 20, 21, 22, 23])"
      ]
     },
     "execution_count": 56,
     "metadata": {},
     "output_type": "execute_result"
    }
   ],
   "source": [
    "ornekDizi # görmek istedik"
   ]
  },
  {
   "cell_type": "code",
   "execution_count": 48,
   "id": "b6084219-caf8-477d-99ac-ed91d71d078b",
   "metadata": {},
   "outputs": [],
   "source": [
    "ornekDiziKopyasi = ornekDizi.copy() #ornekDiziyi yeni oluşturulan değişkene kopyaladık..."
   ]
  },
  {
   "cell_type": "code",
   "execution_count": 57,
   "id": "dbe7add4-d468-4fd7-93f1-7b0f1f0cd2b5",
   "metadata": {},
   "outputs": [
    {
     "data": {
      "text/plain": [
       "array([  0,   1,   2, 800, 800, 800, 800, 800, 800,   9,  10,  11,  12,\n",
       "        13,  14,  15,  16,  17,  18,  19,  20,  21,  22,  23])"
      ]
     },
     "execution_count": 57,
     "metadata": {},
     "output_type": "execute_result"
    }
   ],
   "source": [
    "ornekDiziKopyasi # ve kopyalanan değişikliği gördük"
   ]
  },
  {
   "cell_type": "code",
   "execution_count": 58,
   "id": "ce2e7891-fa61-4deb-be54-5e28f2c5aa89",
   "metadata": {},
   "outputs": [],
   "source": [
    "OrnekDiziKopyaSlicing = ornekDiziKopyasi[3:9] # slicing gerçekleştirildi ve yeni değişkene atadık"
   ]
  },
  {
   "cell_type": "code",
   "execution_count": 59,
   "id": "7cb80db7-4c13-4179-8c3f-a9eac94acd27",
   "metadata": {},
   "outputs": [
    {
     "data": {
      "text/plain": [
       "array([800, 800, 800, 800, 800, 800])"
      ]
     },
     "execution_count": 59,
     "metadata": {},
     "output_type": "execute_result"
    }
   ],
   "source": [
    "OrnekDiziKopyaSlicing"
   ]
  },
  {
   "cell_type": "code",
   "execution_count": 60,
   "id": "651f3e15-6c35-4ca2-b825-0eaf1219e7c2",
   "metadata": {},
   "outputs": [],
   "source": [
    "OrnekDiziKopyaSlicing[:] = 800"
   ]
  },
  {
   "cell_type": "code",
   "execution_count": 61,
   "id": "02c0772f-4200-414d-af73-de9b4f6a7a48",
   "metadata": {},
   "outputs": [
    {
     "data": {
      "text/plain": [
       "array([800, 800, 800, 800, 800, 800])"
      ]
     },
     "execution_count": 61,
     "metadata": {},
     "output_type": "execute_result"
    }
   ],
   "source": [
    "OrnekDiziKopyaSlicing"
   ]
  },
  {
   "cell_type": "code",
   "execution_count": 66,
   "id": "8eec4a8a-568c-46c1-ac84-23c0f59884e6",
   "metadata": {},
   "outputs": [
    {
     "data": {
      "text/plain": [
       "array([ 0,  1,  2,  3,  4,  5,  6,  7,  8,  9, 10, 11, 12, 13, 14, 15, 16,\n",
       "       17, 18, 19, 20, 21, 22, 23])"
      ]
     },
     "execution_count": 66,
     "metadata": {},
     "output_type": "execute_result"
    }
   ],
   "source": [
    "ornekDizi # asıl olan veriyi değiştirmedi"
   ]
  },
  {
   "cell_type": "code",
   "execution_count": 67,
   "id": "750d9a9a-04b3-4728-ab01-9f883e9777a8",
   "metadata": {},
   "outputs": [
    {
     "data": {
      "text/plain": [
       "array([  0,   1,   2, 800, 800, 800, 800, 800, 800,   9,  10,  11,  12,\n",
       "        13,  14,  15,  16,  17,  18,  19,  20,  21,  22,  23])"
      ]
     },
     "execution_count": 67,
     "metadata": {},
     "output_type": "execute_result"
    }
   ],
   "source": [
    "ornekDiziKopyasi # kopyasını değiştirdi"
   ]
  },
  {
   "cell_type": "markdown",
   "id": "c79c05a5-a84d-4bff-a3b7-2fa6d0f6e348",
   "metadata": {
    "jp-MarkdownHeadingCollapsed": true
   },
   "source": [
    "#### matrislerle işlemler"
   ]
  },
  {
   "cell_type": "code",
   "execution_count": 68,
   "id": "9f2e12e2-eebc-49d5-809d-f2a288ee4bca",
   "metadata": {},
   "outputs": [],
   "source": [
    "benimListem = [[10,20,30],[20,30,40],[50,60,70]]"
   ]
  },
  {
   "cell_type": "code",
   "execution_count": 70,
   "id": "de47f1bc-4d00-4997-a28e-f46f8d1805ed",
   "metadata": {},
   "outputs": [],
   "source": [
    "benimMatrisDizim = np.array(benimListem) # diziyi matrise çevirdik"
   ]
  },
  {
   "cell_type": "code",
   "execution_count": 71,
   "id": "4e270dd6-b477-42f8-af8e-a5405326502f",
   "metadata": {},
   "outputs": [
    {
     "data": {
      "text/plain": [
       "array([[10, 20, 30],\n",
       "       [20, 30, 40],\n",
       "       [50, 60, 70]])"
      ]
     },
     "execution_count": 71,
     "metadata": {},
     "output_type": "execute_result"
    }
   ],
   "source": [
    "benimMatrisDizim"
   ]
  },
  {
   "cell_type": "code",
   "execution_count": 72,
   "id": "43c79525-a0d1-49f1-840a-20b7a57fa89c",
   "metadata": {},
   "outputs": [
    {
     "data": {
      "text/plain": [
       "array([10, 20, 30])"
      ]
     },
     "execution_count": 72,
     "metadata": {},
     "output_type": "execute_result"
    }
   ],
   "source": [
    "benimMatrisDizim[0] # 0. indexteki satırı verecektir"
   ]
  },
  {
   "cell_type": "code",
   "execution_count": 80,
   "id": "a883693c-7692-42b2-86d0-8f73c8028ddf",
   "metadata": {},
   "outputs": [
    {
     "data": {
      "text/plain": [
       "40"
      ]
     },
     "execution_count": 80,
     "metadata": {},
     "output_type": "execute_result"
    }
   ],
   "source": [
    "benimMatrisDizim[1][2] # 1. index satırından 2. indexe sahip olan sütundaki değeri getirir yani 60'ı getirecektir"
   ]
  },
  {
   "cell_type": "code",
   "execution_count": 81,
   "id": "3dcb2689-d306-4e76-aa9c-b347a250fcd6",
   "metadata": {},
   "outputs": [
    {
     "data": {
      "text/plain": [
       "40"
      ]
     },
     "execution_count": 81,
     "metadata": {},
     "output_type": "execute_result"
    }
   ],
   "source": [
    "benimMatrisDizim[1,2] # yukarıdaki yazımla burası arasında fark yoktur --> row: 1 , column: 2"
   ]
  },
  {
   "cell_type": "code",
   "execution_count": 83,
   "id": "1c9c6bf2-2f95-4ce9-b5f2-a4ba42b47033",
   "metadata": {},
   "outputs": [
    {
     "data": {
      "text/plain": [
       "array([40, 70])"
      ]
     },
     "execution_count": 83,
     "metadata": {},
     "output_type": "execute_result"
    }
   ],
   "source": [
    "benimMatrisDizim[1:,2] # starting index olan birinci satırı es geç ikinci ve üçüncü satırları seçer sütunların da 2. indexini seç..."
   ]
  },
  {
   "cell_type": "code",
   "execution_count": 85,
   "id": "21b83676-c82d-4213-a999-f193efab6952",
   "metadata": {},
   "outputs": [
    {
     "data": {
      "text/plain": [
       "array([[60, 70]])"
      ]
     },
     "execution_count": 85,
     "metadata": {},
     "output_type": "execute_result"
    }
   ],
   "source": [
    "benimMatrisDizim[2:,1:] # starting index olan 2. satırı es geçti yine aynı şekilde 1. index olan column'ı da es geçti 60,70'i yazdırdı"
   ]
  },
  {
   "cell_type": "code",
   "execution_count": 86,
   "id": "59038590-1154-4754-abd3-900a5e4f636e",
   "metadata": {},
   "outputs": [],
   "source": [
    "yeniListe = [[1,2,3,4,5],[6,7,8,9,10],[11,12,13,14,15],[16,17,18,19,20],[21,22,23,24,25]]"
   ]
  },
  {
   "cell_type": "code",
   "execution_count": 87,
   "id": "90595b0c-4216-44db-9e06-10782122394f",
   "metadata": {},
   "outputs": [],
   "source": [
    "yeniMatris = np.array(yeniListe)"
   ]
  },
  {
   "cell_type": "code",
   "execution_count": 88,
   "id": "36d89a63-61bd-4a04-a9a5-e2a1f12b5302",
   "metadata": {},
   "outputs": [
    {
     "data": {
      "text/plain": [
       "array([[ 1,  2,  3,  4,  5],\n",
       "       [ 6,  7,  8,  9, 10],\n",
       "       [11, 12, 13, 14, 15],\n",
       "       [16, 17, 18, 19, 20],\n",
       "       [21, 22, 23, 24, 25]])"
      ]
     },
     "execution_count": 88,
     "metadata": {},
     "output_type": "execute_result"
    }
   ],
   "source": [
    "yeniMatris"
   ]
  },
  {
   "cell_type": "code",
   "execution_count": 90,
   "id": "e72543fb-c80d-47c9-be81-f8a3fc10fd7d",
   "metadata": {},
   "outputs": [
    {
     "data": {
      "text/plain": [
       "array([[21, 22, 23, 24, 25],\n",
       "       [11, 12, 13, 14, 15],\n",
       "       [ 1,  2,  3,  4,  5]])"
      ]
     },
     "execution_count": 90,
     "metadata": {},
     "output_type": "execute_result"
    }
   ],
   "source": [
    "yeniMatris[[4,2,0]] # 4. satırdaki değer, 2. satırdaki değer, 0. satırdaki değer --> bunların her birini seçti"
   ]
  },
  {
   "cell_type": "code",
   "execution_count": 92,
   "id": "08b09683-0402-4fff-8253-2522158c17cc",
   "metadata": {},
   "outputs": [
    {
     "data": {
      "text/plain": [
       "numpy.ndarray"
      ]
     },
     "execution_count": 92,
     "metadata": {},
     "output_type": "execute_result"
    }
   ],
   "source": [
    "type(yeniMatris[[4,2,0]]) # array türünde olmaya devam edecektir."
   ]
  },
  {
   "cell_type": "markdown",
   "id": "ccd8c249-084a-410d-9bdf-ee5fa2e2b544",
   "metadata": {},
   "source": [
    "#### operasyonlar"
   ]
  },
  {
   "cell_type": "code",
   "execution_count": 95,
   "id": "331f1017-87b5-4497-8487-8b8fdcbe5633",
   "metadata": {},
   "outputs": [],
   "source": [
    "yeniBirDizi = np.random.randint(0,100,20) #0'dan 100'e kadar rastgele 20 adet sayı üret ve arraya aktar"
   ]
  },
  {
   "cell_type": "code",
   "execution_count": 96,
   "id": "d24210b9-e3a8-4247-a122-6d33a386aca1",
   "metadata": {},
   "outputs": [
    {
     "data": {
      "text/plain": [
       "array([ 3, 74, 19, 11, 36, 47,  0, 38, 62, 61, 37, 72, 22, 23, 97, 49, 86,\n",
       "       13, 20, 16])"
      ]
     },
     "execution_count": 96,
     "metadata": {},
     "output_type": "execute_result"
    }
   ],
   "source": [
    "yeniBirDizi"
   ]
  },
  {
   "cell_type": "code",
   "execution_count": 97,
   "id": "8483a2f0-7c66-48d1-b12a-e3beb22a0cfd",
   "metadata": {},
   "outputs": [
    {
     "data": {
      "text/plain": [
       "array([False,  True, False, False,  True,  True, False,  True,  True,\n",
       "        True,  True,  True, False, False,  True,  True,  True, False,\n",
       "       False, False])"
      ]
     },
     "execution_count": 97,
     "metadata": {},
     "output_type": "execute_result"
    }
   ],
   "source": [
    "yeniBirDizi > 24 # dizi içerisinde 24'ten büyük değerleri true veya false olarak döndürecektir..."
   ]
  },
  {
   "cell_type": "code",
   "execution_count": 100,
   "id": "bdb11590-0f57-4b2d-aa64-e32099089e5d",
   "metadata": {},
   "outputs": [],
   "source": [
    "sonucDizisi = yeniBirDizi > 24 # dizi içerisindeki 24'ten büyük değerleri true veya false olarak döndürür ve değişkene atar"
   ]
  },
  {
   "cell_type": "code",
   "execution_count": 101,
   "id": "3790ebdc-cb9e-4e8e-acd2-0127a99770ba",
   "metadata": {},
   "outputs": [
    {
     "data": {
      "text/plain": [
       "array([False,  True, False, False,  True,  True, False,  True,  True,\n",
       "        True,  True,  True, False, False,  True,  True,  True, False,\n",
       "       False, False])"
      ]
     },
     "execution_count": 101,
     "metadata": {},
     "output_type": "execute_result"
    }
   ],
   "source": [
    "sonucDizisi # değişkeni görüntüledik"
   ]
  },
  {
   "cell_type": "code",
   "execution_count": 102,
   "id": "b985d266-16a9-4fa6-a184-d6a43dc012dd",
   "metadata": {},
   "outputs": [
    {
     "data": {
      "text/plain": [
       "array([ 3, 74, 19, 11, 36, 47,  0, 38, 62, 61, 37, 72, 22, 23, 97, 49, 86,\n",
       "       13, 20, 16])"
      ]
     },
     "execution_count": 102,
     "metadata": {},
     "output_type": "execute_result"
    }
   ],
   "source": [
    "yeniBirDizi"
   ]
  },
  {
   "cell_type": "code",
   "execution_count": 104,
   "id": "927fcc80-7c34-4568-bf9c-b1cb0c725161",
   "metadata": {},
   "outputs": [
    {
     "data": {
      "text/plain": [
       "array([74, 36, 47, 38, 62, 61, 37, 72, 97, 49, 86])"
      ]
     },
     "execution_count": 104,
     "metadata": {},
     "output_type": "execute_result"
    }
   ],
   "source": [
    "yeniBirDizi[sonucDizisi] # 24'ten büyük sayıları bize filtreliyor yani true false döndürmek yerine direkt sayıları yazıyor"
   ]
  },
  {
   "cell_type": "code",
   "execution_count": 105,
   "id": "fc6fefaa-113e-46e9-9222-14cc393a264d",
   "metadata": {},
   "outputs": [
    {
     "data": {
      "text/plain": [
       "array([ 3, 74, 19, 11, 36, 47,  0, 38, 62, 61, 37, 72, 22, 23, 97, 49, 86,\n",
       "       13, 20, 16])"
      ]
     },
     "execution_count": 105,
     "metadata": {},
     "output_type": "execute_result"
    }
   ],
   "source": [
    "yeniBirDizi # dizinin içerisinde bir değişiklik söz konusu değil..."
   ]
  },
  {
   "cell_type": "markdown",
   "id": "26010e59-805e-4742-8e8e-98ae6e739bc4",
   "metadata": {},
   "source": [
    "> sonuc dizisine ihtiyaç duymadan da değiştirebilirsin"
   ]
  },
  {
   "cell_type": "code",
   "execution_count": 107,
   "id": "84c876f1-fb82-4543-80de-b9a70cd18689",
   "metadata": {},
   "outputs": [
    {
     "data": {
      "text/plain": [
       "array([74, 36, 47, 38, 62, 61, 37, 72, 97, 49, 86])"
      ]
     },
     "execution_count": 107,
     "metadata": {},
     "output_type": "execute_result"
    }
   ],
   "source": [
    "yeniBirDizi[yeniBirDizi > 24] # bunu herhangi bir değişkene atamadan da 24'ten büyük sayıları filtreleyebilirsin"
   ]
  },
  {
   "cell_type": "code",
   "execution_count": 108,
   "id": "dcd2193a-cf5f-410f-a84c-05cafcd2d7e0",
   "metadata": {},
   "outputs": [],
   "source": [
    "sonDizi = np.arange(0,24)"
   ]
  },
  {
   "cell_type": "code",
   "execution_count": 109,
   "id": "b5723d96-b5af-42b2-9091-7339b8de1827",
   "metadata": {},
   "outputs": [
    {
     "data": {
      "text/plain": [
       "array([ 0,  1,  2,  3,  4,  5,  6,  7,  8,  9, 10, 11, 12, 13, 14, 15, 16,\n",
       "       17, 18, 19, 20, 21, 22, 23])"
      ]
     },
     "execution_count": 109,
     "metadata": {},
     "output_type": "execute_result"
    }
   ],
   "source": [
    "sonDizi"
   ]
  },
  {
   "cell_type": "code",
   "execution_count": 110,
   "id": "ea3447d4-d486-441a-b386-93bf53d5dd31",
   "metadata": {},
   "outputs": [
    {
     "data": {
      "text/plain": [
       "array([ 0,  2,  4,  6,  8, 10, 12, 14, 16, 18, 20, 22, 24, 26, 28, 30, 32,\n",
       "       34, 36, 38, 40, 42, 44, 46])"
      ]
     },
     "execution_count": 110,
     "metadata": {},
     "output_type": "execute_result"
    }
   ],
   "source": [
    "sonDizi + sonDizi # iki aynı diziyi topladım..."
   ]
  },
  {
   "cell_type": "code",
   "execution_count": 111,
   "id": "088241f9-3eea-4712-8666-7539ac746c17",
   "metadata": {},
   "outputs": [
    {
     "data": {
      "text/plain": [
       "array([0, 0, 0, 0, 0, 0, 0, 0, 0, 0, 0, 0, 0, 0, 0, 0, 0, 0, 0, 0, 0, 0,\n",
       "       0, 0])"
      ]
     },
     "execution_count": 111,
     "metadata": {},
     "output_type": "execute_result"
    }
   ],
   "source": [
    "sonDizi - sonDizi # iki aynı diziyi çıkartırım sıfır dizisini verecektir."
   ]
  },
  {
   "cell_type": "code",
   "execution_count": 113,
   "id": "3e5b74d0-3887-4f40-829a-2568a5916c61",
   "metadata": {},
   "outputs": [
    {
     "data": {
      "text/plain": [
       "array([  0,   1,   4,   9,  16,  25,  36,  49,  64,  81, 100, 121, 144,\n",
       "       169, 196, 225, 256, 289, 324, 361, 400, 441, 484, 529])"
      ]
     },
     "execution_count": 113,
     "metadata": {},
     "output_type": "execute_result"
    }
   ],
   "source": [
    "sonDizi * sonDizi # iki aynı diziyi çarpıyor yani bir nevi karesini alma"
   ]
  },
  {
   "cell_type": "code",
   "execution_count": 115,
   "id": "ea5e33b9-61d0-449e-83d4-5633a1b72392",
   "metadata": {},
   "outputs": [],
   "source": [
    "# sonDizi / sonDizi # iki aynı diziyi bölme işlemi ---> içi tamamen 1 sayılarıyla oluşan bir dizi oluşturur 0 hariç çünkü 0/0 tanımsızdır."
   ]
  },
  {
   "cell_type": "code",
   "execution_count": 117,
   "id": "55587ebe-6490-4a67-9bc4-f12102c3d070",
   "metadata": {},
   "outputs": [
    {
     "data": {
      "text/plain": [
       "array([0.        , 1.        , 1.41421356, 1.73205081, 2.        ,\n",
       "       2.23606798, 2.44948974, 2.64575131, 2.82842712, 3.        ,\n",
       "       3.16227766, 3.31662479, 3.46410162, 3.60555128, 3.74165739,\n",
       "       3.87298335, 4.        , 4.12310563, 4.24264069, 4.35889894,\n",
       "       4.47213595, 4.58257569, 4.69041576, 4.79583152])"
      ]
     },
     "execution_count": 117,
     "metadata": {},
     "output_type": "execute_result"
    }
   ],
   "source": [
    "np.sqrt(sonDizi) # son dizinin karekökünü alır..."
   ]
  },
  {
   "cell_type": "code",
   "execution_count": 119,
   "id": "0623aac0-376d-453a-b2b3-fec8d6f12ed6",
   "metadata": {},
   "outputs": [
    {
     "data": {
      "text/plain": [
       "276"
      ]
     },
     "execution_count": 119,
     "metadata": {},
     "output_type": "execute_result"
    }
   ],
   "source": [
    "np.sum(sonDizi) #içerisindeki değerlerin tamamını toplar"
   ]
  },
  {
   "cell_type": "code",
   "execution_count": 121,
   "id": "36b13168-4469-4d44-9c04-39840eb5f605",
   "metadata": {},
   "outputs": [
    {
     "data": {
      "text/plain": [
       "11.5"
      ]
     },
     "execution_count": 121,
     "metadata": {},
     "output_type": "execute_result"
    }
   ],
   "source": [
    "np.median(sonDizi) # dizinin medianını bulur"
   ]
  },
  {
   "cell_type": "code",
   "execution_count": 123,
   "id": "c143a082-e857-4d93-a4a8-5f5fef04a9a4",
   "metadata": {},
   "outputs": [
    {
     "data": {
      "text/plain": [
       "11.5"
      ]
     },
     "execution_count": 123,
     "metadata": {},
     "output_type": "execute_result"
    }
   ],
   "source": [
    "np.mean(sonDizi) # dizinin ortalamasını verir."
   ]
  },
  {
   "cell_type": "code",
   "execution_count": 127,
   "id": "3498a249-ec9d-41b1-b13a-5bde308a77ee",
   "metadata": {},
   "outputs": [
    {
     "data": {
      "text/plain": [
       "23"
      ]
     },
     "execution_count": 127,
     "metadata": {},
     "output_type": "execute_result"
    }
   ],
   "source": [
    "np.max(sonDizi) # max değerini verir"
   ]
  },
  {
   "cell_type": "code",
   "execution_count": 128,
   "id": "d5000c01-b453-49fd-a9dc-f01a4778ed73",
   "metadata": {},
   "outputs": [
    {
     "data": {
      "text/plain": [
       "0"
      ]
     },
     "execution_count": 128,
     "metadata": {},
     "output_type": "execute_result"
    }
   ],
   "source": [
    "np.min(sonDizi) # min değerini verir."
   ]
  },
  {
   "cell_type": "code",
   "execution_count": 130,
   "id": "027160d1-27e3-4dbd-aa7c-a8ab3a8a43b3",
   "metadata": {},
   "outputs": [
    {
     "data": {
      "text/plain": [
       "6.922186552431729"
      ]
     },
     "execution_count": 130,
     "metadata": {},
     "output_type": "execute_result"
    }
   ],
   "source": [
    "np.std(sonDizi) # dizinin standart sapmasını verir"
   ]
  },
  {
   "cell_type": "code",
   "execution_count": null,
   "id": "e519b20e-7bbd-4911-9f9f-fadf3205845f",
   "metadata": {},
   "outputs": [],
   "source": []
  }
 ],
 "metadata": {
  "kernelspec": {
   "display_name": "Python 3 (ipykernel)",
   "language": "python",
   "name": "python3"
  },
  "language_info": {
   "codemirror_mode": {
    "name": "ipython",
    "version": 3
   },
   "file_extension": ".py",
   "mimetype": "text/x-python",
   "name": "python",
   "nbconvert_exporter": "python",
   "pygments_lexer": "ipython3",
   "version": "3.11.5"
  }
 },
 "nbformat": 4,
 "nbformat_minor": 5
}
